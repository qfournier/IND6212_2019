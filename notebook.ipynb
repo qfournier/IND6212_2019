{
 "cells": [
  {
   "cell_type": "markdown",
   "metadata": {
    "colab_type": "text",
    "id": "09foqF_rg4sX"
   },
   "source": [
    "# IND6212 Project\n",
    "---"
   ]
  },
  {
   "cell_type": "markdown",
   "metadata": {
    "colab_type": "text",
    "id": "EqaDy0-OkSoj"
   },
   "source": [
    "# Preprocessing"
   ]
  },
  {
   "cell_type": "code",
   "execution_count": 1,
   "metadata": {
    "colab": {},
    "colab_type": "code",
    "id": "hJEkOKsOmOe6"
   },
   "outputs": [],
   "source": [
    "# import libraries\n",
    "import csv\n",
    "import numpy as np"
   ]
  },
  {
   "cell_type": "code",
   "execution_count": 2,
   "metadata": {
    "colab": {
     "base_uri": "https://localhost:8080/",
     "height": 34
    },
    "colab_type": "code",
    "executionInfo": {
     "elapsed": 827,
     "status": "ok",
     "timestamp": 1551477002852,
     "user": {
      "displayName": "Quentin Fournier",
      "photoUrl": "https://lh3.googleusercontent.com/--7LcocvGIHw/AAAAAAAAAAI/AAAAAAAAAA0/3JKWMmHuo-I/s64/photo.jpg",
      "userId": "15777129185599330219"
     },
     "user_tz": 300
    },
    "id": "zAI5juMCi9NW",
    "outputId": "f42d7049-e473-43ee-8bc1-27941d302069"
   },
   "outputs": [],
   "source": [
    "# if runned on colaboratory\n",
    "GOOGLE = False\n",
    "if GOOGLE:\n",
    "    # Load the Drive helper and mount\n",
    "    from google.colab import drive\n",
    "    drive.mount('/content/drive/')\n",
    "    path = \"/content/drive/My Drive/EPM/PhD/IND6212/Projet/\"\n",
    "else:\n",
    "    path = \"\""
   ]
  },
  {
   "cell_type": "code",
   "execution_count": 3,
   "metadata": {
    "colab": {},
    "colab_type": "code",
    "id": "2U3Rv1zlnD4l"
   },
   "outputs": [],
   "source": [
    "# read intakes\n",
    "with open('{}data/aac_intakes.csv'.format(path), 'r') as file:\n",
    "    reader = csv.reader(file)\n",
    "    header_intake = next(reader)\n",
    "    intakes = [[value for value in row] for row in reader]"
   ]
  },
  {
   "cell_type": "code",
   "execution_count": 4,
   "metadata": {
    "colab": {},
    "colab_type": "code",
    "id": "yiA6eZAn6y7H"
   },
   "outputs": [],
   "source": [
    "# read outcomes\n",
    "with open('{}data/aac_outcomes.csv'.format(path), 'r') as file:\n",
    "    reader = csv.reader(file)\n",
    "    header_outcome = next(reader)\n",
    "    outcomes = [[value for value in row] for row in reader]"
   ]
  },
  {
   "cell_type": "code",
   "execution_count": 5,
   "metadata": {
    "colab": {},
    "colab_type": "code",
    "id": "QzKchubB-Aut"
   },
   "outputs": [],
   "source": [
    "# convert numpy array\n",
    "header_intake = np.asarray(header_intake)\n",
    "header_outcome = np.asarray(header_outcome)\n",
    "\n",
    "intakes = np.asarray(intakes)\n",
    "outcomes = np.asarray(outcomes)"
   ]
  },
  {
   "cell_type": "code",
   "execution_count": 6,
   "metadata": {
    "colab": {
     "base_uri": "https://localhost:8080/",
     "height": 247
    },
    "colab_type": "code",
    "executionInfo": {
     "elapsed": 2115,
     "status": "ok",
     "timestamp": 1551477004171,
     "user": {
      "displayName": "Quentin Fournier",
      "photoUrl": "https://lh3.googleusercontent.com/--7LcocvGIHw/AAAAAAAAAAI/AAAAAAAAAA0/3JKWMmHuo-I/s64/photo.jpg",
      "userId": "15777129185599330219"
     },
     "user_tz": 300
    },
    "id": "xNdn1KsaCQ8i",
    "outputId": "4837489c-c814-4366-8106-f8091ed16672"
   },
   "outputs": [
    {
     "name": "stdout",
     "output_type": "stream",
     "text": [
      "Intakes\n",
      "0 : age_upon_intake\n",
      "1 : animal_id\n",
      "2 : animal_type\n",
      "3 : breed\n",
      "4 : color\n",
      "5 : datetime\n",
      "6 : datetime2\n",
      "7 : found_location\n",
      "8 : intake_condition\n",
      "9 : intake_type\n",
      "10 : name\n",
      "11 : sex_upon_intake\n"
     ]
    }
   ],
   "source": [
    "print(\"Intakes\")\n",
    "for i, c in enumerate(header_intake):\n",
    "    print(\"{} : {}\".format(i, c))"
   ]
  },
  {
   "cell_type": "code",
   "execution_count": 7,
   "metadata": {
    "colab": {
     "base_uri": "https://localhost:8080/",
     "height": 247
    },
    "colab_type": "code",
    "executionInfo": {
     "elapsed": 2107,
     "status": "ok",
     "timestamp": 1551477004172,
     "user": {
      "displayName": "Quentin Fournier",
      "photoUrl": "https://lh3.googleusercontent.com/--7LcocvGIHw/AAAAAAAAAAI/AAAAAAAAAA0/3JKWMmHuo-I/s64/photo.jpg",
      "userId": "15777129185599330219"
     },
     "user_tz": 300
    },
    "id": "UM6iq1A7g4sx",
    "outputId": "023cb6b5-56db-4e15-b635-d63a6db48c89"
   },
   "outputs": [
    {
     "name": "stdout",
     "output_type": "stream",
     "text": [
      "Outcomes\n",
      "0 : age_upon_outcome\n",
      "1 : animal_id\n",
      "2 : animal_type\n",
      "3 : breed\n",
      "4 : color\n",
      "5 : date_of_birth\n",
      "6 : datetime\n",
      "7 : monthyear\n",
      "8 : name\n",
      "9 : outcome_subtype\n",
      "10 : outcome_type\n",
      "11 : sex_upon_outcome\n"
     ]
    }
   ],
   "source": [
    "print(\"Outcomes\")\n",
    "for i, c in enumerate(header_outcome):\n",
    "    print(\"{} : {}\".format(i, c))"
   ]
  },
  {
   "cell_type": "code",
   "execution_count": 8,
   "metadata": {
    "colab": {
     "base_uri": "https://localhost:8080/",
     "height": 34
    },
    "colab_type": "code",
    "executionInfo": {
     "elapsed": 288277,
     "status": "ok",
     "timestamp": 1551477290352,
     "user": {
      "displayName": "Quentin Fournier",
      "photoUrl": "https://lh3.googleusercontent.com/--7LcocvGIHw/AAAAAAAAAAI/AAAAAAAAAA0/3JKWMmHuo-I/s64/photo.jpg",
      "userId": "15777129185599330219"
     },
     "user_tz": 300
    },
    "id": "2-znohIVH8QD",
    "outputId": "9fbafda1-ac16-4f5f-99c5-60f0c020021f"
   },
   "outputs": [
    {
     "name": "stdout",
     "output_type": "stream",
     "text": [
      "79776 | 411                                                                                                                                                                        "
     ]
    }
   ],
   "source": [
    "# get the last outcome (it can be transfered multiple times, we want the last update)\n",
    "# if no outcome, then we remove the example (line)\n",
    "counter = 0\n",
    "data = []\n",
    "for i, x in enumerate(intakes, 1):\n",
    "    index = np.where(outcomes[:, 1] == x[1])\n",
    "    if len(index[0]) > 0 and outcomes[index[0][-1], 10]:\n",
    "        data.append(np.concatenate((x, [outcomes[index[0][-1], 10]])))\n",
    "    else:\n",
    "        counter += 1\n",
    "    print(\"\\r{} | {}\".format(i - counter, counter), end=\" \")"
   ]
  },
  {
   "cell_type": "code",
   "execution_count": 9,
   "metadata": {
    "colab": {},
    "colab_type": "code",
    "id": "pPVWHiH7MjGe"
   },
   "outputs": [],
   "source": [
    "# add the outcome to data\n",
    "data = np.asarray(data)\n",
    "header = np.concatenate((header_intake, [\"outcome\"]))"
   ]
  },
  {
   "cell_type": "markdown",
   "metadata": {
    "colab_type": "text",
    "id": "QzqER2neg4s5"
   },
   "source": [
    "The author of the dataset explained that Rto-Adopt = Return to Owner and Disposal = Died (see [link](https://www.kaggle.com/aaronschlegel/austin-animal-center-shelter-intakes-and-outcomes/discussion/56707#latest-329163))"
   ]
  },
  {
   "cell_type": "code",
   "execution_count": 10,
   "metadata": {
    "colab": {},
    "colab_type": "code",
    "id": "rvB9y_1og4s5",
    "scrolled": true
   },
   "outputs": [],
   "source": [
    "for row in data:\n",
    "    if row[-1] == \"Rto-Adopt\":\n",
    "        row[-1]=\"Return to Owner\"\n",
    "    if row[-1] == \"Disposal\":\n",
    "        row[-1]=\"Died\""
   ]
  },
  {
   "cell_type": "code",
   "execution_count": 11,
   "metadata": {
    "colab": {},
    "colab_type": "code",
    "id": "N00JRUjAM_vU"
   },
   "outputs": [],
   "source": [
    "# remove the animal id\n",
    "data = np.delete(data, 1, axis=1)\n",
    "header = np.delete(header, 1, axis=0)"
   ]
  },
  {
   "cell_type": "code",
   "execution_count": 12,
   "metadata": {
    "colab": {},
    "colab_type": "code",
    "id": "sCfUmh8QSIr9"
   },
   "outputs": [],
   "source": [
    "# convert intake date into a real value (year)\n",
    "for x in data:\n",
    "    s = x[0].split()\n",
    "    if \"year\" in s[1]:\n",
    "        x[0] = float(s[0])\n",
    "    if \"month\" in s[1]:\n",
    "        x[0] = float(s[0]) / 12.\n",
    "    if \"week\" in s[1]:\n",
    "        x[0] = float(s[0]) / 52.\n",
    "    if \"day\" in s[1]:\n",
    "        x[0] = float(s[0]) / 365."
   ]
  },
  {
   "cell_type": "code",
   "execution_count": 13,
   "metadata": {
    "colab": {},
    "colab_type": "code",
    "id": "24LjYC4JaCfB"
   },
   "outputs": [],
   "source": [
    "# convertir animal breed to integer\n",
    "mapping_breed, breed_int = np.unique(data[:, 2], return_inverse=True)\n",
    "data = np.delete(data, [1, 2], axis=1)\n",
    "header = np.delete(header, [1, 2], axis=0)\n",
    "data = np.concatenate((data, breed_int.reshape(-1, 1)), axis=1)\n",
    "header = np.concatenate((header, [\"animal_breed\"]))"
   ]
  },
  {
   "cell_type": "code",
   "execution_count": 14,
   "metadata": {},
   "outputs": [
    {
     "name": "stdout",
     "output_type": "stream",
     "text": [
      "['Abyssinian Mix' 'Affenpinscher Mix' 'Afghan Hound Mix' ...\n",
      " 'Yorkshire Terrier/Standard Poodle' 'Yorkshire Terrier/Toy Poodle'\n",
      " 'Yorkshire Terrier/Yorkshire Terrier']\n"
     ]
    }
   ],
   "source": [
    "print(mapping_breed)"
   ]
  },
  {
   "cell_type": "code",
   "execution_count": 15,
   "metadata": {
    "colab": {},
    "colab_type": "code",
    "id": "Apsu7ZCqg4tB"
   },
   "outputs": [],
   "source": [
    "# convert color to integer\n",
    "mapping_color, color_int = np.unique(data[:, 1], return_inverse=True)\n",
    "data = np.delete(data, 1, axis=1)\n",
    "header = np.delete(header, 1, axis=0)\n",
    "data = np.concatenate((data, color_int.reshape(-1, 1)), axis=1)\n",
    "header = np.concatenate((header, [\"color\"]))"
   ]
  },
  {
   "cell_type": "code",
   "execution_count": 16,
   "metadata": {
    "colab": {},
    "colab_type": "code",
    "id": "yy91Fa7Kg4tE"
   },
   "outputs": [],
   "source": [
    "# remove location\n",
    "data = np.delete(data, 3, axis=1)\n",
    "header = np.delete(header, 3, axis=0)"
   ]
  },
  {
   "cell_type": "code",
   "execution_count": 17,
   "metadata": {
    "colab": {
     "base_uri": "https://localhost:8080/",
     "height": 34
    },
    "colab_type": "code",
    "executionInfo": {
     "elapsed": 290617,
     "status": "ok",
     "timestamp": 1551477292742,
     "user": {
      "displayName": "Quentin Fournier",
      "photoUrl": "https://lh3.googleusercontent.com/--7LcocvGIHw/AAAAAAAAAAI/AAAAAAAAAA0/3JKWMmHuo-I/s64/photo.jpg",
      "userId": "15777129185599330219"
     },
     "user_tz": 300
    },
    "id": "PwCH89Ejg4tG",
    "outputId": "dcb4a61b-5bac-4d9b-ca5e-7f034bee3e2a"
   },
   "outputs": [
    {
     "name": "stdout",
     "output_type": "stream",
     "text": [
      "Datetime duplicated\n"
     ]
    }
   ],
   "source": [
    "# check if datetime and datetime2 are identical\n",
    "if np.array_equal(data[:, 1], data[:, 2]):\n",
    "    print(\"Datetime duplicated\")\n",
    "else:\n",
    "    print(\"Datetime not duplicated\")"
   ]
  },
  {
   "cell_type": "code",
   "execution_count": 18,
   "metadata": {
    "colab": {},
    "colab_type": "code",
    "id": "ECbYDh4ig4tL"
   },
   "outputs": [],
   "source": [
    "# remove datetime2\n",
    "data = np.delete(data, 2, axis=1)\n",
    "header = np.delete(header, 2, axis=0)"
   ]
  },
  {
   "cell_type": "code",
   "execution_count": 19,
   "metadata": {
    "colab": {},
    "colab_type": "code",
    "id": "BtwcAr11g4tP"
   },
   "outputs": [],
   "source": [
    "# convert condition to integer\n",
    "mapping_condition, condition_int = np.unique(data[:, 2], return_inverse=True)\n",
    "data = np.delete(data, 2, axis=1)\n",
    "header = np.delete(header, 2, axis=0)\n",
    "data = np.concatenate((data, condition_int.reshape(-1,1)), axis=1)\n",
    "header = np.concatenate((header, [\"condition\"]))"
   ]
  },
  {
   "cell_type": "code",
   "execution_count": 20,
   "metadata": {
    "colab": {},
    "colab_type": "code",
    "id": "9Ed7Ljabg4tT"
   },
   "outputs": [],
   "source": [
    "# convert type to integer\n",
    "mapping_type, type_int = np.unique(data[:, 2], return_inverse=True)\n",
    "data = np.delete(data, 2, axis=1)\n",
    "header = np.delete(header, 2, axis=0)\n",
    "data = np.concatenate((data, type_int.reshape(-1,1)), axis=1)\n",
    "header = np.concatenate((header, [\"type\"]))"
   ]
  },
  {
   "cell_type": "code",
   "execution_count": 21,
   "metadata": {
    "colab": {
     "base_uri": "https://localhost:8080/",
     "height": 176
    },
    "colab_type": "code",
    "executionInfo": {
     "elapsed": 291706,
     "status": "ok",
     "timestamp": 1551477293855,
     "user": {
      "displayName": "Quentin Fournier",
      "photoUrl": "https://lh3.googleusercontent.com/--7LcocvGIHw/AAAAAAAAAAI/AAAAAAAAAA0/3JKWMmHuo-I/s64/photo.jpg",
      "userId": "15777129185599330219"
     },
     "user_tz": 300
    },
    "id": "sWFziQ0ag4tV",
    "outputId": "b0c2f068-bb79-4e79-e5df-a09a12f1d63d"
   },
   "outputs": [
    {
     "name": "stdout",
     "output_type": "stream",
     "text": [
      "Outcome              |    with name    |  without name  \n",
      "--------------------------------------------------------\n",
      "Missing              |      0.06%      |      0.04%     \n",
      "Relocate             |      0.00%      |      0.06%     \n",
      "Return to Owner      |     25.85%      |      1.91%     \n",
      "Adoption             |     50.43%      |     23.37%     \n",
      "Euthanasia           |      2.66%      |     19.92%     \n",
      "Transfer             |     20.55%      |     51.64%     \n",
      "Died                 |      0.45%      |      3.05%     \n"
     ]
    }
   ],
   "source": [
    "# check if name as any impact\n",
    "out = list(set(data[:,4]))\n",
    "out_name = [0 for _ in out]\n",
    "out_noname = [0 for _ in out]\n",
    "name, noname = 0, 0\n",
    "\n",
    "for d in data:\n",
    "    if d[2]:\n",
    "        name += 1\n",
    "        out_name[out.index(d[4])] += 1\n",
    "    else:\n",
    "        noname += 1\n",
    "        out_noname[out.index(d[4])] += 1\n",
    "out_noname = [o/noname for o in out_noname]\n",
    "out_name = [o/name for o in out_name]\n",
    "\n",
    "print(\"{:20s} | {:^15s} | {:^15s}\".format(\"Outcome\", \"with name\", \"without name\"))\n",
    "print(\"-\"*56)\n",
    "for a, b, c in zip(out, out_name, out_noname):\n",
    "    print(\"{:20s} | {:^15.2%} | {:^15.2%}\".format(a, b, c))"
   ]
  },
  {
   "cell_type": "code",
   "execution_count": 22,
   "metadata": {
    "colab": {},
    "colab_type": "code",
    "id": "PXZEYnVsg4tY"
   },
   "outputs": [],
   "source": [
    "# the presence of a name seems to have an impact on the outcome\n",
    "# its value should not have any effect (difficult to evaluate)\n",
    "# replace absence of a name by 0 and presence of a name by 1\n",
    "for row in data:\n",
    "    row[2] = 1 if row[2] else 0"
   ]
  },
  {
   "cell_type": "code",
   "execution_count": 23,
   "metadata": {
    "colab": {
     "base_uri": "https://localhost:8080/",
     "height": 123
    },
    "colab_type": "code",
    "executionInfo": {
     "elapsed": 292044,
     "status": "ok",
     "timestamp": 1551477294203,
     "user": {
      "displayName": "Quentin Fournier",
      "photoUrl": "https://lh3.googleusercontent.com/--7LcocvGIHw/AAAAAAAAAAI/AAAAAAAAAA0/3JKWMmHuo-I/s64/photo.jpg",
      "userId": "15777129185599330219"
     },
     "user_tz": 300
    },
    "id": "fBGop2vKg4ta",
    "outputId": "57c66273-2f63-497e-e47d-308827a6678b"
   },
   "outputs": [
    {
     "name": "stdout",
     "output_type": "stream",
     "text": [
      "Intact Female        :  23739 ( 29.8%)\n",
      "Intact Male          :  25355 ( 31.8%)\n",
      "NULL                 :      1 (  0.0%)\n",
      "Neutered Male        :  12728 ( 16.0%)\n",
      "Spayed Female        :  11168 ( 14.0%)\n",
      "Unknown              :   6785 (  8.5%)\n"
     ]
    }
   ],
   "source": [
    "# sex analysis\n",
    "sex, count = np.unique(data[:, 3], return_counts=True)\n",
    "for s, c in zip(sex, count):\n",
    "    print(\"{:20s} : {:6d} ({:6.1%})\".format(s, c, c / data.shape[0]))"
   ]
  },
  {
   "cell_type": "code",
   "execution_count": 24,
   "metadata": {
    "colab": {
     "base_uri": "https://localhost:8080/",
     "height": 141
    },
    "colab_type": "code",
    "executionInfo": {
     "elapsed": 292272,
     "status": "ok",
     "timestamp": 1551477294437,
     "user": {
      "displayName": "Quentin Fournier",
      "photoUrl": "https://lh3.googleusercontent.com/--7LcocvGIHw/AAAAAAAAAAI/AAAAAAAAAA0/3JKWMmHuo-I/s64/photo.jpg",
      "userId": "15777129185599330219"
     },
     "user_tz": 300
    },
    "id": "3PUpAk9dg4td",
    "outputId": "f382e5da-8a0a-4ac9-e568-5782e1265bf2"
   },
   "outputs": [
    {
     "name": "stdout",
     "output_type": "stream",
     "text": [
      "                 Missing       Relocate   Return to Owner   Adoption     Euthanasia     Transfer        Died     \n",
      "   Unknown          2             14            84            70           3392          2747          476      \n",
      "Spayed Female       4             0            3950          4690          377           2099           48      \n",
      "Intact Female       19            1            2246         11972          882           8447          172      \n",
      "     NULL           0             0             1             0             0             0             0       \n",
      "Neutered Male       3             0            4958          4699          597           2429           42      \n",
      " Intact Male        18            0            3523         12178          1099          8282          255      \n"
     ]
    }
   ],
   "source": [
    "# check if name as any impact\n",
    "out = list(set(data[:, 4]))\n",
    "sex = list(set(data[:, 3]))\n",
    "table = [[0 for _ in out] for _ in sex]\n",
    "for d in data:\n",
    "    table[sex.index(d[3])][out.index(d[4])] += 1\n",
    "\n",
    "print(\" \" * 14, end=\"\")\n",
    "for o in out:\n",
    "    print(\"{:^14s}\".format(o), end=\"\")\n",
    "print(\"\")\n",
    "for i, s in zip(table, sex):\n",
    "    print(\"{:^14s}\".format(s), end=\"\")\n",
    "    for j in i:\n",
    "        print(\"{:^14d}\".format(j), end=\"\")\n",
    "    print(\"\")"
   ]
  },
  {
   "cell_type": "code",
   "execution_count": 25,
   "metadata": {
    "colab": {},
    "colab_type": "code",
    "id": "WY_wF-TKg4tf"
   },
   "outputs": [],
   "source": [
    "# we cannot remove unknown because it seems to have an impact on the outcome (extremly low adoption rate)\n",
    "# there is only one NULL, which is suspect, we'll remove this\n",
    "id = np.where(data[:,3] == \"NULL\")[0][0]\n",
    "data = np.delete(data, id, axis=0)"
   ]
  },
  {
   "cell_type": "code",
   "execution_count": 26,
   "metadata": {
    "colab": {},
    "colab_type": "code",
    "id": "eGUIgO14g4th"
   },
   "outputs": [],
   "source": [
    "# convert sex to integer\n",
    "mapping_sex, sex_int = np.unique(data[:, 3], return_inverse=True)\n",
    "data = np.delete(data, 3, axis=1)\n",
    "header = np.delete(header, 3, axis=0)\n",
    "data = np.concatenate((data, sex_int.reshape(-1,1)), axis=1)\n",
    "header = np.concatenate((header, [\"sex\"]))"
   ]
  },
  {
   "cell_type": "code",
   "execution_count": 27,
   "metadata": {
    "colab": {},
    "colab_type": "code",
    "id": "YfEKOAaJg4ti"
   },
   "outputs": [],
   "source": [
    "# keep only month for datetime\n",
    "mapping_sex, sex_int = np.unique(data[:, 3], return_inverse=True)\n",
    "for d in data:\n",
    "    d[1] = int(d[1].split(\"-\")[1])"
   ]
  },
  {
   "cell_type": "code",
   "execution_count": 28,
   "metadata": {
    "colab": {},
    "colab_type": "code",
    "id": "bUFU8EbShYB0"
   },
   "outputs": [],
   "source": [
    "# put labels (outcomes) in separate matrix\n",
    "mapping_outcome, labels, outcomes_count = np.unique(data[:, 3], return_inverse=True, return_counts=True)\n",
    "x = np.delete(data, 3, axis=1)\n",
    "header = np.delete(header, 3, axis=0)"
   ]
  },
  {
   "cell_type": "code",
   "execution_count": 29,
   "metadata": {
    "colab": {
     "base_uri": "https://localhost:8080/",
     "height": 52
    },
    "colab_type": "code",
    "executionInfo": {
     "elapsed": 293248,
     "status": "ok",
     "timestamp": 1551477295440,
     "user": {
      "displayName": "Quentin Fournier",
      "photoUrl": "https://lh3.googleusercontent.com/--7LcocvGIHw/AAAAAAAAAAI/AAAAAAAAAA0/3JKWMmHuo-I/s64/photo.jpg",
      "userId": "15777129185599330219"
     },
     "user_tz": 300
    },
    "id": "FQm6iZX6ywLl",
    "outputId": "1e2ced66-2ef6-4815-ae6f-0fa6d264e2f2",
    "scrolled": true
   },
   "outputs": [
    {
     "name": "stdout",
     "output_type": "stream",
     "text": [
      "Adoption             :      33609 (42.13%)\n",
      "Died                 :        993 (1.24%)\n",
      "Euthanasia           :       6347 (7.96%)\n",
      "Missing              :         46 (0.06%)\n",
      "Relocate             :         15 (0.02%)\n",
      "Return to Owner      :      14761 (18.50%)\n",
      "Transfer             :      24004 (30.09%)\n"
     ]
    }
   ],
   "source": [
    "for o, c in zip(mapping_outcome, outcomes_count):\n",
    "    print(\"{:20} : {:10} ({:5.2%})\".format(o, c, float(c/len(labels))))"
   ]
  },
  {
   "cell_type": "code",
   "execution_count": 30,
   "metadata": {
    "colab": {},
    "colab_type": "code",
    "id": "FbpHLX6jnKqx"
   },
   "outputs": [],
   "source": [
    "x = x.astype(\"float32\")\n",
    "labels = labels.astype(\"int\")"
   ]
  },
  {
   "cell_type": "code",
   "execution_count": 31,
   "metadata": {
    "colab": {
     "base_uri": "https://localhost:8080/",
     "height": 726
    },
    "colab_type": "code",
    "executionInfo": {
     "elapsed": 293905,
     "status": "ok",
     "timestamp": 1551477296109,
     "user": {
      "displayName": "Quentin Fournier",
      "photoUrl": "https://lh3.googleusercontent.com/--7LcocvGIHw/AAAAAAAAAAI/AAAAAAAAAA0/3JKWMmHuo-I/s64/photo.jpg",
      "userId": "15777129185599330219"
     },
     "user_tz": 300
    },
    "id": "JYkWv3OrC9_r",
    "outputId": "948c619b-9305-4f3d-ba6b-cf7c72a02e27"
   },
   "outputs": [
    {
     "name": "stdout",
     "output_type": "stream",
     "text": [
      "age_upon_intake      : 8.0\n",
      "datetime             : 7.0\n",
      "name                 : 1.0\n",
      "animal_breed         : 1007.0\n",
      "color                : 498.0\n",
      "condition            : 3.0\n",
      "type                 : 3.0\n",
      "sex                  : 3.0\n",
      "\tOutcome: 5\n",
      "-----------------------\n",
      "age_upon_intake      : 0.9166666865348816\n",
      "datetime             : 4.0\n",
      "name                 : 1.0\n",
      "animal_breed         : 231.0\n",
      "color                : 382.0\n",
      "condition            : 3.0\n",
      "type                 : 3.0\n",
      "sex                  : 1.0\n",
      "\tOutcome: 5\n",
      "-----------------------\n",
      "age_upon_intake      : 0.07692307978868484\n",
      "datetime             : 10.0\n",
      "name                 : 0.0\n",
      "animal_breed         : 952.0\n",
      "color                : 194.0\n",
      "condition            : 7.0\n",
      "type                 : 3.0\n",
      "sex                  : 0.0\n",
      "\tOutcome: 6\n",
      "-----------------------\n",
      "age_upon_intake      : 4.0\n",
      "datetime             : 6.0\n",
      "name                 : 1.0\n",
      "animal_breed         : 924.0\n",
      "color                : 415.0\n",
      "condition            : 3.0\n",
      "type                 : 3.0\n",
      "sex                  : 2.0\n",
      "\tOutcome: 5\n",
      "-----------------------\n"
     ]
    }
   ],
   "source": [
    "for i, (row, label) in enumerate(zip(x, labels)):\n",
    "    for h, value in zip(header, row):\n",
    "        print(\"{:20s} : {}\".format(h, value))\n",
    "    print(\"\\tOutcome: {}\".format(label))\n",
    "    print(\"-----------------------\")\n",
    "    if i > 2:\n",
    "        break"
   ]
  },
  {
   "cell_type": "code",
   "execution_count": 32,
   "metadata": {
    "colab": {},
    "colab_type": "code",
    "id": "R3nQLLm2oqqX"
   },
   "outputs": [],
   "source": [
    "# convert outcomes (y) to one_hot\n",
    "y = np.eye(len(set(labels)))[labels]"
   ]
  },
  {
   "cell_type": "code",
   "execution_count": 33,
   "metadata": {
    "colab": {
     "base_uri": "https://localhost:8080/",
     "height": 52
    },
    "colab_type": "code",
    "executionInfo": {
     "elapsed": 293895,
     "status": "ok",
     "timestamp": 1551477296111,
     "user": {
      "displayName": "Quentin Fournier",
      "photoUrl": "https://lh3.googleusercontent.com/--7LcocvGIHw/AAAAAAAAAAI/AAAAAAAAAA0/3JKWMmHuo-I/s64/photo.jpg",
      "userId": "15777129185599330219"
     },
     "user_tz": 300
    },
    "id": "_ElNPDB1tg3N",
    "outputId": "76d18229-e6e2-4ff1-d49c-461d32838fea"
   },
   "outputs": [
    {
     "name": "stdout",
     "output_type": "stream",
     "text": [
      "Nb attributes: 8\n",
      "Nb different outcomes: 7\n"
     ]
    }
   ],
   "source": [
    "print(\"Nb attributes: {}\".format(x.shape[1]))\n",
    "print(\"Nb different outcomes: {}\".format(len(set(labels))))"
   ]
  },
  {
   "cell_type": "markdown",
   "metadata": {
    "colab_type": "text",
    "id": "MvfvD1NNkCUj"
   },
   "source": [
    "# Model"
   ]
  },
  {
   "cell_type": "code",
   "execution_count": 34,
   "metadata": {
    "colab": {},
    "colab_type": "code",
    "id": "ocN-3UrhplT1"
   },
   "outputs": [],
   "source": [
    "from sklearn.model_selection import train_test_split\n",
    "from sklearn.preprocessing import StandardScaler\n",
    "import matplotlib.pyplot as plt"
   ]
  },
  {
   "cell_type": "code",
   "execution_count": 35,
   "metadata": {
    "colab": {},
    "colab_type": "code",
    "id": "NnYchNfu-RYu"
   },
   "outputs": [],
   "source": [
    "# function to plot the learning graphs\n",
    "def plot_history(history, name=\"\"):\n",
    "    fig, axes = plt.subplots(1, 2, figsize=(8, 4))\n",
    "\n",
    "    # summarize history for accuracy\n",
    "    axes[0].plot(history.history['acc'])\n",
    "    axes[0].plot(history.history['val_acc'])\n",
    "    axes[0].set_title('Model accuracy')\n",
    "    axes[0].set_ylabel('Accuracy')\n",
    "    axes[0].set_xlabel('Epoch')\n",
    "\n",
    "    axes[0].legend(['Train', 'Validation'], title=\"Dataset\")\n",
    "    # summarize history for loss\n",
    "    axes[1].plot(history.history['loss'])\n",
    "    axes[1].plot(history.history['val_loss'])\n",
    "    axes[1].set_title('Model loss')\n",
    "    axes[1].set_ylabel('Loss')\n",
    "    axes[1].set_xlabel('Epoch')\n",
    "    axes[1].legend(['Train', 'Validation'], title=\"Dataset\")\n",
    "\n",
    "    plt.savefig(\"figures/{}.png\".format(name), dpi=300)\n",
    "    plt.show()\n",
    "    plt.close()"
   ]
  },
  {
   "cell_type": "code",
   "execution_count": 36,
   "metadata": {
    "colab": {},
    "colab_type": "code",
    "id": "VqNz_HSy1NA-"
   },
   "outputs": [],
   "source": [
    "#normalize x\n",
    "scaler = StandardScaler()\n",
    "x_scaled = scaler.fit_transform(x)"
   ]
  },
  {
   "cell_type": "code",
   "execution_count": 37,
   "metadata": {
    "colab": {},
    "colab_type": "code",
    "id": "owpSFih7p8Wi"
   },
   "outputs": [],
   "source": [
    "# split dataset into a training, validation and test set\n",
    "x_train, x_test, y_train, y_test = train_test_split(x_scaled, y, test_size=0.2, stratify=y)\n",
    "# we split first (train/test) then (train/valid) 12.5% of 80% is the same as 10% of 100%\n",
    "x_train, x_val, y_train, y_val = train_test_split(x_train, y_train, test_size=0.125, stratify=y_train)"
   ]
  },
  {
   "cell_type": "code",
   "execution_count": 38,
   "metadata": {
    "colab": {
     "base_uri": "https://localhost:8080/",
     "height": 70
    },
    "colab_type": "code",
    "executionInfo": {
     "elapsed": 295024,
     "status": "ok",
     "timestamp": 1551477297265,
     "user": {
      "displayName": "Quentin Fournier",
      "photoUrl": "https://lh3.googleusercontent.com/--7LcocvGIHw/AAAAAAAAAAI/AAAAAAAAAA0/3JKWMmHuo-I/s64/photo.jpg",
      "userId": "15777129185599330219"
     },
     "user_tz": 300
    },
    "id": "aDcgkbijqOkN",
    "outputId": "3bc6e762-4ae2-4b2f-ad0c-1e1659facfda"
   },
   "outputs": [
    {
     "name": "stdout",
     "output_type": "stream",
     "text": [
      "(55842, 8)\n",
      "(7978, 8)\n",
      "(15955, 8)\n"
     ]
    }
   ],
   "source": [
    "print(x_train.shape)\n",
    "print(x_val.shape)\n",
    "print(x_test.shape)"
   ]
  },
  {
   "cell_type": "code",
   "execution_count": 39,
   "metadata": {
    "colab": {},
    "colab_type": "code",
    "id": "JwSn_x3p0CmL"
   },
   "outputs": [
    {
     "name": "stderr",
     "output_type": "stream",
     "text": [
      "Using TensorFlow backend.\n"
     ]
    }
   ],
   "source": [
    "from keras import metrics\n",
    "from keras import callbacks\n",
    "from keras.layers import BatchNormalization\n",
    "from keras.layers import Activation\n",
    "from keras.layers import Dropout\n",
    "from keras.layers import Input\n",
    "from keras.layers import Dense\n",
    "from keras.models import Model"
   ]
  },
  {
   "cell_type": "code",
   "execution_count": 40,
   "metadata": {
    "colab": {
     "base_uri": "https://localhost:8080/",
     "height": 4005
    },
    "colab_type": "code",
    "executionInfo": {
     "elapsed": 503260,
     "status": "ok",
     "timestamp": 1551477505512,
     "user": {
      "displayName": "Quentin Fournier",
      "photoUrl": "https://lh3.googleusercontent.com/--7LcocvGIHw/AAAAAAAAAAI/AAAAAAAAAA0/3JKWMmHuo-I/s64/photo.jpg",
      "userId": "15777129185599330219"
     },
     "user_tz": 300
    },
    "id": "TsLsibkDr2oS",
    "outputId": "ec3c5bec-fcdd-4623-c4bc-b497d7a28769"
   },
   "outputs": [
    {
     "name": "stdout",
     "output_type": "stream",
     "text": [
      "WARNING:tensorflow:From /home/quentin/venv/lib/python3.6/site-packages/tensorflow/python/framework/op_def_library.py:263: colocate_with (from tensorflow.python.framework.ops) is deprecated and will be removed in a future version.\n",
      "Instructions for updating:\n",
      "Colocations handled automatically by placer.\n",
      "WARNING:tensorflow:From /home/quentin/venv/lib/python3.6/site-packages/keras/backend/tensorflow_backend.py:3445: calling dropout (from tensorflow.python.ops.nn_ops) with keep_prob is deprecated and will be removed in a future version.\n",
      "Instructions for updating:\n",
      "Please use `rate` instead of `keep_prob`. Rate should be set to `rate = 1 - keep_prob`.\n",
      "_________________________________________________________________\n",
      "Layer (type)                 Output Shape              Param #   \n",
      "=================================================================\n",
      "input_1 (InputLayer)         (None, 8)                 0         \n",
      "_________________________________________________________________\n",
      "batch_normalization_1 (Batch (None, 8)                 32        \n",
      "_________________________________________________________________\n",
      "dense_1 (Dense)              (None, 256)               2304      \n",
      "_________________________________________________________________\n",
      "batch_normalization_2 (Batch (None, 256)               1024      \n",
      "_________________________________________________________________\n",
      "dropout_1 (Dropout)          (None, 256)               0         \n",
      "_________________________________________________________________\n",
      "activation_1 (Activation)    (None, 256)               0         \n",
      "_________________________________________________________________\n",
      "dense_2 (Dense)              (None, 128)               32896     \n",
      "_________________________________________________________________\n",
      "batch_normalization_3 (Batch (None, 128)               512       \n",
      "_________________________________________________________________\n",
      "dropout_2 (Dropout)          (None, 128)               0         \n",
      "_________________________________________________________________\n",
      "activation_2 (Activation)    (None, 128)               0         \n",
      "_________________________________________________________________\n",
      "dense_3 (Dense)              (None, 64)                8256      \n",
      "_________________________________________________________________\n",
      "batch_normalization_4 (Batch (None, 64)                256       \n",
      "_________________________________________________________________\n",
      "dropout_3 (Dropout)          (None, 64)                0         \n",
      "_________________________________________________________________\n",
      "activation_3 (Activation)    (None, 64)                0         \n",
      "_________________________________________________________________\n",
      "dense_4 (Dense)              (None, 7)                 455       \n",
      "_________________________________________________________________\n",
      "activation_4 (Activation)    (None, 7)                 0         \n",
      "=================================================================\n",
      "Total params: 45,735\n",
      "Trainable params: 44,823\n",
      "Non-trainable params: 912\n",
      "_________________________________________________________________\n"
     ]
    }
   ],
   "source": [
    "input = Input(shape=(8, ))\n",
    "dense = BatchNormalization()(input)\n",
    "dense = Dense(256)(dense)\n",
    "dense = BatchNormalization()(dense)\n",
    "dense = Dropout(0.5)(dense)\n",
    "dense = Activation('relu')(dense)\n",
    "dense = Dense(128)(dense)\n",
    "dense = BatchNormalization()(dense)\n",
    "dense = Dropout(0.5)(dense)\n",
    "dense = Activation('relu')(dense)\n",
    "dense = Dense(64)(dense)\n",
    "dense = BatchNormalization()(dense)\n",
    "dense = Dropout(0.5)(dense)\n",
    "dense = Activation('relu')(dense)\n",
    "dense = Dense(7)(dense)\n",
    "output = Activation('softmax')(dense)\n",
    "\n",
    "model = Model(inputs=input, outputs=output)\n",
    "\n",
    "model.compile(loss='categorical_crossentropy',\n",
    "              optimizer=\"Adam\",\n",
    "              metrics=['accuracy'])\n",
    "\n",
    "model.summary()"
   ]
  },
  {
   "cell_type": "code",
   "execution_count": 41,
   "metadata": {},
   "outputs": [
    {
     "name": "stdout",
     "output_type": "stream",
     "text": [
      "WARNING:tensorflow:From /home/quentin/venv/lib/python3.6/site-packages/tensorflow/python/ops/math_ops.py:3066: to_int32 (from tensorflow.python.ops.math_ops) is deprecated and will be removed in a future version.\n",
      "Instructions for updating:\n",
      "Use tf.cast instead.\n",
      "Train on 55842 samples, validate on 7978 samples\n",
      "Epoch 1/9999\n",
      "55842/55842 [==============================] - 6s 116us/step - loss: 1.5545 - acc: 0.4326 - val_loss: 1.1026 - val_acc: 0.5614\n",
      "Epoch 2/9999\n",
      "55842/55842 [==============================] - 2s 39us/step - loss: 1.1570 - acc: 0.5310 - val_loss: 0.9896 - val_acc: 0.5951\n",
      "Epoch 3/9999\n",
      "55842/55842 [==============================] - 2s 38us/step - loss: 1.0805 - acc: 0.5570 - val_loss: 0.9564 - val_acc: 0.6013\n",
      "Epoch 4/9999\n",
      "55842/55842 [==============================] - 2s 38us/step - loss: 1.0432 - acc: 0.5739 - val_loss: 0.9396 - val_acc: 0.6092\n",
      "Epoch 5/9999\n",
      "55842/55842 [==============================] - 2s 39us/step - loss: 1.0220 - acc: 0.5846 - val_loss: 0.9329 - val_acc: 0.6158\n",
      "Epoch 6/9999\n",
      "55842/55842 [==============================] - 2s 39us/step - loss: 1.0078 - acc: 0.5919 - val_loss: 0.9268 - val_acc: 0.6196\n",
      "Epoch 7/9999\n",
      "55842/55842 [==============================] - 2s 38us/step - loss: 0.9976 - acc: 0.5960 - val_loss: 0.9221 - val_acc: 0.6205\n",
      "Epoch 8/9999\n",
      "55842/55842 [==============================] - 2s 38us/step - loss: 0.9893 - acc: 0.6016 - val_loss: 0.9198 - val_acc: 0.6200\n",
      "Epoch 9/9999\n",
      "55842/55842 [==============================] - 2s 39us/step - loss: 0.9867 - acc: 0.6007 - val_loss: 0.9170 - val_acc: 0.6217\n",
      "Epoch 10/9999\n",
      "55842/55842 [==============================] - 2s 40us/step - loss: 0.9807 - acc: 0.6029 - val_loss: 0.9162 - val_acc: 0.6241\n",
      "Epoch 11/9999\n",
      "55842/55842 [==============================] - 2s 39us/step - loss: 0.9739 - acc: 0.6056 - val_loss: 0.9110 - val_acc: 0.6252\n",
      "Epoch 12/9999\n",
      "55842/55842 [==============================] - 2s 38us/step - loss: 0.9713 - acc: 0.6083 - val_loss: 0.9107 - val_acc: 0.6271\n",
      "Epoch 13/9999\n",
      "55842/55842 [==============================] - 2s 40us/step - loss: 0.9705 - acc: 0.6091 - val_loss: 0.9087 - val_acc: 0.6289\n",
      "Epoch 14/9999\n",
      "55842/55842 [==============================] - 2s 38us/step - loss: 0.9664 - acc: 0.6100 - val_loss: 0.9053 - val_acc: 0.6270\n",
      "Epoch 15/9999\n",
      "55842/55842 [==============================] - 2s 39us/step - loss: 0.9630 - acc: 0.6122 - val_loss: 0.9051 - val_acc: 0.6276\n",
      "Epoch 16/9999\n",
      "55842/55842 [==============================] - 2s 38us/step - loss: 0.9614 - acc: 0.6120 - val_loss: 0.9027 - val_acc: 0.6294\n",
      "Epoch 17/9999\n",
      "55842/55842 [==============================] - 2s 38us/step - loss: 0.9600 - acc: 0.6111 - val_loss: 0.9023 - val_acc: 0.6300\n",
      "Epoch 18/9999\n",
      "55842/55842 [==============================] - 2s 38us/step - loss: 0.9576 - acc: 0.6121 - val_loss: 0.9020 - val_acc: 0.6300\n",
      "Epoch 19/9999\n",
      "55842/55842 [==============================] - 2s 39us/step - loss: 0.9557 - acc: 0.6133 - val_loss: 0.8992 - val_acc: 0.6286\n",
      "Epoch 20/9999\n",
      "55842/55842 [==============================] - 2s 39us/step - loss: 0.9543 - acc: 0.6136 - val_loss: 0.8984 - val_acc: 0.6305\n",
      "Epoch 21/9999\n",
      "55842/55842 [==============================] - 2s 38us/step - loss: 0.9524 - acc: 0.6139 - val_loss: 0.8981 - val_acc: 0.6330\n",
      "Epoch 22/9999\n",
      "55842/55842 [==============================] - 2s 39us/step - loss: 0.9511 - acc: 0.6144 - val_loss: 0.8959 - val_acc: 0.6321\n",
      "Epoch 23/9999\n",
      "55842/55842 [==============================] - 2s 38us/step - loss: 0.9490 - acc: 0.6153 - val_loss: 0.8942 - val_acc: 0.6321\n",
      "Epoch 24/9999\n",
      "55842/55842 [==============================] - 2s 39us/step - loss: 0.9487 - acc: 0.6139 - val_loss: 0.8939 - val_acc: 0.6342\n",
      "Epoch 25/9999\n",
      "55842/55842 [==============================] - 2s 39us/step - loss: 0.9446 - acc: 0.6172 - val_loss: 0.8931 - val_acc: 0.6351\n",
      "Epoch 26/9999\n",
      "55842/55842 [==============================] - 2s 39us/step - loss: 0.9444 - acc: 0.6155 - val_loss: 0.8919 - val_acc: 0.6356\n",
      "Epoch 27/9999\n",
      "55842/55842 [==============================] - 2s 39us/step - loss: 0.9427 - acc: 0.6183 - val_loss: 0.8913 - val_acc: 0.6335\n",
      "Epoch 28/9999\n",
      "55842/55842 [==============================] - 2s 39us/step - loss: 0.9431 - acc: 0.6176 - val_loss: 0.8911 - val_acc: 0.6350\n",
      "Epoch 29/9999\n",
      "55842/55842 [==============================] - 2s 39us/step - loss: 0.9429 - acc: 0.6194 - val_loss: 0.8909 - val_acc: 0.6352\n",
      "Epoch 30/9999\n",
      "55842/55842 [==============================] - 2s 38us/step - loss: 0.9401 - acc: 0.6208 - val_loss: 0.8898 - val_acc: 0.6352\n",
      "Epoch 31/9999\n",
      "55842/55842 [==============================] - 2s 39us/step - loss: 0.9437 - acc: 0.6185 - val_loss: 0.8903 - val_acc: 0.6381\n",
      "Epoch 32/9999\n",
      "55842/55842 [==============================] - 2s 38us/step - loss: 0.9412 - acc: 0.6181 - val_loss: 0.8900 - val_acc: 0.6368\n",
      "Epoch 33/9999\n",
      "55842/55842 [==============================] - 2s 39us/step - loss: 0.9393 - acc: 0.6201 - val_loss: 0.8887 - val_acc: 0.6360\n",
      "Epoch 34/9999\n",
      "55842/55842 [==============================] - 2s 39us/step - loss: 0.9360 - acc: 0.6192 - val_loss: 0.8869 - val_acc: 0.6376\n",
      "Epoch 35/9999\n",
      "55842/55842 [==============================] - 2s 39us/step - loss: 0.9335 - acc: 0.6220 - val_loss: 0.8866 - val_acc: 0.6362\n",
      "Epoch 36/9999\n",
      "55842/55842 [==============================] - 2s 38us/step - loss: 0.9348 - acc: 0.6222 - val_loss: 0.8876 - val_acc: 0.6371\n",
      "Epoch 37/9999\n",
      "55842/55842 [==============================] - 2s 39us/step - loss: 0.9351 - acc: 0.6210 - val_loss: 0.8859 - val_acc: 0.6362\n",
      "Epoch 38/9999\n",
      "55842/55842 [==============================] - 2s 39us/step - loss: 0.9323 - acc: 0.6215 - val_loss: 0.8852 - val_acc: 0.6390\n",
      "Epoch 39/9999\n",
      "55842/55842 [==============================] - 2s 38us/step - loss: 0.9354 - acc: 0.6219 - val_loss: 0.8860 - val_acc: 0.6378\n",
      "Epoch 40/9999\n",
      "55842/55842 [==============================] - 2s 39us/step - loss: 0.9333 - acc: 0.6209 - val_loss: 0.8840 - val_acc: 0.6384\n",
      "Epoch 41/9999\n",
      "55842/55842 [==============================] - 2s 38us/step - loss: 0.9322 - acc: 0.6218 - val_loss: 0.8842 - val_acc: 0.6393\n",
      "Epoch 42/9999\n",
      "55842/55842 [==============================] - 2s 39us/step - loss: 0.9308 - acc: 0.6221 - val_loss: 0.8839 - val_acc: 0.6378\n",
      "Epoch 43/9999\n",
      "55842/55842 [==============================] - 2s 39us/step - loss: 0.9323 - acc: 0.6223 - val_loss: 0.8847 - val_acc: 0.6371\n",
      "Epoch 44/9999\n",
      "55842/55842 [==============================] - 2s 39us/step - loss: 0.9281 - acc: 0.6219 - val_loss: 0.8820 - val_acc: 0.6376\n",
      "Epoch 45/9999\n",
      "55842/55842 [==============================] - 2s 39us/step - loss: 0.9320 - acc: 0.6235 - val_loss: 0.8825 - val_acc: 0.6359\n",
      "Epoch 46/9999\n",
      "55842/55842 [==============================] - 2s 39us/step - loss: 0.9286 - acc: 0.6230 - val_loss: 0.8828 - val_acc: 0.6370\n",
      "Epoch 47/9999\n",
      "55842/55842 [==============================] - 2s 39us/step - loss: 0.9266 - acc: 0.6237 - val_loss: 0.8825 - val_acc: 0.6371\n",
      "Epoch 48/9999\n",
      "55842/55842 [==============================] - 2s 39us/step - loss: 0.9265 - acc: 0.6220 - val_loss: 0.8823 - val_acc: 0.6359\n",
      "Epoch 49/9999\n",
      "55842/55842 [==============================] - 2s 38us/step - loss: 0.9283 - acc: 0.6239 - val_loss: 0.8836 - val_acc: 0.6376\n",
      "Epoch 50/9999\n",
      "55842/55842 [==============================] - 2s 37us/step - loss: 0.9254 - acc: 0.6224 - val_loss: 0.8812 - val_acc: 0.6371\n",
      "Epoch 51/9999\n",
      "55842/55842 [==============================] - 2s 39us/step - loss: 0.9274 - acc: 0.6247 - val_loss: 0.8811 - val_acc: 0.6365\n",
      "Epoch 52/9999\n",
      "55842/55842 [==============================] - 2s 39us/step - loss: 0.9257 - acc: 0.6256 - val_loss: 0.8803 - val_acc: 0.6375\n",
      "Epoch 53/9999\n",
      "55842/55842 [==============================] - 2s 39us/step - loss: 0.9249 - acc: 0.6248 - val_loss: 0.8789 - val_acc: 0.6383\n",
      "Epoch 54/9999\n",
      "55842/55842 [==============================] - 2s 38us/step - loss: 0.9238 - acc: 0.6273 - val_loss: 0.8797 - val_acc: 0.6384\n",
      "Epoch 55/9999\n",
      "55842/55842 [==============================] - 2s 38us/step - loss: 0.9251 - acc: 0.6250 - val_loss: 0.8811 - val_acc: 0.6368\n",
      "Epoch 56/9999\n",
      "55842/55842 [==============================] - 2s 38us/step - loss: 0.9256 - acc: 0.6247 - val_loss: 0.8785 - val_acc: 0.6386\n",
      "Epoch 57/9999\n"
     ]
    },
    {
     "name": "stdout",
     "output_type": "stream",
     "text": [
      "55842/55842 [==============================] - 2s 39us/step - loss: 0.9220 - acc: 0.6256 - val_loss: 0.8784 - val_acc: 0.6376\n",
      "Epoch 58/9999\n",
      "55842/55842 [==============================] - 2s 39us/step - loss: 0.9220 - acc: 0.6255 - val_loss: 0.8782 - val_acc: 0.6393\n",
      "Epoch 59/9999\n",
      "55842/55842 [==============================] - 2s 39us/step - loss: 0.9209 - acc: 0.6267 - val_loss: 0.8780 - val_acc: 0.6379\n",
      "Epoch 60/9999\n",
      "55842/55842 [==============================] - 2s 39us/step - loss: 0.9230 - acc: 0.6235 - val_loss: 0.8788 - val_acc: 0.6380\n",
      "Epoch 61/9999\n",
      "55842/55842 [==============================] - 2s 38us/step - loss: 0.9225 - acc: 0.6276 - val_loss: 0.8773 - val_acc: 0.6374\n",
      "Epoch 62/9999\n",
      "55842/55842 [==============================] - 2s 39us/step - loss: 0.9200 - acc: 0.6267 - val_loss: 0.8767 - val_acc: 0.6385\n",
      "Epoch 63/9999\n",
      "55842/55842 [==============================] - 2s 39us/step - loss: 0.9197 - acc: 0.6266 - val_loss: 0.8778 - val_acc: 0.6394\n",
      "Epoch 64/9999\n",
      "55842/55842 [==============================] - 2s 39us/step - loss: 0.9218 - acc: 0.6251 - val_loss: 0.8767 - val_acc: 0.6394\n",
      "Epoch 65/9999\n",
      "55842/55842 [==============================] - 2s 39us/step - loss: 0.9216 - acc: 0.6267 - val_loss: 0.8757 - val_acc: 0.6411\n",
      "Epoch 66/9999\n",
      "55842/55842 [==============================] - 2s 38us/step - loss: 0.9195 - acc: 0.6265 - val_loss: 0.8765 - val_acc: 0.6405\n",
      "Epoch 67/9999\n",
      "55842/55842 [==============================] - 2s 38us/step - loss: 0.9200 - acc: 0.6280 - val_loss: 0.8775 - val_acc: 0.6388\n",
      "Epoch 68/9999\n",
      "55842/55842 [==============================] - 2s 39us/step - loss: 0.9205 - acc: 0.6272 - val_loss: 0.8764 - val_acc: 0.6384\n",
      "Epoch 69/9999\n",
      "55842/55842 [==============================] - 2s 39us/step - loss: 0.9203 - acc: 0.6266 - val_loss: 0.8752 - val_acc: 0.6399\n",
      "Epoch 70/9999\n",
      "55842/55842 [==============================] - 2s 39us/step - loss: 0.9186 - acc: 0.6274 - val_loss: 0.8755 - val_acc: 0.6388\n",
      "Epoch 71/9999\n",
      "55842/55842 [==============================] - 2s 39us/step - loss: 0.9196 - acc: 0.6257 - val_loss: 0.8767 - val_acc: 0.6381\n",
      "Epoch 72/9999\n",
      "55842/55842 [==============================] - 2s 39us/step - loss: 0.9187 - acc: 0.6284 - val_loss: 0.8749 - val_acc: 0.6383\n",
      "Epoch 73/9999\n",
      "55842/55842 [==============================] - 2s 38us/step - loss: 0.9199 - acc: 0.6257 - val_loss: 0.8756 - val_acc: 0.6385\n",
      "Epoch 74/9999\n",
      "55842/55842 [==============================] - 2s 39us/step - loss: 0.9169 - acc: 0.6264 - val_loss: 0.8744 - val_acc: 0.6403\n",
      "Epoch 75/9999\n",
      "55842/55842 [==============================] - 2s 39us/step - loss: 0.9178 - acc: 0.6281 - val_loss: 0.8743 - val_acc: 0.6398\n",
      "Epoch 76/9999\n",
      "55842/55842 [==============================] - 2s 38us/step - loss: 0.9159 - acc: 0.6270 - val_loss: 0.8750 - val_acc: 0.6384\n",
      "Epoch 77/9999\n",
      "55842/55842 [==============================] - 2s 38us/step - loss: 0.9166 - acc: 0.6275 - val_loss: 0.8739 - val_acc: 0.6383\n",
      "Epoch 78/9999\n",
      "55842/55842 [==============================] - 2s 37us/step - loss: 0.9161 - acc: 0.6283 - val_loss: 0.8746 - val_acc: 0.6398\n",
      "Epoch 79/9999\n",
      "55842/55842 [==============================] - 2s 37us/step - loss: 0.9166 - acc: 0.6268 - val_loss: 0.8756 - val_acc: 0.6393\n",
      "Epoch 80/9999\n",
      "55842/55842 [==============================] - 2s 38us/step - loss: 0.9156 - acc: 0.6278 - val_loss: 0.8741 - val_acc: 0.6405\n",
      "Epoch 81/9999\n",
      "55842/55842 [==============================] - 2s 38us/step - loss: 0.9178 - acc: 0.6288 - val_loss: 0.8746 - val_acc: 0.6416\n",
      "Epoch 82/9999\n",
      "55842/55842 [==============================] - 2s 38us/step - loss: 0.9161 - acc: 0.6278 - val_loss: 0.8741 - val_acc: 0.6411\n",
      "Epoch 83/9999\n",
      "55842/55842 [==============================] - 2s 38us/step - loss: 0.9162 - acc: 0.6282 - val_loss: 0.8735 - val_acc: 0.6390\n",
      "Epoch 84/9999\n",
      "55842/55842 [==============================] - 2s 39us/step - loss: 0.9141 - acc: 0.6279 - val_loss: 0.8743 - val_acc: 0.6404\n",
      "Epoch 85/9999\n",
      "55842/55842 [==============================] - 2s 39us/step - loss: 0.9164 - acc: 0.6276 - val_loss: 0.8734 - val_acc: 0.6400\n",
      "Epoch 86/9999\n",
      "55842/55842 [==============================] - 2s 39us/step - loss: 0.9155 - acc: 0.6280 - val_loss: 0.8740 - val_acc: 0.6396\n",
      "Epoch 87/9999\n",
      "55842/55842 [==============================] - 2s 39us/step - loss: 0.9156 - acc: 0.6277 - val_loss: 0.8739 - val_acc: 0.6411\n",
      "Epoch 88/9999\n",
      "55842/55842 [==============================] - 2s 39us/step - loss: 0.9159 - acc: 0.6282 - val_loss: 0.8725 - val_acc: 0.6410\n",
      "Epoch 89/9999\n",
      "55842/55842 [==============================] - 2s 39us/step - loss: 0.9128 - acc: 0.6278 - val_loss: 0.8726 - val_acc: 0.6406\n",
      "Epoch 90/9999\n",
      "55842/55842 [==============================] - 2s 39us/step - loss: 0.9139 - acc: 0.6282 - val_loss: 0.8736 - val_acc: 0.6403\n",
      "Epoch 91/9999\n",
      "55842/55842 [==============================] - 2s 39us/step - loss: 0.9129 - acc: 0.6294 - val_loss: 0.8732 - val_acc: 0.6409\n",
      "Epoch 92/9999\n",
      "55842/55842 [==============================] - 2s 38us/step - loss: 0.9142 - acc: 0.6278 - val_loss: 0.8741 - val_acc: 0.6391\n",
      "Epoch 93/9999\n",
      "55842/55842 [==============================] - 2s 39us/step - loss: 0.9147 - acc: 0.6274 - val_loss: 0.8732 - val_acc: 0.6398\n",
      "Epoch 94/9999\n",
      "55842/55842 [==============================] - 2s 39us/step - loss: 0.9160 - acc: 0.6283 - val_loss: 0.8725 - val_acc: 0.6400\n",
      "Epoch 95/9999\n",
      "55842/55842 [==============================] - 2s 38us/step - loss: 0.9136 - acc: 0.6278 - val_loss: 0.8727 - val_acc: 0.6403\n",
      "Epoch 96/9999\n",
      "55842/55842 [==============================] - 2s 38us/step - loss: 0.9129 - acc: 0.6288 - val_loss: 0.8726 - val_acc: 0.6410\n",
      "Epoch 97/9999\n",
      "55842/55842 [==============================] - 2s 39us/step - loss: 0.9124 - acc: 0.6278 - val_loss: 0.8729 - val_acc: 0.6394\n",
      "Epoch 98/9999\n",
      "55842/55842 [==============================] - 2s 39us/step - loss: 0.9123 - acc: 0.6281 - val_loss: 0.8723 - val_acc: 0.6406\n",
      "Epoch 99/9999\n",
      "55842/55842 [==============================] - 2s 38us/step - loss: 0.9112 - acc: 0.6299 - val_loss: 0.8721 - val_acc: 0.6394\n",
      "Epoch 100/9999\n",
      "55842/55842 [==============================] - 2s 39us/step - loss: 0.9155 - acc: 0.6291 - val_loss: 0.8717 - val_acc: 0.6408\n",
      "Epoch 101/9999\n",
      "55842/55842 [==============================] - 2s 39us/step - loss: 0.9124 - acc: 0.6293 - val_loss: 0.8732 - val_acc: 0.6415\n",
      "Epoch 102/9999\n",
      "55842/55842 [==============================] - 2s 39us/step - loss: 0.9157 - acc: 0.6297 - val_loss: 0.8722 - val_acc: 0.6414\n",
      "Epoch 103/9999\n",
      "55842/55842 [==============================] - 2s 39us/step - loss: 0.9114 - acc: 0.6307 - val_loss: 0.8716 - val_acc: 0.6409\n",
      "Epoch 104/9999\n",
      "55842/55842 [==============================] - 2s 39us/step - loss: 0.9136 - acc: 0.6289 - val_loss: 0.8718 - val_acc: 0.6408\n",
      "Epoch 105/9999\n",
      "55842/55842 [==============================] - 2s 38us/step - loss: 0.9112 - acc: 0.6279 - val_loss: 0.8711 - val_acc: 0.6413\n",
      "Epoch 106/9999\n",
      "55842/55842 [==============================] - 2s 37us/step - loss: 0.9117 - acc: 0.6286 - val_loss: 0.8713 - val_acc: 0.6416\n"
     ]
    }
   ],
   "source": [
    "history = model.fit(x_train, y_train,\n",
    "                    batch_size=512,\n",
    "                    epochs=9999,\n",
    "                    verbose=1,\n",
    "                    validation_data=(x_val, y_val),\n",
    "                    callbacks=[callbacks.EarlyStopping(\n",
    "                    monitor='val_acc',\n",
    "                    min_delta=0.0001,\n",
    "                    patience=25,\n",
    "                    restore_best_weights=True)])"
   ]
  },
  {
   "cell_type": "code",
   "execution_count": 42,
   "metadata": {
    "colab": {
     "base_uri": "https://localhost:8080/",
     "height": 52
    },
    "colab_type": "code",
    "executionInfo": {
     "elapsed": 504889,
     "status": "ok",
     "timestamp": 1551477507149,
     "user": {
      "displayName": "Quentin Fournier",
      "photoUrl": "https://lh3.googleusercontent.com/--7LcocvGIHw/AAAAAAAAAAI/AAAAAAAAAA0/3JKWMmHuo-I/s64/photo.jpg",
      "userId": "15777129185599330219"
     },
     "user_tz": 300
    },
    "id": "6p4x-VPMKi92",
    "outputId": "380a1c2c-df51-4db5-99d7-1f6240105339"
   },
   "outputs": [
    {
     "name": "stdout",
     "output_type": "stream",
     "text": [
      "Test loss: 0.8824538025203\n",
      "Test accuracy: 0.6396114070786835\n"
     ]
    }
   ],
   "source": [
    "score = model.evaluate(x_test, y_test, verbose=0)\n",
    "print('Test loss:', score[0])\n",
    "print('Test accuracy:', score[1])"
   ]
  },
  {
   "cell_type": "code",
   "execution_count": 43,
   "metadata": {
    "colab": {
     "base_uri": "https://localhost:8080/",
     "height": 293
    },
    "colab_type": "code",
    "executionInfo": {
     "elapsed": 505492,
     "status": "ok",
     "timestamp": 1551477507758,
     "user": {
      "displayName": "Quentin Fournier",
      "photoUrl": "https://lh3.googleusercontent.com/--7LcocvGIHw/AAAAAAAAAAI/AAAAAAAAAA0/3JKWMmHuo-I/s64/photo.jpg",
      "userId": "15777129185599330219"
     },
     "user_tz": 300
    },
    "id": "W5u4LBIXCLpV",
    "outputId": "18df40d5-10d4-43a9-ca06-531a10df6cd5"
   },
   "outputs": [
    {
     "data": {
      "image/png": "[encoded data removed]",
      "text/plain": [
       "<Figure size 576x288 with 2 Axes>"
      ]
     },
     "metadata": {
      "needs_background": "light"
     },
     "output_type": "display_data"
    }
   ],
   "source": [
    "plot_history(history, \"discret_multiclasse\")"
   ]
  },
  {
   "cell_type": "code",
   "execution_count": 44,
   "metadata": {
    "colab": {},
    "colab_type": "code",
    "id": "sWGujDnfyXKx"
   },
   "outputs": [],
   "source": [
    "# not accurate enough, let's only check if the animal is adopted\n",
    "binary_y = [int(label[0] == 1) for label in y]\n",
    "# split dataset into a training, validation and test set\n",
    "x_train, x_test, y_train, y_test = train_test_split(x_scaled, binary_y, test_size=0.2, stratify=binary_y)\n",
    "# we split first (train/test) then (train/valid) 12.5% of 80% is the same as 10% of 100%\n",
    "x_train, x_val, y_train, y_val = train_test_split(x_train, y_train, test_size=0.125, stratify=y_train)"
   ]
  },
  {
   "cell_type": "code",
   "execution_count": 45,
   "metadata": {
    "colab": {
     "base_uri": "https://localhost:8080/",
     "height": 2410
    },
    "colab_type": "code",
    "executionInfo": {
     "elapsed": 634085,
     "status": "ok",
     "timestamp": 1551477636363,
     "user": {
      "displayName": "Quentin Fournier",
      "photoUrl": "https://lh3.googleusercontent.com/--7LcocvGIHw/AAAAAAAAAAI/AAAAAAAAAA0/3JKWMmHuo-I/s64/photo.jpg",
      "userId": "15777129185599330219"
     },
     "user_tz": 300
    },
    "id": "gD9LV0r_z0yL",
    "outputId": "984bfe7d-bdb5-4a84-d158-d7d0249755c6"
   },
   "outputs": [
    {
     "name": "stdout",
     "output_type": "stream",
     "text": [
      "_________________________________________________________________\n",
      "Layer (type)                 Output Shape              Param #   \n",
      "=================================================================\n",
      "input_2 (InputLayer)         (None, 8)                 0         \n",
      "_________________________________________________________________\n",
      "batch_normalization_5 (Batch (None, 8)                 32        \n",
      "_________________________________________________________________\n",
      "dense_5 (Dense)              (None, 256)               2304      \n",
      "_________________________________________________________________\n",
      "batch_normalization_6 (Batch (None, 256)               1024      \n",
      "_________________________________________________________________\n",
      "dropout_4 (Dropout)          (None, 256)               0         \n",
      "_________________________________________________________________\n",
      "activation_5 (Activation)    (None, 256)               0         \n",
      "_________________________________________________________________\n",
      "dense_6 (Dense)              (None, 128)               32896     \n",
      "_________________________________________________________________\n",
      "batch_normalization_7 (Batch (None, 128)               512       \n",
      "_________________________________________________________________\n",
      "dropout_5 (Dropout)          (None, 128)               0         \n",
      "_________________________________________________________________\n",
      "activation_6 (Activation)    (None, 128)               0         \n",
      "_________________________________________________________________\n",
      "dense_7 (Dense)              (None, 64)                8256      \n",
      "_________________________________________________________________\n",
      "batch_normalization_8 (Batch (None, 64)                256       \n",
      "_________________________________________________________________\n",
      "dropout_6 (Dropout)          (None, 64)                0         \n",
      "_________________________________________________________________\n",
      "activation_7 (Activation)    (None, 64)                0         \n",
      "_________________________________________________________________\n",
      "dense_8 (Dense)              (None, 32)                2080      \n",
      "_________________________________________________________________\n",
      "batch_normalization_9 (Batch (None, 32)                128       \n",
      "_________________________________________________________________\n",
      "dropout_7 (Dropout)          (None, 32)                0         \n",
      "_________________________________________________________________\n",
      "activation_8 (Activation)    (None, 32)                0         \n",
      "_________________________________________________________________\n",
      "dense_9 (Dense)              (None, 1)                 33        \n",
      "_________________________________________________________________\n",
      "activation_9 (Activation)    (None, 1)                 0         \n",
      "=================================================================\n",
      "Total params: 47,521\n",
      "Trainable params: 46,545\n",
      "Non-trainable params: 976\n",
      "_________________________________________________________________\n"
     ]
    }
   ],
   "source": [
    "input = Input(shape=(8, ))\n",
    "dense = BatchNormalization()(input)\n",
    "dense = Dense(256)(dense)\n",
    "dense = BatchNormalization()(dense)\n",
    "dense = Dropout(0.5)(dense)\n",
    "dense = Activation('relu')(dense)\n",
    "dense = Dense(128)(dense)\n",
    "dense = BatchNormalization()(dense)\n",
    "dense = Dropout(0.5)(dense)\n",
    "dense = Activation('relu')(dense)\n",
    "dense = Dense(64)(dense)\n",
    "dense = BatchNormalization()(dense)\n",
    "dense = Dropout(0.5)(dense)\n",
    "dense = Activation('relu')(dense)\n",
    "dense = Dense(32)(dense)\n",
    "dense = BatchNormalization()(dense)\n",
    "dense = Dropout(0.5)(dense)\n",
    "dense = Activation('relu')(dense)\n",
    "dense = Dense(1)(dense)\n",
    "output = Activation('sigmoid')(dense)\n",
    "\n",
    "model = Model(inputs=input, outputs=output)\n",
    "\n",
    "model.compile(loss='binary_crossentropy',\n",
    "              optimizer=\"Adam\",\n",
    "              metrics=['accuracy'])\n",
    "\n",
    "model.summary()"
   ]
  },
  {
   "cell_type": "code",
   "execution_count": 46,
   "metadata": {},
   "outputs": [
    {
     "name": "stdout",
     "output_type": "stream",
     "text": [
      "Train on 55842 samples, validate on 7978 samples\n",
      "Epoch 1/9999\n",
      "55842/55842 [==============================] - 5s 84us/step - loss: 0.7253 - acc: 0.5795 - val_loss: 0.5970 - val_acc: 0.6594\n",
      "Epoch 2/9999\n",
      "55842/55842 [==============================] - 3s 46us/step - loss: 0.6348 - acc: 0.6211 - val_loss: 0.5910 - val_acc: 0.6735\n",
      "Epoch 3/9999\n",
      "55842/55842 [==============================] - 3s 45us/step - loss: 0.6129 - acc: 0.6444 - val_loss: 0.5857 - val_acc: 0.6739\n",
      "Epoch 4/9999\n",
      "55842/55842 [==============================] - 3s 46us/step - loss: 0.6055 - acc: 0.6591 - val_loss: 0.5832 - val_acc: 0.6740\n",
      "Epoch 5/9999\n",
      "55842/55842 [==============================] - 3s 47us/step - loss: 0.5996 - acc: 0.6700 - val_loss: 0.5802 - val_acc: 0.6774\n",
      "Epoch 6/9999\n",
      "55842/55842 [==============================] - 3s 47us/step - loss: 0.5955 - acc: 0.6748 - val_loss: 0.5768 - val_acc: 0.6828\n",
      "Epoch 7/9999\n",
      "55842/55842 [==============================] - 3s 46us/step - loss: 0.5926 - acc: 0.6774 - val_loss: 0.5742 - val_acc: 0.6888\n",
      "Epoch 8/9999\n",
      "55842/55842 [==============================] - 3s 46us/step - loss: 0.5891 - acc: 0.6848 - val_loss: 0.5718 - val_acc: 0.6938\n",
      "Epoch 9/9999\n",
      "55842/55842 [==============================] - 3s 46us/step - loss: 0.5870 - acc: 0.6848 - val_loss: 0.5689 - val_acc: 0.6985\n",
      "Epoch 10/9999\n",
      "55842/55842 [==============================] - 3s 46us/step - loss: 0.5836 - acc: 0.6893 - val_loss: 0.5675 - val_acc: 0.6978\n",
      "Epoch 11/9999\n",
      "55842/55842 [==============================] - 3s 46us/step - loss: 0.5826 - acc: 0.6917 - val_loss: 0.5660 - val_acc: 0.7022\n",
      "Epoch 12/9999\n",
      "55842/55842 [==============================] - 3s 46us/step - loss: 0.5805 - acc: 0.6915 - val_loss: 0.5641 - val_acc: 0.7019\n",
      "Epoch 13/9999\n",
      "55842/55842 [==============================] - 3s 46us/step - loss: 0.5787 - acc: 0.6926 - val_loss: 0.5637 - val_acc: 0.7032\n",
      "Epoch 14/9999\n",
      "55842/55842 [==============================] - 3s 46us/step - loss: 0.5766 - acc: 0.6956 - val_loss: 0.5617 - val_acc: 0.7036\n",
      "Epoch 15/9999\n",
      "55842/55842 [==============================] - 3s 46us/step - loss: 0.5762 - acc: 0.6951 - val_loss: 0.5612 - val_acc: 0.7037\n",
      "Epoch 16/9999\n",
      "55842/55842 [==============================] - 3s 46us/step - loss: 0.5753 - acc: 0.6950 - val_loss: 0.5604 - val_acc: 0.7034\n",
      "Epoch 17/9999\n",
      "55842/55842 [==============================] - 3s 46us/step - loss: 0.5754 - acc: 0.6962 - val_loss: 0.5594 - val_acc: 0.7042\n",
      "Epoch 18/9999\n",
      "55842/55842 [==============================] - 3s 46us/step - loss: 0.5732 - acc: 0.6959 - val_loss: 0.5580 - val_acc: 0.7044\n",
      "Epoch 19/9999\n",
      "55842/55842 [==============================] - 3s 45us/step - loss: 0.5716 - acc: 0.6981 - val_loss: 0.5564 - val_acc: 0.7039\n",
      "Epoch 20/9999\n",
      "55842/55842 [==============================] - 3s 45us/step - loss: 0.5736 - acc: 0.6967 - val_loss: 0.5567 - val_acc: 0.7044\n",
      "Epoch 21/9999\n",
      "55842/55842 [==============================] - 3s 46us/step - loss: 0.5714 - acc: 0.6967 - val_loss: 0.5552 - val_acc: 0.7047\n",
      "Epoch 22/9999\n",
      "55842/55842 [==============================] - 3s 46us/step - loss: 0.5700 - acc: 0.6970 - val_loss: 0.5543 - val_acc: 0.7053\n",
      "Epoch 23/9999\n",
      "55842/55842 [==============================] - 3s 46us/step - loss: 0.5680 - acc: 0.6984 - val_loss: 0.5530 - val_acc: 0.7069\n",
      "Epoch 24/9999\n",
      "55842/55842 [==============================] - 3s 46us/step - loss: 0.5680 - acc: 0.6978 - val_loss: 0.5532 - val_acc: 0.7066\n",
      "Epoch 25/9999\n",
      "55842/55842 [==============================] - 3s 46us/step - loss: 0.5678 - acc: 0.6986 - val_loss: 0.5512 - val_acc: 0.7056\n",
      "Epoch 26/9999\n",
      "55842/55842 [==============================] - 3s 46us/step - loss: 0.5669 - acc: 0.6993 - val_loss: 0.5493 - val_acc: 0.7083\n",
      "Epoch 27/9999\n",
      "55842/55842 [==============================] - 3s 46us/step - loss: 0.5658 - acc: 0.6994 - val_loss: 0.5484 - val_acc: 0.7084\n",
      "Epoch 28/9999\n",
      "55842/55842 [==============================] - 3s 46us/step - loss: 0.5647 - acc: 0.6995 - val_loss: 0.5488 - val_acc: 0.7096\n",
      "Epoch 29/9999\n",
      "55842/55842 [==============================] - 3s 46us/step - loss: 0.5644 - acc: 0.6999 - val_loss: 0.5468 - val_acc: 0.7115\n",
      "Epoch 30/9999\n",
      "55842/55842 [==============================] - 3s 46us/step - loss: 0.5623 - acc: 0.7034 - val_loss: 0.5464 - val_acc: 0.7123\n",
      "Epoch 31/9999\n",
      "55842/55842 [==============================] - 3s 45us/step - loss: 0.5633 - acc: 0.7030 - val_loss: 0.5459 - val_acc: 0.7123\n",
      "Epoch 32/9999\n",
      "55842/55842 [==============================] - 3s 46us/step - loss: 0.5627 - acc: 0.7014 - val_loss: 0.5447 - val_acc: 0.7118\n",
      "Epoch 33/9999\n",
      "55842/55842 [==============================] - 3s 46us/step - loss: 0.5624 - acc: 0.7002 - val_loss: 0.5450 - val_acc: 0.7140\n",
      "Epoch 34/9999\n",
      "55842/55842 [==============================] - 3s 45us/step - loss: 0.5624 - acc: 0.7005 - val_loss: 0.5442 - val_acc: 0.7123\n",
      "Epoch 35/9999\n",
      "55842/55842 [==============================] - 3s 46us/step - loss: 0.5612 - acc: 0.7038 - val_loss: 0.5433 - val_acc: 0.7136\n",
      "Epoch 36/9999\n",
      "55842/55842 [==============================] - 3s 45us/step - loss: 0.5615 - acc: 0.7021 - val_loss: 0.5437 - val_acc: 0.7142\n",
      "Epoch 37/9999\n",
      "55842/55842 [==============================] - 3s 46us/step - loss: 0.5608 - acc: 0.7027 - val_loss: 0.5433 - val_acc: 0.7143\n",
      "Epoch 38/9999\n",
      "55842/55842 [==============================] - 3s 46us/step - loss: 0.5600 - acc: 0.7033 - val_loss: 0.5432 - val_acc: 0.7141\n",
      "Epoch 39/9999\n",
      "55842/55842 [==============================] - 3s 46us/step - loss: 0.5589 - acc: 0.7034 - val_loss: 0.5431 - val_acc: 0.7156\n",
      "Epoch 40/9999\n",
      "55842/55842 [==============================] - 3s 46us/step - loss: 0.5590 - acc: 0.7034 - val_loss: 0.5428 - val_acc: 0.7148\n",
      "Epoch 41/9999\n",
      "55842/55842 [==============================] - 3s 47us/step - loss: 0.5602 - acc: 0.7022 - val_loss: 0.5426 - val_acc: 0.7132\n",
      "Epoch 42/9999\n",
      "55842/55842 [==============================] - 2s 45us/step - loss: 0.5596 - acc: 0.7026 - val_loss: 0.5424 - val_acc: 0.7125\n",
      "Epoch 43/9999\n",
      "55842/55842 [==============================] - 2s 45us/step - loss: 0.5579 - acc: 0.7037 - val_loss: 0.5421 - val_acc: 0.7131\n",
      "Epoch 44/9999\n",
      "55842/55842 [==============================] - 3s 46us/step - loss: 0.5586 - acc: 0.7026 - val_loss: 0.5409 - val_acc: 0.7127\n",
      "Epoch 45/9999\n",
      "55842/55842 [==============================] - 3s 46us/step - loss: 0.5572 - acc: 0.7026 - val_loss: 0.5411 - val_acc: 0.7152\n",
      "Epoch 46/9999\n",
      "55842/55842 [==============================] - 3s 46us/step - loss: 0.5577 - acc: 0.7040 - val_loss: 0.5407 - val_acc: 0.7141\n",
      "Epoch 47/9999\n",
      "55842/55842 [==============================] - 3s 46us/step - loss: 0.5571 - acc: 0.7036 - val_loss: 0.5407 - val_acc: 0.7143\n",
      "Epoch 48/9999\n",
      "55842/55842 [==============================] - 3s 46us/step - loss: 0.5578 - acc: 0.7023 - val_loss: 0.5402 - val_acc: 0.7156\n",
      "Epoch 49/9999\n",
      "55842/55842 [==============================] - 3s 45us/step - loss: 0.5565 - acc: 0.7028 - val_loss: 0.5396 - val_acc: 0.7140\n",
      "Epoch 50/9999\n",
      "55842/55842 [==============================] - 3s 45us/step - loss: 0.5559 - acc: 0.7024 - val_loss: 0.5400 - val_acc: 0.7140\n",
      "Epoch 51/9999\n",
      "55842/55842 [==============================] - 3s 45us/step - loss: 0.5557 - acc: 0.7050 - val_loss: 0.5398 - val_acc: 0.7157\n",
      "Epoch 52/9999\n",
      "55842/55842 [==============================] - 3s 45us/step - loss: 0.5556 - acc: 0.7047 - val_loss: 0.5398 - val_acc: 0.7148\n",
      "Epoch 53/9999\n",
      "55842/55842 [==============================] - 3s 45us/step - loss: 0.5542 - acc: 0.7053 - val_loss: 0.5392 - val_acc: 0.7155\n",
      "Epoch 54/9999\n",
      "55842/55842 [==============================] - 3s 46us/step - loss: 0.5567 - acc: 0.7035 - val_loss: 0.5389 - val_acc: 0.7147\n",
      "Epoch 55/9999\n",
      "55842/55842 [==============================] - 3s 46us/step - loss: 0.5551 - acc: 0.7060 - val_loss: 0.5393 - val_acc: 0.7151\n",
      "Epoch 56/9999\n",
      "55842/55842 [==============================] - 3s 46us/step - loss: 0.5538 - acc: 0.7055 - val_loss: 0.5393 - val_acc: 0.7167\n",
      "Epoch 57/9999\n",
      "55842/55842 [==============================] - 3s 46us/step - loss: 0.5545 - acc: 0.7072 - val_loss: 0.5397 - val_acc: 0.7168\n",
      "Epoch 58/9999\n",
      "55842/55842 [==============================] - 3s 46us/step - loss: 0.5535 - acc: 0.7053 - val_loss: 0.5385 - val_acc: 0.7167\n",
      "Epoch 59/9999\n"
     ]
    },
    {
     "name": "stdout",
     "output_type": "stream",
     "text": [
      "55842/55842 [==============================] - 3s 46us/step - loss: 0.5526 - acc: 0.7046 - val_loss: 0.5383 - val_acc: 0.7160\n",
      "Epoch 60/9999\n",
      "55842/55842 [==============================] - 3s 46us/step - loss: 0.5530 - acc: 0.7049 - val_loss: 0.5388 - val_acc: 0.7165\n",
      "Epoch 61/9999\n",
      "55842/55842 [==============================] - 3s 46us/step - loss: 0.5536 - acc: 0.7053 - val_loss: 0.5384 - val_acc: 0.7166\n",
      "Epoch 62/9999\n",
      "55842/55842 [==============================] - 3s 46us/step - loss: 0.5540 - acc: 0.7075 - val_loss: 0.5379 - val_acc: 0.7165\n",
      "Epoch 63/9999\n",
      "55842/55842 [==============================] - 3s 46us/step - loss: 0.5539 - acc: 0.7059 - val_loss: 0.5381 - val_acc: 0.7165\n",
      "Epoch 64/9999\n",
      "55842/55842 [==============================] - 3s 46us/step - loss: 0.5538 - acc: 0.7053 - val_loss: 0.5382 - val_acc: 0.7170\n",
      "Epoch 65/9999\n",
      "55842/55842 [==============================] - 3s 45us/step - loss: 0.5532 - acc: 0.7048 - val_loss: 0.5381 - val_acc: 0.7163\n",
      "Epoch 66/9999\n",
      "55842/55842 [==============================] - 2s 44us/step - loss: 0.5532 - acc: 0.7042 - val_loss: 0.5371 - val_acc: 0.7157\n",
      "Epoch 67/9999\n",
      "55842/55842 [==============================] - 3s 46us/step - loss: 0.5518 - acc: 0.7053 - val_loss: 0.5364 - val_acc: 0.7186\n",
      "Epoch 68/9999\n",
      "55842/55842 [==============================] - 3s 46us/step - loss: 0.5528 - acc: 0.7064 - val_loss: 0.5373 - val_acc: 0.7171\n",
      "Epoch 69/9999\n",
      "55842/55842 [==============================] - 3s 46us/step - loss: 0.5530 - acc: 0.7068 - val_loss: 0.5366 - val_acc: 0.7160\n",
      "Epoch 70/9999\n",
      "55842/55842 [==============================] - 3s 46us/step - loss: 0.5537 - acc: 0.7063 - val_loss: 0.5374 - val_acc: 0.7177\n",
      "Epoch 71/9999\n",
      "55842/55842 [==============================] - 3s 47us/step - loss: 0.5522 - acc: 0.7065 - val_loss: 0.5368 - val_acc: 0.7180\n",
      "Epoch 72/9999\n",
      "55842/55842 [==============================] - 3s 46us/step - loss: 0.5517 - acc: 0.7067 - val_loss: 0.5361 - val_acc: 0.7178\n",
      "Epoch 73/9999\n",
      "55842/55842 [==============================] - 3s 46us/step - loss: 0.5524 - acc: 0.7062 - val_loss: 0.5363 - val_acc: 0.7167\n",
      "Epoch 74/9999\n",
      "55842/55842 [==============================] - 3s 46us/step - loss: 0.5514 - acc: 0.7063 - val_loss: 0.5359 - val_acc: 0.7182\n",
      "Epoch 75/9999\n",
      "55842/55842 [==============================] - 3s 47us/step - loss: 0.5520 - acc: 0.7073 - val_loss: 0.5363 - val_acc: 0.7177\n",
      "Epoch 76/9999\n",
      "55842/55842 [==============================] - 3s 46us/step - loss: 0.5512 - acc: 0.7040 - val_loss: 0.5356 - val_acc: 0.7170\n",
      "Epoch 77/9999\n",
      "55842/55842 [==============================] - 3s 47us/step - loss: 0.5507 - acc: 0.7067 - val_loss: 0.5354 - val_acc: 0.7173\n",
      "Epoch 78/9999\n",
      "55842/55842 [==============================] - 3s 45us/step - loss: 0.5518 - acc: 0.7073 - val_loss: 0.5358 - val_acc: 0.7175\n",
      "Epoch 79/9999\n",
      "55842/55842 [==============================] - 3s 46us/step - loss: 0.5522 - acc: 0.7072 - val_loss: 0.5365 - val_acc: 0.7173\n",
      "Epoch 80/9999\n",
      "55842/55842 [==============================] - 3s 46us/step - loss: 0.5503 - acc: 0.7075 - val_loss: 0.5358 - val_acc: 0.7182\n",
      "Epoch 81/9999\n",
      "55842/55842 [==============================] - 3s 46us/step - loss: 0.5514 - acc: 0.7070 - val_loss: 0.5365 - val_acc: 0.7178\n",
      "Epoch 82/9999\n",
      "55842/55842 [==============================] - 3s 46us/step - loss: 0.5514 - acc: 0.7067 - val_loss: 0.5364 - val_acc: 0.7171\n",
      "Epoch 83/9999\n",
      "55842/55842 [==============================] - 3s 46us/step - loss: 0.5512 - acc: 0.7076 - val_loss: 0.5351 - val_acc: 0.7187\n",
      "Epoch 84/9999\n",
      "55842/55842 [==============================] - 3s 46us/step - loss: 0.5507 - acc: 0.7067 - val_loss: 0.5354 - val_acc: 0.7186\n",
      "Epoch 85/9999\n",
      "55842/55842 [==============================] - 3s 45us/step - loss: 0.5502 - acc: 0.7095 - val_loss: 0.5352 - val_acc: 0.7184\n",
      "Epoch 86/9999\n",
      "55842/55842 [==============================] - 3s 46us/step - loss: 0.5504 - acc: 0.7076 - val_loss: 0.5353 - val_acc: 0.7191\n",
      "Epoch 87/9999\n",
      "55842/55842 [==============================] - 3s 46us/step - loss: 0.5511 - acc: 0.7065 - val_loss: 0.5347 - val_acc: 0.7201\n",
      "Epoch 88/9999\n",
      "55842/55842 [==============================] - 3s 46us/step - loss: 0.5508 - acc: 0.7068 - val_loss: 0.5349 - val_acc: 0.7195\n",
      "Epoch 89/9999\n",
      "55842/55842 [==============================] - 2s 44us/step - loss: 0.5509 - acc: 0.7072 - val_loss: 0.5355 - val_acc: 0.7175\n",
      "Epoch 90/9999\n",
      "55842/55842 [==============================] - 2s 44us/step - loss: 0.5494 - acc: 0.7072 - val_loss: 0.5355 - val_acc: 0.7171\n",
      "Epoch 91/9999\n",
      "55842/55842 [==============================] - 2s 43us/step - loss: 0.5506 - acc: 0.7083 - val_loss: 0.5352 - val_acc: 0.7185\n",
      "Epoch 92/9999\n",
      "55842/55842 [==============================] - 2s 43us/step - loss: 0.5503 - acc: 0.7071 - val_loss: 0.5349 - val_acc: 0.7197\n",
      "Epoch 93/9999\n",
      "55842/55842 [==============================] - 2s 44us/step - loss: 0.5497 - acc: 0.7081 - val_loss: 0.5352 - val_acc: 0.7199\n",
      "Epoch 94/9999\n",
      "55842/55842 [==============================] - 3s 46us/step - loss: 0.5500 - acc: 0.7083 - val_loss: 0.5356 - val_acc: 0.7189\n",
      "Epoch 95/9999\n",
      "55842/55842 [==============================] - 3s 46us/step - loss: 0.5493 - acc: 0.7074 - val_loss: 0.5350 - val_acc: 0.7202\n",
      "Epoch 96/9999\n",
      "55842/55842 [==============================] - 3s 46us/step - loss: 0.5488 - acc: 0.7090 - val_loss: 0.5353 - val_acc: 0.7178\n",
      "Epoch 97/9999\n",
      "55842/55842 [==============================] - 3s 46us/step - loss: 0.5502 - acc: 0.7087 - val_loss: 0.5351 - val_acc: 0.7197\n",
      "Epoch 98/9999\n",
      "55842/55842 [==============================] - 3s 45us/step - loss: 0.5490 - acc: 0.7084 - val_loss: 0.5347 - val_acc: 0.7199\n",
      "Epoch 99/9999\n",
      "55842/55842 [==============================] - 3s 46us/step - loss: 0.5510 - acc: 0.7081 - val_loss: 0.5355 - val_acc: 0.7190\n",
      "Epoch 100/9999\n",
      "55842/55842 [==============================] - 3s 46us/step - loss: 0.5484 - acc: 0.7077 - val_loss: 0.5351 - val_acc: 0.7182\n",
      "Epoch 101/9999\n",
      "55842/55842 [==============================] - 3s 46us/step - loss: 0.5495 - acc: 0.7070 - val_loss: 0.5342 - val_acc: 0.7171\n",
      "Epoch 102/9999\n",
      "55842/55842 [==============================] - 3s 46us/step - loss: 0.5492 - acc: 0.7084 - val_loss: 0.5340 - val_acc: 0.7182\n",
      "Epoch 103/9999\n",
      "55842/55842 [==============================] - 3s 46us/step - loss: 0.5480 - acc: 0.7078 - val_loss: 0.5340 - val_acc: 0.7197\n",
      "Epoch 104/9999\n",
      "55842/55842 [==============================] - 3s 46us/step - loss: 0.5484 - acc: 0.7078 - val_loss: 0.5346 - val_acc: 0.7199\n",
      "Epoch 105/9999\n",
      "55842/55842 [==============================] - 3s 46us/step - loss: 0.5499 - acc: 0.7078 - val_loss: 0.5345 - val_acc: 0.7186\n",
      "Epoch 106/9999\n",
      "55842/55842 [==============================] - 3s 46us/step - loss: 0.5496 - acc: 0.7075 - val_loss: 0.5348 - val_acc: 0.7181\n",
      "Epoch 107/9999\n",
      "55842/55842 [==============================] - 3s 46us/step - loss: 0.5503 - acc: 0.7063 - val_loss: 0.5350 - val_acc: 0.7210\n",
      "Epoch 108/9999\n",
      "55842/55842 [==============================] - 3s 46us/step - loss: 0.5485 - acc: 0.7086 - val_loss: 0.5347 - val_acc: 0.7182\n",
      "Epoch 109/9999\n",
      "55842/55842 [==============================] - 3s 46us/step - loss: 0.5473 - acc: 0.7075 - val_loss: 0.5354 - val_acc: 0.7192\n",
      "Epoch 110/9999\n",
      "55842/55842 [==============================] - 3s 47us/step - loss: 0.5477 - acc: 0.7079 - val_loss: 0.5345 - val_acc: 0.7195\n",
      "Epoch 111/9999\n",
      "55842/55842 [==============================] - 3s 46us/step - loss: 0.5493 - acc: 0.7077 - val_loss: 0.5337 - val_acc: 0.7194\n",
      "Epoch 112/9999\n",
      "55842/55842 [==============================] - 3s 45us/step - loss: 0.5489 - acc: 0.7081 - val_loss: 0.5337 - val_acc: 0.7191\n",
      "Epoch 113/9999\n",
      "55842/55842 [==============================] - 3s 45us/step - loss: 0.5486 - acc: 0.7074 - val_loss: 0.5338 - val_acc: 0.7184\n",
      "Epoch 114/9999\n",
      "55842/55842 [==============================] - 3s 45us/step - loss: 0.5482 - acc: 0.7076 - val_loss: 0.5339 - val_acc: 0.7184\n",
      "Epoch 115/9999\n",
      "55842/55842 [==============================] - 3s 46us/step - loss: 0.5490 - acc: 0.7105 - val_loss: 0.5338 - val_acc: 0.7180\n",
      "Epoch 116/9999\n",
      "55842/55842 [==============================] - 3s 46us/step - loss: 0.5489 - acc: 0.7057 - val_loss: 0.5339 - val_acc: 0.7180\n",
      "Epoch 117/9999\n"
     ]
    },
    {
     "name": "stdout",
     "output_type": "stream",
     "text": [
      "55842/55842 [==============================] - 3s 46us/step - loss: 0.5483 - acc: 0.7065 - val_loss: 0.5342 - val_acc: 0.7201\n",
      "Epoch 118/9999\n",
      "55842/55842 [==============================] - 3s 46us/step - loss: 0.5482 - acc: 0.7082 - val_loss: 0.5336 - val_acc: 0.7195\n",
      "Epoch 119/9999\n",
      "55842/55842 [==============================] - 3s 46us/step - loss: 0.5469 - acc: 0.7083 - val_loss: 0.5333 - val_acc: 0.7184\n",
      "Epoch 120/9999\n",
      "55842/55842 [==============================] - 3s 47us/step - loss: 0.5484 - acc: 0.7075 - val_loss: 0.5338 - val_acc: 0.7199\n",
      "Epoch 121/9999\n",
      "55842/55842 [==============================] - 3s 46us/step - loss: 0.5482 - acc: 0.7081 - val_loss: 0.5327 - val_acc: 0.7197\n",
      "Epoch 122/9999\n",
      "55842/55842 [==============================] - 3s 46us/step - loss: 0.5474 - acc: 0.7082 - val_loss: 0.5332 - val_acc: 0.7194\n",
      "Epoch 123/9999\n",
      "55842/55842 [==============================] - 3s 45us/step - loss: 0.5480 - acc: 0.7100 - val_loss: 0.5333 - val_acc: 0.7186\n",
      "Epoch 124/9999\n",
      "55842/55842 [==============================] - 3s 46us/step - loss: 0.5472 - acc: 0.7097 - val_loss: 0.5339 - val_acc: 0.7192\n",
      "Epoch 125/9999\n",
      "55842/55842 [==============================] - 3s 46us/step - loss: 0.5473 - acc: 0.7089 - val_loss: 0.5335 - val_acc: 0.7201\n",
      "Epoch 126/9999\n",
      "55842/55842 [==============================] - 3s 46us/step - loss: 0.5479 - acc: 0.7075 - val_loss: 0.5337 - val_acc: 0.7200\n",
      "Epoch 127/9999\n",
      "55842/55842 [==============================] - 3s 46us/step - loss: 0.5483 - acc: 0.7074 - val_loss: 0.5329 - val_acc: 0.7190\n",
      "Epoch 128/9999\n",
      "55842/55842 [==============================] - 3s 46us/step - loss: 0.5474 - acc: 0.7077 - val_loss: 0.5333 - val_acc: 0.7187\n",
      "Epoch 129/9999\n",
      "55842/55842 [==============================] - 3s 45us/step - loss: 0.5477 - acc: 0.7079 - val_loss: 0.5332 - val_acc: 0.7190\n",
      "Epoch 130/9999\n",
      "55842/55842 [==============================] - 3s 46us/step - loss: 0.5483 - acc: 0.7079 - val_loss: 0.5329 - val_acc: 0.7209\n",
      "Epoch 131/9999\n",
      "55842/55842 [==============================] - 3s 46us/step - loss: 0.5469 - acc: 0.7087 - val_loss: 0.5326 - val_acc: 0.7199\n",
      "Epoch 132/9999\n",
      "55842/55842 [==============================] - 3s 46us/step - loss: 0.5464 - acc: 0.7086 - val_loss: 0.5333 - val_acc: 0.7200\n"
     ]
    }
   ],
   "source": [
    "history = model.fit(x_train, y_train,\n",
    "                    batch_size=512,\n",
    "                    epochs=9999,\n",
    "                    verbose=1,\n",
    "                    validation_data=(x_val, y_val),\n",
    "                    callbacks=[callbacks.EarlyStopping(\n",
    "                    monitor='val_acc',\n",
    "                    min_delta=0.0001,\n",
    "                    patience=25,\n",
    "                    restore_best_weights=True)])"
   ]
  },
  {
   "cell_type": "code",
   "execution_count": 47,
   "metadata": {
    "colab": {
     "base_uri": "https://localhost:8080/",
     "height": 52
    },
    "colab_type": "code",
    "executionInfo": {
     "elapsed": 635747,
     "status": "ok",
     "timestamp": 1551477638032,
     "user": {
      "displayName": "Quentin Fournier",
      "photoUrl": "https://lh3.googleusercontent.com/--7LcocvGIHw/AAAAAAAAAAI/AAAAAAAAAA0/3JKWMmHuo-I/s64/photo.jpg",
      "userId": "15777129185599330219"
     },
     "user_tz": 300
    },
    "id": "c4RUEzjCKgz-",
    "outputId": "f0e498cd-34f6-406b-8a3c-a4653a4c58dc"
   },
   "outputs": [
    {
     "name": "stdout",
     "output_type": "stream",
     "text": [
      "Test loss: 0.5355057043477832\n",
      "Test accuracy: 0.707928549077809\n"
     ]
    }
   ],
   "source": [
    "score = model.evaluate(x_test, y_test, verbose=0)\n",
    "print('Test loss:', score[0])\n",
    "print('Test accuracy:', score[1])"
   ]
  },
  {
   "cell_type": "code",
   "execution_count": 48,
   "metadata": {
    "colab": {
     "base_uri": "https://localhost:8080/",
     "height": 293
    },
    "colab_type": "code",
    "executionInfo": {
     "elapsed": 636314,
     "status": "ok",
     "timestamp": 1551477638609,
     "user": {
      "displayName": "Quentin Fournier",
      "photoUrl": "https://lh3.googleusercontent.com/--7LcocvGIHw/AAAAAAAAAAI/AAAAAAAAAA0/3JKWMmHuo-I/s64/photo.jpg",
      "userId": "15777129185599330219"
     },
     "user_tz": 300
    },
    "id": "UPehLVB3CM8P",
    "outputId": "f5d7e480-a9fc-45a4-fae0-57c3d20e863d"
   },
   "outputs": [
    {
     "data": {
      "image/png": "[encoded data removed]",
      "text/plain": [
       "<Figure size 576x288 with 2 Axes>"
      ]
     },
     "metadata": {
      "needs_background": "light"
     },
     "output_type": "display_data"
    }
   ],
   "source": [
    "plot_history(history, \"discret_binaire\")"
   ]
  },
  {
   "cell_type": "code",
   "execution_count": 49,
   "metadata": {
    "colab": {},
    "colab_type": "code",
    "id": "TXEZ15hI5r0H"
   },
   "outputs": [],
   "source": [
    "# Let's try with one hot vector input (except age, data which are real valued -> scaled version, and name that is arleady binary)\n",
    "one_hot_animal_breed = np.eye(len(set(x[:,3])))[x[:,3].astype(\"int\")]\n",
    "one_hot_color = np.eye(len(set(x[:,4])))[x[:,4].astype(\"int\")]\n",
    "one_hot_condition = np.eye(len(set(x[:,5])))[x[:,5].astype(\"int\")]\n",
    "one_hot_type = np.eye(len(set(x[:,6])))[x[:,6].astype(\"int\")]\n",
    "one_hot_sex = np.eye(len(set(x[:,7])))[x[:,7].astype(\"int\")]\n",
    "\n",
    "x_one_hot = np.concatenate((x_scaled[:,:2], x[:,2].reshape(-1,1), one_hot_animal_breed, one_hot_color, one_hot_condition, one_hot_type, one_hot_sex), axis=1)"
   ]
  },
  {
   "cell_type": "code",
   "execution_count": 50,
   "metadata": {
    "colab": {},
    "colab_type": "code",
    "id": "OYlMZ7SG8tVu"
   },
   "outputs": [],
   "source": [
    "# split dataset into a training, validation and test set\n",
    "x_train, x_test, y_train, y_test = train_test_split(x_one_hot, binary_y, test_size=0.2, stratify=binary_y)\n",
    "# we split first (train/test) then (train/valid) 12.5% of 80% is the same as 10% of 100%\n",
    "x_train, x_val, y_train, y_val = train_test_split(x_train, y_train, test_size=0.125, stratify=y_train)"
   ]
  },
  {
   "cell_type": "code",
   "execution_count": 51,
   "metadata": {
    "colab": {
     "base_uri": "https://localhost:8080/",
     "height": 70
    },
    "colab_type": "code",
    "executionInfo": {
     "elapsed": 186,
     "status": "ok",
     "timestamp": 1551477774199,
     "user": {
      "displayName": "Quentin Fournier",
      "photoUrl": "https://lh3.googleusercontent.com/--7LcocvGIHw/AAAAAAAAAAI/AAAAAAAAAA0/3JKWMmHuo-I/s64/photo.jpg",
      "userId": "15777129185599330219"
     },
     "user_tz": 300
    },
    "id": "w_qUjSBL9NFS",
    "outputId": "4fbd09c9-1336-4bf5-8371-e127372b3844"
   },
   "outputs": [
    {
     "name": "stdout",
     "output_type": "stream",
     "text": [
      "(55842, 2709)\n",
      "(7978, 2709)\n",
      "(15955, 2709)\n"
     ]
    }
   ],
   "source": [
    "print(x_train.shape)\n",
    "print(x_val.shape)\n",
    "print(x_test.shape)"
   ]
  },
  {
   "cell_type": "code",
   "execution_count": 52,
   "metadata": {
    "colab": {
     "base_uri": "https://localhost:8080/",
     "height": 1240
    },
    "colab_type": "code",
    "executionInfo": {
     "elapsed": 121112,
     "status": "ok",
     "timestamp": 1551478216714,
     "user": {
      "displayName": "Quentin Fournier",
      "photoUrl": "https://lh3.googleusercontent.com/--7LcocvGIHw/AAAAAAAAAAI/AAAAAAAAAA0/3JKWMmHuo-I/s64/photo.jpg",
      "userId": "15777129185599330219"
     },
     "user_tz": 300
    },
    "id": "fDSP6_vD9Uut",
    "outputId": "6787e699-49e1-458e-cd77-006964333ecc"
   },
   "outputs": [
    {
     "name": "stdout",
     "output_type": "stream",
     "text": [
      "_________________________________________________________________\n",
      "Layer (type)                 Output Shape              Param #   \n",
      "=================================================================\n",
      "input_3 (InputLayer)         (None, 2709)              0         \n",
      "_________________________________________________________________\n",
      "batch_normalization_10 (Batc (None, 2709)              10836     \n",
      "_________________________________________________________________\n",
      "dense_10 (Dense)             (None, 128)               346880    \n",
      "_________________________________________________________________\n",
      "batch_normalization_11 (Batc (None, 128)               512       \n",
      "_________________________________________________________________\n",
      "dropout_8 (Dropout)          (None, 128)               0         \n",
      "_________________________________________________________________\n",
      "activation_10 (Activation)   (None, 128)               0         \n",
      "_________________________________________________________________\n",
      "dense_11 (Dense)             (None, 64)                8256      \n",
      "_________________________________________________________________\n",
      "batch_normalization_12 (Batc (None, 64)                256       \n",
      "_________________________________________________________________\n",
      "dropout_9 (Dropout)          (None, 64)                0         \n",
      "_________________________________________________________________\n",
      "activation_11 (Activation)   (None, 64)                0         \n",
      "_________________________________________________________________\n",
      "dense_12 (Dense)             (None, 32)                2080      \n",
      "_________________________________________________________________\n",
      "batch_normalization_13 (Batc (None, 32)                128       \n",
      "_________________________________________________________________\n",
      "dropout_10 (Dropout)         (None, 32)                0         \n",
      "_________________________________________________________________\n",
      "activation_12 (Activation)   (None, 32)                0         \n",
      "_________________________________________________________________\n",
      "dense_13 (Dense)             (None, 1)                 33        \n",
      "_________________________________________________________________\n",
      "activation_13 (Activation)   (None, 1)                 0         \n",
      "=================================================================\n",
      "Total params: 368,981\n",
      "Trainable params: 363,115\n",
      "Non-trainable params: 5,866\n",
      "_________________________________________________________________\n"
     ]
    }
   ],
   "source": [
    "input = Input(shape=(2709, ))\n",
    "dense = BatchNormalization()(input)\n",
    "dense = Dense(128)(dense)\n",
    "dense = BatchNormalization()(dense)\n",
    "dense = Dropout(0.75)(dense)\n",
    "dense = Activation('relu')(dense)\n",
    "dense = Dense(64)(dense)\n",
    "dense = BatchNormalization()(dense)\n",
    "dense = Dropout(0.75)(dense)\n",
    "dense = Activation('relu')(dense)\n",
    "dense = Dense(32)(dense)\n",
    "dense = BatchNormalization()(dense)\n",
    "dense = Dropout(0.75)(dense)\n",
    "dense = Activation('relu')(dense)\n",
    "dense = Dense(1)(dense)\n",
    "output = Activation('sigmoid')(dense)\n",
    "\n",
    "model = Model(inputs=input, outputs=output)\n",
    "\n",
    "model.compile(loss='binary_crossentropy',\n",
    "              optimizer=\"Adam\",\n",
    "              metrics=['accuracy'])\n",
    "model.summary()"
   ]
  },
  {
   "cell_type": "code",
   "execution_count": 53,
   "metadata": {},
   "outputs": [
    {
     "name": "stdout",
     "output_type": "stream",
     "text": [
      "Train on 55842 samples, validate on 7978 samples\n",
      "Epoch 1/9999\n",
      "55842/55842 [==============================] - 6s 105us/step - loss: 0.8562 - acc: 0.5224 - val_loss: 0.6559 - val_acc: 0.5866\n",
      "Epoch 2/9999\n",
      "55842/55842 [==============================] - 4s 67us/step - loss: 0.7218 - acc: 0.5479 - val_loss: 0.6313 - val_acc: 0.5900\n",
      "Epoch 3/9999\n",
      "55842/55842 [==============================] - 5s 81us/step - loss: 0.6625 - acc: 0.5805 - val_loss: 0.6107 - val_acc: 0.6049\n",
      "Epoch 4/9999\n",
      "55842/55842 [==============================] - 4s 66us/step - loss: 0.6354 - acc: 0.6037 - val_loss: 0.5921 - val_acc: 0.6718\n",
      "Epoch 5/9999\n",
      "55842/55842 [==============================] - 4s 65us/step - loss: 0.6177 - acc: 0.6206 - val_loss: 0.5769 - val_acc: 0.6920\n",
      "Epoch 6/9999\n",
      "55842/55842 [==============================] - 4s 66us/step - loss: 0.6057 - acc: 0.6381 - val_loss: 0.5675 - val_acc: 0.6989\n",
      "Epoch 7/9999\n",
      "55842/55842 [==============================] - 4s 78us/step - loss: 0.5983 - acc: 0.6489 - val_loss: 0.5610 - val_acc: 0.7002\n",
      "Epoch 8/9999\n",
      "55842/55842 [==============================] - 4s 80us/step - loss: 0.5897 - acc: 0.6601 - val_loss: 0.5561 - val_acc: 0.7018\n",
      "Epoch 9/9999\n",
      "55842/55842 [==============================] - 4s 80us/step - loss: 0.5854 - acc: 0.6672 - val_loss: 0.5532 - val_acc: 0.7018\n",
      "Epoch 10/9999\n",
      "55842/55842 [==============================] - 4s 76us/step - loss: 0.5803 - acc: 0.6776 - val_loss: 0.5503 - val_acc: 0.7067\n",
      "Epoch 11/9999\n",
      "55842/55842 [==============================] - 4s 79us/step - loss: 0.5732 - acc: 0.6837 - val_loss: 0.5483 - val_acc: 0.7082\n",
      "Epoch 12/9999\n",
      "55842/55842 [==============================] - 5s 82us/step - loss: 0.5705 - acc: 0.6877 - val_loss: 0.5474 - val_acc: 0.7116\n",
      "Epoch 13/9999\n",
      "55842/55842 [==============================] - 5s 82us/step - loss: 0.5668 - acc: 0.6949 - val_loss: 0.5467 - val_acc: 0.7131\n",
      "Epoch 14/9999\n",
      "55842/55842 [==============================] - 4s 78us/step - loss: 0.5651 - acc: 0.6955 - val_loss: 0.5457 - val_acc: 0.7132\n",
      "Epoch 15/9999\n",
      "55842/55842 [==============================] - 4s 73us/step - loss: 0.5617 - acc: 0.7004 - val_loss: 0.5449 - val_acc: 0.7172\n",
      "Epoch 16/9999\n",
      "55842/55842 [==============================] - 5s 82us/step - loss: 0.5574 - acc: 0.7071 - val_loss: 0.5451 - val_acc: 0.7175\n",
      "Epoch 17/9999\n",
      "55842/55842 [==============================] - 4s 79us/step - loss: 0.5542 - acc: 0.7072 - val_loss: 0.5448 - val_acc: 0.7191\n",
      "Epoch 18/9999\n",
      "55842/55842 [==============================] - 5s 83us/step - loss: 0.5530 - acc: 0.7082 - val_loss: 0.5456 - val_acc: 0.7196\n",
      "Epoch 19/9999\n",
      "55842/55842 [==============================] - 5s 82us/step - loss: 0.5492 - acc: 0.7131 - val_loss: 0.5472 - val_acc: 0.7236\n",
      "Epoch 20/9999\n",
      "55842/55842 [==============================] - 4s 79us/step - loss: 0.5475 - acc: 0.7136 - val_loss: 0.5466 - val_acc: 0.7234\n",
      "Epoch 21/9999\n",
      "55842/55842 [==============================] - 5s 82us/step - loss: 0.5485 - acc: 0.7133 - val_loss: 0.5474 - val_acc: 0.7217\n",
      "Epoch 22/9999\n",
      "55842/55842 [==============================] - 4s 80us/step - loss: 0.5458 - acc: 0.7172 - val_loss: 0.5494 - val_acc: 0.7242\n",
      "Epoch 23/9999\n",
      "55842/55842 [==============================] - 5s 81us/step - loss: 0.5431 - acc: 0.7199 - val_loss: 0.5501 - val_acc: 0.7217\n",
      "Epoch 24/9999\n",
      "55842/55842 [==============================] - 4s 78us/step - loss: 0.5422 - acc: 0.7192 - val_loss: 0.5520 - val_acc: 0.7226\n",
      "Epoch 25/9999\n",
      "55842/55842 [==============================] - 4s 77us/step - loss: 0.5389 - acc: 0.7208 - val_loss: 0.5523 - val_acc: 0.7246\n",
      "Epoch 26/9999\n",
      "55842/55842 [==============================] - 4s 76us/step - loss: 0.5371 - acc: 0.7236 - val_loss: 0.5538 - val_acc: 0.7247\n",
      "Epoch 27/9999\n",
      "55842/55842 [==============================] - 4s 79us/step - loss: 0.5372 - acc: 0.7234 - val_loss: 0.5552 - val_acc: 0.7237\n",
      "Epoch 28/9999\n",
      "55842/55842 [==============================] - 4s 80us/step - loss: 0.5333 - acc: 0.7271 - val_loss: 0.5574 - val_acc: 0.7239\n",
      "Epoch 29/9999\n",
      "55842/55842 [==============================] - 5s 81us/step - loss: 0.5321 - acc: 0.7290 - val_loss: 0.5594 - val_acc: 0.7264\n",
      "Epoch 30/9999\n",
      "55842/55842 [==============================] - 4s 79us/step - loss: 0.5326 - acc: 0.7292 - val_loss: 0.5613 - val_acc: 0.7235\n",
      "Epoch 31/9999\n",
      "55842/55842 [==============================] - 4s 78us/step - loss: 0.5310 - acc: 0.7305 - val_loss: 0.5624 - val_acc: 0.7235\n",
      "Epoch 32/9999\n",
      "55842/55842 [==============================] - 4s 79us/step - loss: 0.5307 - acc: 0.7311 - val_loss: 0.5618 - val_acc: 0.7234\n",
      "Epoch 33/9999\n",
      "55842/55842 [==============================] - 4s 78us/step - loss: 0.5280 - acc: 0.7307 - val_loss: 0.5629 - val_acc: 0.7262\n",
      "Epoch 34/9999\n",
      "55842/55842 [==============================] - 4s 79us/step - loss: 0.5289 - acc: 0.7304 - val_loss: 0.5637 - val_acc: 0.7272\n",
      "Epoch 35/9999\n",
      "55842/55842 [==============================] - 5s 82us/step - loss: 0.5262 - acc: 0.7345 - val_loss: 0.5660 - val_acc: 0.7275\n",
      "Epoch 36/9999\n",
      "55842/55842 [==============================] - 5s 84us/step - loss: 0.5261 - acc: 0.7329 - val_loss: 0.5657 - val_acc: 0.7270\n",
      "Epoch 37/9999\n",
      "55842/55842 [==============================] - 4s 79us/step - loss: 0.5245 - acc: 0.7351 - val_loss: 0.5682 - val_acc: 0.7280\n",
      "Epoch 38/9999\n",
      "55842/55842 [==============================] - 4s 80us/step - loss: 0.5248 - acc: 0.7355 - val_loss: 0.5685 - val_acc: 0.7280\n",
      "Epoch 39/9999\n",
      "55842/55842 [==============================] - 4s 78us/step - loss: 0.5226 - acc: 0.7348 - val_loss: 0.5711 - val_acc: 0.7303\n",
      "Epoch 40/9999\n",
      "55842/55842 [==============================] - 5s 81us/step - loss: 0.5236 - acc: 0.7344 - val_loss: 0.5727 - val_acc: 0.7289\n",
      "Epoch 41/9999\n",
      "55842/55842 [==============================] - 4s 77us/step - loss: 0.5226 - acc: 0.7352 - val_loss: 0.5721 - val_acc: 0.7276\n",
      "Epoch 42/9999\n",
      "55842/55842 [==============================] - 4s 74us/step - loss: 0.5206 - acc: 0.7379 - val_loss: 0.5739 - val_acc: 0.7279\n",
      "Epoch 43/9999\n",
      "55842/55842 [==============================] - 4s 79us/step - loss: 0.5216 - acc: 0.7363 - val_loss: 0.5749 - val_acc: 0.7275\n",
      "Epoch 44/9999\n",
      "55842/55842 [==============================] - 4s 73us/step - loss: 0.5180 - acc: 0.7408 - val_loss: 0.5769 - val_acc: 0.7286\n",
      "Epoch 45/9999\n",
      "55842/55842 [==============================] - 5s 81us/step - loss: 0.5188 - acc: 0.7412 - val_loss: 0.5784 - val_acc: 0.7267\n",
      "Epoch 46/9999\n",
      "55842/55842 [==============================] - 4s 81us/step - loss: 0.5185 - acc: 0.7372 - val_loss: 0.5808 - val_acc: 0.7269\n",
      "Epoch 47/9999\n",
      "55842/55842 [==============================] - 4s 76us/step - loss: 0.5178 - acc: 0.7398 - val_loss: 0.5824 - val_acc: 0.7274\n",
      "Epoch 48/9999\n",
      "55842/55842 [==============================] - 4s 77us/step - loss: 0.5163 - acc: 0.7413 - val_loss: 0.5841 - val_acc: 0.7254\n",
      "Epoch 49/9999\n",
      "55842/55842 [==============================] - 4s 80us/step - loss: 0.5136 - acc: 0.7417 - val_loss: 0.5870 - val_acc: 0.7266\n"
     ]
    }
   ],
   "source": [
    "history = model.fit(x_train, y_train,\n",
    "                    batch_size=512,\n",
    "                    epochs=9999,\n",
    "                    verbose=1,\n",
    "                    validation_data=(x_val, y_val),\n",
    "                    callbacks=[callbacks.EarlyStopping(\n",
    "                    monitor='val_acc',\n",
    "                    min_delta=0.001,\n",
    "                    patience=10,\n",
    "                    restore_best_weights=True)])"
   ]
  },
  {
   "cell_type": "code",
   "execution_count": 54,
   "metadata": {
    "colab": {
     "base_uri": "https://localhost:8080/",
     "height": 52
    },
    "colab_type": "code",
    "executionInfo": {
     "elapsed": 121234,
     "status": "ok",
     "timestamp": 1551478218739,
     "user": {
      "displayName": "Quentin Fournier",
      "photoUrl": "https://lh3.googleusercontent.com/--7LcocvGIHw/AAAAAAAAAAI/AAAAAAAAAA0/3JKWMmHuo-I/s64/photo.jpg",
      "userId": "15777129185599330219"
     },
     "user_tz": 300
    },
    "id": "sEobzHqhKckC",
    "outputId": "8d181dd0-2e1f-4fad-8a88-72bb84cf6416"
   },
   "outputs": [
    {
     "name": "stdout",
     "output_type": "stream",
     "text": [
      "Test loss: 0.5766410543622734\n",
      "Test accuracy: 0.719460984006342\n"
     ]
    }
   ],
   "source": [
    "score = model.evaluate(x_test, y_test, verbose=0)\n",
    "print('Test loss:', score[0])\n",
    "print('Test accuracy:', score[1])"
   ]
  },
  {
   "cell_type": "code",
   "execution_count": 55,
   "metadata": {
    "colab": {
     "base_uri": "https://localhost:8080/",
     "height": 293
    },
    "colab_type": "code",
    "executionInfo": {
     "elapsed": 121291,
     "status": "ok",
     "timestamp": 1551478219255,
     "user": {
      "displayName": "Quentin Fournier",
      "photoUrl": "https://lh3.googleusercontent.com/--7LcocvGIHw/AAAAAAAAAAI/AAAAAAAAAA0/3JKWMmHuo-I/s64/photo.jpg",
      "userId": "15777129185599330219"
     },
     "user_tz": 300
    },
    "id": "AGNLSKuY-f-o",
    "outputId": "b198c2ae-c0bc-425d-e5e9-fc7c11aaca87"
   },
   "outputs": [
    {
     "data": {
      "image/png": "[encoded data removed]",
      "text/plain": [
       "<Figure size 576x288 with 2 Axes>"
      ]
     },
     "metadata": {
      "needs_background": "light"
     },
     "output_type": "display_data"
    }
   ],
   "source": [
    "plot_history(history, \"one_hot_binaire\")"
   ]
  }
 ],
 "metadata": {
  "accelerator": "GPU",
  "colab": {
   "collapsed_sections": [],
   "name": "notebook.ipynb",
   "provenance": [],
   "version": "0.3.2"
  },
  "kernelspec": {
   "display_name": "Python 3",
   "language": "python",
   "name": "python3"
  },
  "language_info": {
   "codemirror_mode": {
    "name": "ipython",
    "version": 3
   },
   "file_extension": ".py",
   "mimetype": "text/x-python",
   "name": "python",
   "nbconvert_exporter": "python",
   "pygments_lexer": "ipython3",
   "version": "3.6.7"
  }
 },
 "nbformat": 4,
 "nbformat_minor": 1
}

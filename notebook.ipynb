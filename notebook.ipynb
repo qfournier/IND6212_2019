{
 "cells": [
  {
   "cell_type": "markdown",
   "metadata": {
    "colab_type": "text",
    "id": "09foqF_rg4sX"
   },
   "source": [
    "# IND6212 Project\n",
    "---"
   ]
  },
  {
   "cell_type": "markdown",
   "metadata": {
    "colab_type": "text",
    "id": "EqaDy0-OkSoj"
   },
   "source": [
    "# Preprocessing"
   ]
  },
  {
   "cell_type": "code",
   "execution_count": null,
   "metadata": {
    "colab": {},
    "colab_type": "code",
    "id": "hJEkOKsOmOe6"
   },
   "outputs": [],
   "source": [
    "# import libraries\n",
    "import csv\n",
    "import numpy as np\n",
    "import seaborn as sns\n",
    "import matplotlib.pyplot as plt\n",
    "\n",
    "from MulticoreTSNE import MulticoreTSNE as TSNE\n",
    "\n",
    "from sklearn.model_selection import train_test_split\n",
    "from sklearn.preprocessing import StandardScaler\n",
    "from sklearn.metrics import confusion_matrix\n",
    "\n",
    "from keras import metrics\n",
    "from keras import callbacks\n",
    "from keras.layers import BatchNormalization\n",
    "from keras.layers import Activation\n",
    "from keras.layers import Dropout\n",
    "from keras.layers import Input\n",
    "from keras.layers import Dense\n",
    "from keras.models import Model"
   ]
  },
  {
   "cell_type": "code",
   "execution_count": null,
   "metadata": {
    "colab": {
     "base_uri": "https://localhost:8080/",
     "height": 34
    },
    "colab_type": "code",
    "executionInfo": {
     "elapsed": 827,
     "status": "ok",
     "timestamp": 1551477002852,
     "user": {
      "displayName": "Quentin Fournier",
      "photoUrl": "https://lh3.googleusercontent.com/--7LcocvGIHw/AAAAAAAAAAI/AAAAAAAAAA0/3JKWMmHuo-I/s64/photo.jpg",
      "userId": "15777129185599330219"
     },
     "user_tz": 300
    },
    "id": "zAI5juMCi9NW",
    "outputId": "f42d7049-e473-43ee-8bc1-27941d302069"
   },
   "outputs": [],
   "source": [
    "# if runned on colaboratory\n",
    "GOOGLE = False\n",
    "if GOOGLE:\n",
    "    # Load the Drive helper and mount\n",
    "    from google.colab import drive\n",
    "    drive.mount(\"/content/drive/\")\n",
    "    path = \"/content/drive/My Drive/EPM/PhD/IND6212/Projet/\"\n",
    "else:\n",
    "    path = \"\""
   ]
  },
  {
   "cell_type": "code",
   "execution_count": null,
   "metadata": {
    "colab": {},
    "colab_type": "code",
    "id": "2U3Rv1zlnD4l"
   },
   "outputs": [],
   "source": [
    "# read intakes\n",
    "with open(\"{}data/aac_intakes.csv\".format(path), \"r\") as file:\n",
    "    reader = csv.reader(file)\n",
    "    header_intake = next(reader)\n",
    "    intakes = [[value for value in row] for row in reader]"
   ]
  },
  {
   "cell_type": "code",
   "execution_count": null,
   "metadata": {
    "colab": {},
    "colab_type": "code",
    "id": "yiA6eZAn6y7H"
   },
   "outputs": [],
   "source": [
    "# read outcomes\n",
    "with open(\"{}data/aac_outcomes.csv\".format(path), \"r\") as file:\n",
    "    reader = csv.reader(file)\n",
    "    header_outcome = next(reader)\n",
    "    outcomes = [[value for value in row] for row in reader]"
   ]
  },
  {
   "cell_type": "code",
   "execution_count": null,
   "metadata": {
    "colab": {},
    "colab_type": "code",
    "id": "QzKchubB-Aut"
   },
   "outputs": [],
   "source": [
    "# convert numpy array\n",
    "header_intake = np.asarray(header_intake)\n",
    "header_outcome = np.asarray(header_outcome)\n",
    "\n",
    "intakes = np.asarray(intakes)\n",
    "outcomes = np.asarray(outcomes)"
   ]
  },
  {
   "cell_type": "code",
   "execution_count": null,
   "metadata": {
    "colab": {
     "base_uri": "https://localhost:8080/",
     "height": 247
    },
    "colab_type": "code",
    "executionInfo": {
     "elapsed": 2115,
     "status": "ok",
     "timestamp": 1551477004171,
     "user": {
      "displayName": "Quentin Fournier",
      "photoUrl": "https://lh3.googleusercontent.com/--7LcocvGIHw/AAAAAAAAAAI/AAAAAAAAAA0/3JKWMmHuo-I/s64/photo.jpg",
      "userId": "15777129185599330219"
     },
     "user_tz": 300
    },
    "id": "xNdn1KsaCQ8i",
    "outputId": "4837489c-c814-4366-8106-f8091ed16672"
   },
   "outputs": [],
   "source": [
    "print(\"Intakes\")\n",
    "for i, c in enumerate(header_intake):\n",
    "    print(\"{} : {}\".format(i, c))"
   ]
  },
  {
   "cell_type": "code",
   "execution_count": null,
   "metadata": {
    "colab": {
     "base_uri": "https://localhost:8080/",
     "height": 247
    },
    "colab_type": "code",
    "executionInfo": {
     "elapsed": 2107,
     "status": "ok",
     "timestamp": 1551477004172,
     "user": {
      "displayName": "Quentin Fournier",
      "photoUrl": "https://lh3.googleusercontent.com/--7LcocvGIHw/AAAAAAAAAAI/AAAAAAAAAA0/3JKWMmHuo-I/s64/photo.jpg",
      "userId": "15777129185599330219"
     },
     "user_tz": 300
    },
    "id": "UM6iq1A7g4sx",
    "outputId": "023cb6b5-56db-4e15-b635-d63a6db48c89"
   },
   "outputs": [],
   "source": [
    "print(\"Outcomes\")\n",
    "for i, c in enumerate(header_outcome):\n",
    "    print(\"{} : {}\".format(i, c))"
   ]
  },
  {
   "cell_type": "code",
   "execution_count": null,
   "metadata": {
    "colab": {
     "base_uri": "https://localhost:8080/",
     "height": 34
    },
    "colab_type": "code",
    "executionInfo": {
     "elapsed": 288277,
     "status": "ok",
     "timestamp": 1551477290352,
     "user": {
      "displayName": "Quentin Fournier",
      "photoUrl": "https://lh3.googleusercontent.com/--7LcocvGIHw/AAAAAAAAAAI/AAAAAAAAAA0/3JKWMmHuo-I/s64/photo.jpg",
      "userId": "15777129185599330219"
     },
     "user_tz": 300
    },
    "id": "2-znohIVH8QD",
    "outputId": "9fbafda1-ac16-4f5f-99c5-60f0c020021f"
   },
   "outputs": [],
   "source": [
    "# get the last outcome (it can be transfered multiple times, we want the last update)\n",
    "# if no outcome, then we remove the example (line)\n",
    "counter = 0\n",
    "data = []\n",
    "for i, x in enumerate(intakes, 1):\n",
    "    index = np.where(outcomes[:, 1] == x[1])\n",
    "    if len(index[0]) > 0 and outcomes[index[0][-1], 10]:\n",
    "        data.append(np.concatenate((x, [outcomes[index[0][-1], 10]])))\n",
    "    else:\n",
    "        counter += 1\n",
    "    print(\"\\r{} | {}\".format(i - counter, counter), end=\" \")"
   ]
  },
  {
   "cell_type": "code",
   "execution_count": null,
   "metadata": {
    "colab": {},
    "colab_type": "code",
    "id": "pPVWHiH7MjGe"
   },
   "outputs": [],
   "source": [
    "# add the outcome to data\n",
    "data = np.asarray(data)\n",
    "header = np.concatenate((header_intake, [\"outcome\"]))"
   ]
  },
  {
   "cell_type": "markdown",
   "metadata": {
    "colab_type": "text",
    "id": "QzqER2neg4s5"
   },
   "source": [
    "The author of the dataset explained that Rto-Adopt = Return to Owner and Disposal = Died (see [link](https://www.kaggle.com/aaronschlegel/austin-animal-center-shelter-intakes-and-outcomes/discussion/56707#latest-329163))"
   ]
  },
  {
   "cell_type": "code",
   "execution_count": null,
   "metadata": {
    "colab": {},
    "colab_type": "code",
    "id": "rvB9y_1og4s5",
    "scrolled": true
   },
   "outputs": [],
   "source": [
    "for row in data:\n",
    "    if row[-1] == \"Rto-Adopt\":\n",
    "        row[-1]=\"Return to Owner\"\n",
    "    if row[-1] == \"Disposal\":\n",
    "        row[-1]=\"Died\""
   ]
  },
  {
   "cell_type": "code",
   "execution_count": null,
   "metadata": {},
   "outputs": [],
   "source": [
    "# plot class distribution with seaborn\n",
    "plt.figure(figsize=(10, 4))\n",
    "sns.set(style=\"darkgrid\")\n",
    "name, count = np.unique(data[:,-1], return_counts=True)\n",
    "graph = sns.countplot(data[:,-1], order =name)\n",
    "for i, c in enumerate(count):\n",
    "    graph.text(i, c+500, c, color='black', ha=\"center\")\n",
    "plt.tight_layout()\n",
    "plt.savefig(\"figures/class_distribution.png\", dpi=300, transparent=True)\n",
    "plt.show()\n",
    "plt.close()"
   ]
  },
  {
   "cell_type": "code",
   "execution_count": null,
   "metadata": {
    "colab": {},
    "colab_type": "code",
    "id": "N00JRUjAM_vU"
   },
   "outputs": [],
   "source": [
    "# remove the animal id\n",
    "data = np.delete(data, 1, axis=1)\n",
    "header = np.delete(header, 1, axis=0)"
   ]
  },
  {
   "cell_type": "code",
   "execution_count": null,
   "metadata": {
    "colab": {},
    "colab_type": "code",
    "id": "sCfUmh8QSIr9"
   },
   "outputs": [],
   "source": [
    "# convert intake date into a real value (year)\n",
    "for x in data:\n",
    "    s = x[0].split()\n",
    "    if \"year\" in s[1]:\n",
    "        x[0] = float(s[0])\n",
    "    if \"month\" in s[1]:\n",
    "        x[0] = float(s[0]) / 12.\n",
    "    if \"week\" in s[1]:\n",
    "        x[0] = float(s[0]) / 52.\n",
    "    if \"day\" in s[1]:\n",
    "        x[0] = float(s[0]) / 365."
   ]
  },
  {
   "cell_type": "code",
   "execution_count": null,
   "metadata": {
    "colab": {},
    "colab_type": "code",
    "id": "24LjYC4JaCfB"
   },
   "outputs": [],
   "source": [
    "# convertir animal breed to integer\n",
    "mapping_breed, breed_int = np.unique(data[:, 2], return_inverse=True)\n",
    "data = np.delete(data, [1, 2], axis=1)\n",
    "header = np.delete(header, [1, 2], axis=0)\n",
    "data = np.concatenate((data, breed_int.reshape(-1, 1)), axis=1)\n",
    "header = np.concatenate((header, [\"animal_breed\"]))"
   ]
  },
  {
   "cell_type": "code",
   "execution_count": null,
   "metadata": {},
   "outputs": [],
   "source": [
    "print(mapping_breed)"
   ]
  },
  {
   "cell_type": "code",
   "execution_count": null,
   "metadata": {
    "colab": {},
    "colab_type": "code",
    "id": "Apsu7ZCqg4tB"
   },
   "outputs": [],
   "source": [
    "# convert color to integer\n",
    "mapping_color, color_int = np.unique(data[:, 1], return_inverse=True)\n",
    "data = np.delete(data, 1, axis=1)\n",
    "header = np.delete(header, 1, axis=0)\n",
    "data = np.concatenate((data, color_int.reshape(-1, 1)), axis=1)\n",
    "header = np.concatenate((header, [\"color\"]))"
   ]
  },
  {
   "cell_type": "code",
   "execution_count": null,
   "metadata": {
    "colab": {},
    "colab_type": "code",
    "id": "yy91Fa7Kg4tE"
   },
   "outputs": [],
   "source": [
    "# remove location\n",
    "data = np.delete(data, 3, axis=1)\n",
    "header = np.delete(header, 3, axis=0)"
   ]
  },
  {
   "cell_type": "code",
   "execution_count": null,
   "metadata": {
    "colab": {
     "base_uri": "https://localhost:8080/",
     "height": 34
    },
    "colab_type": "code",
    "executionInfo": {
     "elapsed": 290617,
     "status": "ok",
     "timestamp": 1551477292742,
     "user": {
      "displayName": "Quentin Fournier",
      "photoUrl": "https://lh3.googleusercontent.com/--7LcocvGIHw/AAAAAAAAAAI/AAAAAAAAAA0/3JKWMmHuo-I/s64/photo.jpg",
      "userId": "15777129185599330219"
     },
     "user_tz": 300
    },
    "id": "PwCH89Ejg4tG",
    "outputId": "dcb4a61b-5bac-4d9b-ca5e-7f034bee3e2a"
   },
   "outputs": [],
   "source": [
    "# check if datetime and datetime2 are identical\n",
    "if np.array_equal(data[:, 1], data[:, 2]):\n",
    "    print(\"Datetime duplicated\")\n",
    "else:\n",
    "    print(\"Datetime not duplicated\")"
   ]
  },
  {
   "cell_type": "code",
   "execution_count": null,
   "metadata": {
    "colab": {},
    "colab_type": "code",
    "id": "ECbYDh4ig4tL"
   },
   "outputs": [],
   "source": [
    "# remove datetime2\n",
    "data = np.delete(data, 2, axis=1)\n",
    "header = np.delete(header, 2, axis=0)"
   ]
  },
  {
   "cell_type": "code",
   "execution_count": null,
   "metadata": {
    "colab": {},
    "colab_type": "code",
    "id": "BtwcAr11g4tP"
   },
   "outputs": [],
   "source": [
    "# convert condition to integer\n",
    "mapping_condition, condition_int = np.unique(data[:, 2], return_inverse=True)\n",
    "data = np.delete(data, 2, axis=1)\n",
    "header = np.delete(header, 2, axis=0)\n",
    "data = np.concatenate((data, condition_int.reshape(-1, 1)), axis=1)\n",
    "header = np.concatenate((header, [\"condition\"]))"
   ]
  },
  {
   "cell_type": "code",
   "execution_count": null,
   "metadata": {
    "colab": {},
    "colab_type": "code",
    "id": "9Ed7Ljabg4tT"
   },
   "outputs": [],
   "source": [
    "# convert type to integer\n",
    "mapping_type, type_int = np.unique(data[:, 2], return_inverse=True)\n",
    "data = np.delete(data, 2, axis=1)\n",
    "header = np.delete(header, 2, axis=0)\n",
    "data = np.concatenate((data, type_int.reshape(-1, 1)), axis=1)\n",
    "header = np.concatenate((header, [\"type\"]))"
   ]
  },
  {
   "cell_type": "code",
   "execution_count": null,
   "metadata": {},
   "outputs": [],
   "source": [
    "print(mapping_type)"
   ]
  },
  {
   "cell_type": "code",
   "execution_count": null,
   "metadata": {
    "colab": {
     "base_uri": "https://localhost:8080/",
     "height": 176
    },
    "colab_type": "code",
    "executionInfo": {
     "elapsed": 291706,
     "status": "ok",
     "timestamp": 1551477293855,
     "user": {
      "displayName": "Quentin Fournier",
      "photoUrl": "https://lh3.googleusercontent.com/--7LcocvGIHw/AAAAAAAAAAI/AAAAAAAAAA0/3JKWMmHuo-I/s64/photo.jpg",
      "userId": "15777129185599330219"
     },
     "user_tz": 300
    },
    "id": "sWFziQ0ag4tV",
    "outputId": "b0c2f068-bb79-4e79-e5df-a09a12f1d63d"
   },
   "outputs": [],
   "source": [
    "# check if name as any impact\n",
    "out = list(set(data[:, 4]))\n",
    "out_name = [0 for _ in out]\n",
    "out_noname = [0 for _ in out]\n",
    "name, noname = 0, 0\n",
    "\n",
    "for d in data:\n",
    "    if d[2]:\n",
    "        name += 1\n",
    "        out_name[out.index(d[4])] += 1\n",
    "    else:\n",
    "        noname += 1\n",
    "        out_noname[out.index(d[4])] += 1\n",
    "out_noname = [o / noname for o in out_noname]\n",
    "out_name = [o / name for o in out_name]\n",
    "\n",
    "print(\"{:20s} | {:^15s} | {:^15s}\".format(\"Outcome\", \"with name\",\n",
    "                                          \"without name\"))\n",
    "print(\"-\" * 56)\n",
    "for a, b, c in zip(out, out_name, out_noname):\n",
    "    print(\"{:20s} | {:^15.2%} | {:^15.2%}\".format(a, b, c))"
   ]
  },
  {
   "cell_type": "code",
   "execution_count": null,
   "metadata": {
    "colab": {},
    "colab_type": "code",
    "id": "PXZEYnVsg4tY"
   },
   "outputs": [],
   "source": [
    "# the presence of a name seems to have an impact on the outcome\n",
    "# its value should not have any effect (difficult to evaluate)\n",
    "# replace absence of a name by 0 and presence of a name by 1\n",
    "for row in data:\n",
    "    row[2] = 1 if row[2] else 0"
   ]
  },
  {
   "cell_type": "code",
   "execution_count": null,
   "metadata": {
    "colab": {
     "base_uri": "https://localhost:8080/",
     "height": 123
    },
    "colab_type": "code",
    "executionInfo": {
     "elapsed": 292044,
     "status": "ok",
     "timestamp": 1551477294203,
     "user": {
      "displayName": "Quentin Fournier",
      "photoUrl": "https://lh3.googleusercontent.com/--7LcocvGIHw/AAAAAAAAAAI/AAAAAAAAAA0/3JKWMmHuo-I/s64/photo.jpg",
      "userId": "15777129185599330219"
     },
     "user_tz": 300
    },
    "id": "fBGop2vKg4ta",
    "outputId": "57c66273-2f63-497e-e47d-308827a6678b"
   },
   "outputs": [],
   "source": [
    "# sex analysis\n",
    "sex, count = np.unique(data[:, 3], return_counts=True)\n",
    "for s, c in zip(sex, count):\n",
    "    print(\"{:20s} : {:6d} ({:6.1%})\".format(s, c, c / data.shape[0]))"
   ]
  },
  {
   "cell_type": "code",
   "execution_count": null,
   "metadata": {
    "colab": {
     "base_uri": "https://localhost:8080/",
     "height": 141
    },
    "colab_type": "code",
    "executionInfo": {
     "elapsed": 292272,
     "status": "ok",
     "timestamp": 1551477294437,
     "user": {
      "displayName": "Quentin Fournier",
      "photoUrl": "https://lh3.googleusercontent.com/--7LcocvGIHw/AAAAAAAAAAI/AAAAAAAAAA0/3JKWMmHuo-I/s64/photo.jpg",
      "userId": "15777129185599330219"
     },
     "user_tz": 300
    },
    "id": "3PUpAk9dg4td",
    "outputId": "f382e5da-8a0a-4ac9-e568-5782e1265bf2"
   },
   "outputs": [],
   "source": [
    "# check if name as any impact\n",
    "out = list(set(data[:, 4]))\n",
    "sex = list(set(data[:, 3]))\n",
    "table = [[0 for _ in out] for _ in sex]\n",
    "for d in data:\n",
    "    table[sex.index(d[3])][out.index(d[4])] += 1\n",
    "\n",
    "print(\" \" * 14, end=\"\")\n",
    "for o in out:\n",
    "    print(\"{:^14s}\".format(o), end=\"\")\n",
    "print(\"\")\n",
    "for i, s in zip(table, sex):\n",
    "    print(\"{:^14s}\".format(s), end=\"\")\n",
    "    for j in i:\n",
    "        print(\"{:^14d}\".format(j), end=\"\")\n",
    "    print(\"\")"
   ]
  },
  {
   "cell_type": "code",
   "execution_count": null,
   "metadata": {
    "colab": {},
    "colab_type": "code",
    "id": "WY_wF-TKg4tf"
   },
   "outputs": [],
   "source": [
    "# we cannot remove unknown because it seems to have an impact on the outcome (extremly low adoption rate)\n",
    "# there is only one NULL, which is suspect, we\\\"ll remove this\n",
    "id = np.where(data[:, 3] == \"NULL\")[0][0]\n",
    "data = np.delete(data, id, axis=0)"
   ]
  },
  {
   "cell_type": "code",
   "execution_count": null,
   "metadata": {
    "colab": {},
    "colab_type": "code",
    "id": "eGUIgO14g4th"
   },
   "outputs": [],
   "source": [
    "# convert sex to integer\n",
    "mapping_sex, sex_int = np.unique(data[:, 3], return_inverse=True)\n",
    "data = np.delete(data, 3, axis=1)\n",
    "header = np.delete(header, 3, axis=0)\n",
    "data = np.concatenate((data, sex_int.reshape(-1, 1)), axis=1)\n",
    "header = np.concatenate((header, [\"sex\"]))"
   ]
  },
  {
   "cell_type": "code",
   "execution_count": null,
   "metadata": {
    "colab": {},
    "colab_type": "code",
    "id": "YfEKOAaJg4ti"
   },
   "outputs": [],
   "source": [
    "# keep only month for datetime\n",
    "mapping_sex, sex_int = np.unique(data[:, 3], return_inverse=True)\n",
    "for d in data:\n",
    "    d[1] = int(d[1].split(\"-\")[1])"
   ]
  },
  {
   "cell_type": "code",
   "execution_count": null,
   "metadata": {
    "colab": {},
    "colab_type": "code",
    "id": "bUFU8EbShYB0"
   },
   "outputs": [],
   "source": [
    "# put labels (outcomes) in separate matrix\n",
    "mapping_outcome, labels = np.unique(data[:, 3], return_inverse=True)\n",
    "x = np.delete(data, 3, axis=1)\n",
    "header = np.delete(header, 3, axis=0)"
   ]
  },
  {
   "cell_type": "code",
   "execution_count": null,
   "metadata": {
    "colab": {
     "base_uri": "https://localhost:8080/",
     "height": 52
    },
    "colab_type": "code",
    "executionInfo": {
     "elapsed": 293248,
     "status": "ok",
     "timestamp": 1551477295440,
     "user": {
      "displayName": "Quentin Fournier",
      "photoUrl": "https://lh3.googleusercontent.com/--7LcocvGIHw/AAAAAAAAAAI/AAAAAAAAAA0/3JKWMmHuo-I/s64/photo.jpg",
      "userId": "15777129185599330219"
     },
     "user_tz": 300
    },
    "id": "FQm6iZX6ywLl",
    "outputId": "1e2ced66-2ef6-4815-ae6f-0fa6d264e2f2"
   },
   "outputs": [],
   "source": [
    "print(mapping_outcome)"
   ]
  },
  {
   "cell_type": "code",
   "execution_count": null,
   "metadata": {
    "colab": {},
    "colab_type": "code",
    "id": "FbpHLX6jnKqx"
   },
   "outputs": [],
   "source": [
    "x = x.astype(\"float32\")\n",
    "labels = labels.astype(\"int\")"
   ]
  },
  {
   "cell_type": "code",
   "execution_count": null,
   "metadata": {
    "colab": {
     "base_uri": "https://localhost:8080/",
     "height": 726
    },
    "colab_type": "code",
    "executionInfo": {
     "elapsed": 293905,
     "status": "ok",
     "timestamp": 1551477296109,
     "user": {
      "displayName": "Quentin Fournier",
      "photoUrl": "https://lh3.googleusercontent.com/--7LcocvGIHw/AAAAAAAAAAI/AAAAAAAAAA0/3JKWMmHuo-I/s64/photo.jpg",
      "userId": "15777129185599330219"
     },
     "user_tz": 300
    },
    "id": "JYkWv3OrC9_r",
    "outputId": "948c619b-9305-4f3d-ba6b-cf7c72a02e27"
   },
   "outputs": [],
   "source": [
    "for i, (row, label) in enumerate(zip(x, labels)):\n",
    "    for h, value in zip(header, row):\n",
    "        print(\"{:20s} : {}\".format(h, value))\n",
    "    print(\"\\tOutcome: {}\".format(label))\n",
    "    print(\"-----------------------\")\n",
    "    if i > 2:\n",
    "        break"
   ]
  },
  {
   "cell_type": "code",
   "execution_count": null,
   "metadata": {
    "colab": {},
    "colab_type": "code",
    "id": "R3nQLLm2oqqX"
   },
   "outputs": [],
   "source": [
    "# convert outcomes (y) to one_hot\n",
    "y = np.eye(len(set(labels)))[labels]"
   ]
  },
  {
   "cell_type": "code",
   "execution_count": null,
   "metadata": {
    "colab": {
     "base_uri": "https://localhost:8080/",
     "height": 52
    },
    "colab_type": "code",
    "executionInfo": {
     "elapsed": 293895,
     "status": "ok",
     "timestamp": 1551477296111,
     "user": {
      "displayName": "Quentin Fournier",
      "photoUrl": "https://lh3.googleusercontent.com/--7LcocvGIHw/AAAAAAAAAAI/AAAAAAAAAA0/3JKWMmHuo-I/s64/photo.jpg",
      "userId": "15777129185599330219"
     },
     "user_tz": 300
    },
    "id": "_ElNPDB1tg3N",
    "outputId": "76d18229-e6e2-4ff1-d49c-461d32838fea"
   },
   "outputs": [],
   "source": [
    "print(\"Nb attributes: {}\".format(x.shape[1]))\n",
    "print(\"Nb different outcomes: {}\".format(len(set(labels))))"
   ]
  },
  {
   "cell_type": "markdown",
   "metadata": {},
   "source": [
    "# Visualization"
   ]
  },
  {
   "cell_type": "code",
   "execution_count": null,
   "metadata": {},
   "outputs": [],
   "source": [
    "data_embedded = TSNE(n_jobs=-1).fit_transform(x)"
   ]
  },
  {
   "cell_type": "code",
   "execution_count": null,
   "metadata": {},
   "outputs": [],
   "source": [
    "plt.figure(figsize=(6, 4))\n",
    "plt.scatter(\n",
    "    data_embedded[:, 0],\n",
    "    data_embedded[:, 1],\n",
    "    s=2,\n",
    "    c=labels)\n",
    "plt.title(\"Visualization with t-SNE\")\n",
    "plt.tight_layout()\n",
    "plt.savefig(\"figures/visualization_multiclasse.png\", dpi=300, transparent=True)\n",
    "plt.show()\n",
    "plt.close()"
   ]
  },
  {
   "cell_type": "code",
   "execution_count": null,
   "metadata": {
    "colab_type": "text",
    "id": "MvfvD1NNkCUj"
   },
   "outputs": [],
   "source": [
    "plt.figure(figsize=(6, 4))\n",
    "plt.scatter(\n",
    "    data_embedded[:, 0],\n",
    "    data_embedded[:, 1],\n",
    "    s=2,\n",
    "    c=[int(label[0] == 1) for label in y])\n",
    "plt.title(\"Visualization with t-SNE\")\n",
    "plt.tight_layout()\n",
    "plt.savefig(\"figures/visualization_binary.png\", dpi=300, transparent=True)\n",
    "plt.show()\n",
    "plt.close()"
   ]
  },
  {
   "cell_type": "code",
   "execution_count": null,
   "metadata": {},
   "outputs": [],
   "source": [
    "# function to compute and plot the confusion matrix\n",
    "def cfm(true, pred, mapping, name):\n",
    "    cond_true = (len(true.shape) == 1) or (true.shape[1] == 1)\n",
    "    true = true < 0.5 if cond_true else np.argmax(true, axis=1)\n",
    "\n",
    "    cond_pred = (len(pred.shape) == 1) or (pred.shape[1] == 1)\n",
    "    pred = pred < 0.5 if cond_pred else np.argmax(pred, axis=1)\n",
    "\n",
    "    plt.figure()\n",
    "    plt.gca().set_axis_off()\n",
    "    plt.table(\n",
    "        cellText=confusion_matrix(true, pred),\n",
    "        rowLabels=mapping,\n",
    "        colLabels=mapping,\n",
    "        loc=\"center\")\n",
    "\n",
    "    plt.tight_layout()\n",
    "    plt.savefig(\"figures/cfm_{}.png\".format(name), dpi=300, transparent=True)\n",
    "    plt.show()\n",
    "    plt.close()"
   ]
  },
  {
   "cell_type": "code",
   "execution_count": null,
   "metadata": {
    "colab": {},
    "colab_type": "code",
    "id": "NnYchNfu-RYu"
   },
   "outputs": [],
   "source": [
    "# function to plot the learning graphs\n",
    "def plot_history(history, name):\n",
    "    fig, axes = plt.subplots(1, 2, figsize=(8, 4))\n",
    "\n",
    "    # summarize history for accuracy\n",
    "    axes[0].plot(history.history[\"acc\"])\n",
    "    axes[0].plot(history.history[\"val_acc\"])\n",
    "    axes[0].set_ylabel(\"Accuracy\")\n",
    "    axes[0].set_xlabel(\"Epoch\")\n",
    "\n",
    "    axes[0].legend([\"Train\", \"Validation\"], title=\"Set\")\n",
    "    # summarize history for loss\n",
    "    axes[1].plot(history.history[\"loss\"])\n",
    "    axes[1].plot(history.history[\"val_loss\"])\n",
    "    axes[1].set_ylabel(\"Loss\")\n",
    "    axes[1].set_xlabel(\"Epoch\")\n",
    "    axes[1].legend([\"Train\", \"Validation\"], title=\"Set\")\n",
    "\n",
    "    plt.tight_layout()\n",
    "    plt.savefig(\"figures/history_{}.png\".format(name), dpi=300, transparent=True)\n",
    "    plt.show()\n",
    "    plt.close()"
   ]
  },
  {
   "cell_type": "code",
   "execution_count": null,
   "metadata": {
    "colab": {},
    "colab_type": "code",
    "id": "VqNz_HSy1NA-"
   },
   "outputs": [],
   "source": [
    "#normalize x\n",
    "scaler = StandardScaler()\n",
    "x_scaled = scaler.fit_transform(x)"
   ]
  },
  {
   "cell_type": "code",
   "execution_count": null,
   "metadata": {
    "colab": {},
    "colab_type": "code",
    "id": "owpSFih7p8Wi"
   },
   "outputs": [],
   "source": [
    "# split dataset into a training, validation and test set\n",
    "x_train, x_test, y_train, y_test = train_test_split(\n",
    "    x_scaled, y, test_size=0.2, stratify=y)\n",
    "# we split first (train/test) then (train/valid) 12.5% of 80% is the same as 10% of 100%\n",
    "x_train, x_val, y_train, y_val = train_test_split(\n",
    "    x_train, y_train, test_size=0.125, stratify=y_train)"
   ]
  },
  {
   "cell_type": "code",
   "execution_count": null,
   "metadata": {
    "colab": {
     "base_uri": "https://localhost:8080/",
     "height": 70
    },
    "colab_type": "code",
    "executionInfo": {
     "elapsed": 295024,
     "status": "ok",
     "timestamp": 1551477297265,
     "user": {
      "displayName": "Quentin Fournier",
      "photoUrl": "https://lh3.googleusercontent.com/--7LcocvGIHw/AAAAAAAAAAI/AAAAAAAAAA0/3JKWMmHuo-I/s64/photo.jpg",
      "userId": "15777129185599330219"
     },
     "user_tz": 300
    },
    "id": "aDcgkbijqOkN",
    "outputId": "3bc6e762-4ae2-4b2f-ad0c-1e1659facfda"
   },
   "outputs": [],
   "source": [
    "print(x_train.shape)\n",
    "print(x_val.shape)\n",
    "print(x_test.shape)"
   ]
  },
  {
   "cell_type": "code",
   "execution_count": null,
   "metadata": {
    "colab": {
     "base_uri": "https://localhost:8080/",
     "height": 4005
    },
    "colab_type": "code",
    "executionInfo": {
     "elapsed": 503260,
     "status": "ok",
     "timestamp": 1551477505512,
     "user": {
      "displayName": "Quentin Fournier",
      "photoUrl": "https://lh3.googleusercontent.com/--7LcocvGIHw/AAAAAAAAAAI/AAAAAAAAAA0/3JKWMmHuo-I/s64/photo.jpg",
      "userId": "15777129185599330219"
     },
     "user_tz": 300
    },
    "id": "TsLsibkDr2oS",
    "outputId": "ec3c5bec-fcdd-4623-c4bc-b497d7a28769"
   },
   "outputs": [],
   "source": [
    "input = Input(shape=(8, ))\n",
    "dense = BatchNormalization()(input)\n",
    "dense = Dense(256)(dense)\n",
    "dense = BatchNormalization()(dense)\n",
    "dense = Dropout(0.5)(dense)\n",
    "dense = Activation(\"relu\")(dense)\n",
    "dense = Dense(128)(dense)\n",
    "dense = BatchNormalization()(dense)\n",
    "dense = Dropout(0.5)(dense)\n",
    "dense = Activation(\"relu\")(dense)\n",
    "dense = Dense(64)(dense)\n",
    "dense = BatchNormalization()(dense)\n",
    "dense = Dropout(0.5)(dense)\n",
    "dense = Activation(\"relu\")(dense)\n",
    "dense = Dense(7)(dense)\n",
    "output = Activation(\"softmax\")(dense)\n",
    "\n",
    "model = Model(inputs=input, outputs=output)\n",
    "\n",
    "model.compile(\n",
    "    loss=\"categorical_crossentropy\", optimizer=\"Adam\", metrics=[\"accuracy\"])\n",
    "\n",
    "model.summary()"
   ]
  },
  {
   "cell_type": "code",
   "execution_count": null,
   "metadata": {},
   "outputs": [],
   "source": [
    "history = model.fit(\n",
    "    x_train,\n",
    "    y_train,\n",
    "    batch_size=512,\n",
    "    epochs=9999,\n",
    "    verbose=1,\n",
    "    validation_data=(x_val, y_val),\n",
    "    callbacks=[\n",
    "        callbacks.EarlyStopping(\n",
    "            monitor=\"val_acc\",\n",
    "            min_delta=0.0001,\n",
    "            patience=25,\n",
    "            restore_best_weights=True)\n",
    "    ])"
   ]
  },
  {
   "cell_type": "code",
   "execution_count": null,
   "metadata": {},
   "outputs": [],
   "source": [
    "score = model.evaluate(x_test, y_test, verbose=0)\n",
    "print(\"Test loss:\", score[0])\n",
    "print(\"Test accuracy:\", score[1])"
   ]
  },
  {
   "cell_type": "code",
   "execution_count": null,
   "metadata": {},
   "outputs": [],
   "source": [
    "cfm(y_test, model.predict(x_test), mapping_outcome, \"discret_multiclasse\")"
   ]
  },
  {
   "cell_type": "code",
   "execution_count": null,
   "metadata": {
    "colab": {
     "base_uri": "https://localhost:8080/",
     "height": 293
    },
    "colab_type": "code",
    "executionInfo": {
     "elapsed": 505492,
     "status": "ok",
     "timestamp": 1551477507758,
     "user": {
      "displayName": "Quentin Fournier",
      "photoUrl": "https://lh3.googleusercontent.com/--7LcocvGIHw/AAAAAAAAAAI/AAAAAAAAAA0/3JKWMmHuo-I/s64/photo.jpg",
      "userId": "15777129185599330219"
     },
     "user_tz": 300
    },
    "id": "W5u4LBIXCLpV",
    "outputId": "18df40d5-10d4-43a9-ca06-531a10df6cd5"
   },
   "outputs": [],
   "source": [
    "plot_history(history, \"discret_multiclasse\")"
   ]
  },
  {
   "cell_type": "code",
   "execution_count": null,
   "metadata": {
    "colab": {},
    "colab_type": "code",
    "id": "sWGujDnfyXKx"
   },
   "outputs": [],
   "source": [
    "# not accurate enough, let\"s only check if the animal is adopted\n",
    "binary_y = np.asarray([int(label[0] == 1) for label in y])\n",
    "# split dataset into a training, validation and test set\n",
    "x_train, x_test, y_train, y_test = train_test_split(\n",
    "    x_scaled, binary_y, test_size=0.2, stratify=binary_y)\n",
    "# we split first (train/test) then (train/valid) 12.5% of 80% is the same as 10% of 100%\n",
    "x_train, x_val, y_train, y_val = train_test_split(\n",
    "    x_train, y_train, test_size=0.125, stratify=y_train)"
   ]
  },
  {
   "cell_type": "code",
   "execution_count": null,
   "metadata": {
    "colab": {
     "base_uri": "https://localhost:8080/",
     "height": 2410
    },
    "colab_type": "code",
    "executionInfo": {
     "elapsed": 634085,
     "status": "ok",
     "timestamp": 1551477636363,
     "user": {
      "displayName": "Quentin Fournier",
      "photoUrl": "https://lh3.googleusercontent.com/--7LcocvGIHw/AAAAAAAAAAI/AAAAAAAAAA0/3JKWMmHuo-I/s64/photo.jpg",
      "userId": "15777129185599330219"
     },
     "user_tz": 300
    },
    "id": "gD9LV0r_z0yL",
    "outputId": "984bfe7d-bdb5-4a84-d158-d7d0249755c6"
   },
   "outputs": [],
   "source": [
    "input = Input(shape=(8, ))\n",
    "dense = BatchNormalization()(input)\n",
    "dense = Dense(256)(dense)\n",
    "dense = BatchNormalization()(dense)\n",
    "dense = Dropout(0.5)(dense)\n",
    "dense = Activation(\"relu\")(dense)\n",
    "dense = Dense(128)(dense)\n",
    "dense = BatchNormalization()(dense)\n",
    "dense = Dropout(0.5)(dense)\n",
    "dense = Activation(\"relu\")(dense)\n",
    "dense = Dense(64)(dense)\n",
    "dense = BatchNormalization()(dense)\n",
    "dense = Dropout(0.5)(dense)\n",
    "dense = Activation(\"relu\")(dense)\n",
    "dense = Dense(32)(dense)\n",
    "dense = BatchNormalization()(dense)\n",
    "dense = Dropout(0.5)(dense)\n",
    "dense = Activation(\"relu\")(dense)\n",
    "dense = Dense(1)(dense)\n",
    "output = Activation(\"sigmoid\")(dense)\n",
    "\n",
    "model = Model(inputs=input, outputs=output)\n",
    "\n",
    "model.compile(\n",
    "    loss=\"binary_crossentropy\", optimizer=\"Adam\", metrics=[\"accuracy\"])\n",
    "\n",
    "model.summary()"
   ]
  },
  {
   "cell_type": "code",
   "execution_count": null,
   "metadata": {},
   "outputs": [],
   "source": [
    "key, value = np.unique(y_train, return_counts=True)\n",
    "class_weight = dict(zip(key, max(value) / value))\n",
    "print(class_weight)"
   ]
  },
  {
   "cell_type": "code",
   "execution_count": null,
   "metadata": {},
   "outputs": [],
   "source": [
    "history = model.fit(\n",
    "    x_train,\n",
    "    y_train,\n",
    "    batch_size=512,\n",
    "    epochs=9999,\n",
    "    verbose=1,\n",
    "#     class_weight=class_weight,\n",
    "    validation_data=(x_val, y_val),\n",
    "    callbacks=[\n",
    "        callbacks.EarlyStopping(\n",
    "            monitor=\"val_acc\",\n",
    "            min_delta=0.001,\n",
    "            patience=10,\n",
    "            restore_best_weights=True)\n",
    "    ])"
   ]
  },
  {
   "cell_type": "code",
   "execution_count": null,
   "metadata": {
    "colab": {
     "base_uri": "https://localhost:8080/",
     "height": 52
    },
    "colab_type": "code",
    "executionInfo": {
     "elapsed": 635747,
     "status": "ok",
     "timestamp": 1551477638032,
     "user": {
      "displayName": "Quentin Fournier",
      "photoUrl": "https://lh3.googleusercontent.com/--7LcocvGIHw/AAAAAAAAAAI/AAAAAAAAAA0/3JKWMmHuo-I/s64/photo.jpg",
      "userId": "15777129185599330219"
     },
     "user_tz": 300
    },
    "id": "c4RUEzjCKgz-",
    "outputId": "f0e498cd-34f6-406b-8a3c-a4653a4c58dc"
   },
   "outputs": [],
   "source": [
    "score = model.evaluate(x_test, y_test, verbose=0)\n",
    "print(\"Test loss:\", score[0])\n",
    "print(\"Test accuracy:\", score[1])"
   ]
  },
  {
   "cell_type": "code",
   "execution_count": null,
   "metadata": {},
   "outputs": [],
   "source": [
    "cfm(y_test, model.predict(x_test), [\"Adoption\", \"Rejection\"], \"discret_binaire\")"
   ]
  },
  {
   "cell_type": "code",
   "execution_count": null,
   "metadata": {
    "colab": {
     "base_uri": "https://localhost:8080/",
     "height": 293
    },
    "colab_type": "code",
    "executionInfo": {
     "elapsed": 636314,
     "status": "ok",
     "timestamp": 1551477638609,
     "user": {
      "displayName": "Quentin Fournier",
      "photoUrl": "https://lh3.googleusercontent.com/--7LcocvGIHw/AAAAAAAAAAI/AAAAAAAAAA0/3JKWMmHuo-I/s64/photo.jpg",
      "userId": "15777129185599330219"
     },
     "user_tz": 300
    },
    "id": "UPehLVB3CM8P",
    "outputId": "f5d7e480-a9fc-45a4-fae0-57c3d20e863d"
   },
   "outputs": [],
   "source": [
    "plot_history(history, \"discret_binaire\")"
   ]
  },
  {
   "cell_type": "code",
   "execution_count": null,
   "metadata": {
    "colab": {},
    "colab_type": "code",
    "id": "TXEZ15hI5r0H"
   },
   "outputs": [],
   "source": [
    "# Let\"s try with one hot vector input (except age, data which are real valued -> scaled version, and name that is arleady binary)\n",
    "one_hot_animal_breed = np.eye(len(set(x[:, 3])))[x[:, 3].astype(\"int\")]\n",
    "one_hot_color = np.eye(len(set(x[:, 4])))[x[:, 4].astype(\"int\")]\n",
    "one_hot_condition = np.eye(len(set(x[:, 5])))[x[:, 5].astype(\"int\")]\n",
    "one_hot_type = np.eye(len(set(x[:, 6])))[x[:, 6].astype(\"int\")]\n",
    "one_hot_sex = np.eye(len(set(x[:, 7])))[x[:, 7].astype(\"int\")]\n",
    "\n",
    "x_one_hot = np.concatenate(\n",
    "    (x_scaled[:, :2], x[:, 2].reshape(-1, 1), one_hot_animal_breed,\n",
    "     one_hot_color, one_hot_condition, one_hot_type, one_hot_sex),\n",
    "    axis=1)"
   ]
  },
  {
   "cell_type": "code",
   "execution_count": null,
   "metadata": {
    "colab": {},
    "colab_type": "code",
    "id": "OYlMZ7SG8tVu"
   },
   "outputs": [],
   "source": [
    "# split dataset into a training, validation and test set\n",
    "x_train, x_test, y_train, y_test = train_test_split(\n",
    "    x_one_hot, binary_y, test_size=0.2, stratify=binary_y)\n",
    "# we split first (train/test) then (train/valid) 12.5% of 80% is the same as 10% of 100%\n",
    "x_train, x_val, y_train, y_val = train_test_split(\n",
    "    x_train, y_train, test_size=0.125, stratify=y_train)"
   ]
  },
  {
   "cell_type": "code",
   "execution_count": null,
   "metadata": {
    "colab": {
     "base_uri": "https://localhost:8080/",
     "height": 70
    },
    "colab_type": "code",
    "executionInfo": {
     "elapsed": 186,
     "status": "ok",
     "timestamp": 1551477774199,
     "user": {
      "displayName": "Quentin Fournier",
      "photoUrl": "https://lh3.googleusercontent.com/--7LcocvGIHw/AAAAAAAAAAI/AAAAAAAAAA0/3JKWMmHuo-I/s64/photo.jpg",
      "userId": "15777129185599330219"
     },
     "user_tz": 300
    },
    "id": "w_qUjSBL9NFS",
    "outputId": "4fbd09c9-1336-4bf5-8371-e127372b3844"
   },
   "outputs": [],
   "source": [
    "print(x_train.shape)\n",
    "print(x_val.shape)\n",
    "print(x_test.shape)"
   ]
  },
  {
   "cell_type": "code",
   "execution_count": null,
   "metadata": {
    "colab": {
     "base_uri": "https://localhost:8080/",
     "height": 1240
    },
    "colab_type": "code",
    "executionInfo": {
     "elapsed": 121112,
     "status": "ok",
     "timestamp": 1551478216714,
     "user": {
      "displayName": "Quentin Fournier",
      "photoUrl": "https://lh3.googleusercontent.com/--7LcocvGIHw/AAAAAAAAAAI/AAAAAAAAAA0/3JKWMmHuo-I/s64/photo.jpg",
      "userId": "15777129185599330219"
     },
     "user_tz": 300
    },
    "id": "fDSP6_vD9Uut",
    "outputId": "6787e699-49e1-458e-cd77-006964333ecc"
   },
   "outputs": [],
   "source": [
    "input = Input(shape=(2709, ))\n",
    "dense = BatchNormalization()(input)\n",
    "dense = Dense(128)(dense)\n",
    "dense = BatchNormalization()(dense)\n",
    "dense = Dropout(0.75)(dense)\n",
    "dense = Activation(\"relu\")(dense)\n",
    "dense = Dense(64)(dense)\n",
    "dense = BatchNormalization()(dense)\n",
    "dense = Dropout(0.75)(dense)\n",
    "dense = Activation(\"relu\")(dense)\n",
    "dense = Dense(32)(dense)\n",
    "dense = BatchNormalization()(dense)\n",
    "dense = Dropout(0.75)(dense)\n",
    "dense = Activation(\"relu\")(dense)\n",
    "dense = Dense(1)(dense)\n",
    "output = Activation(\"sigmoid\")(dense)\n",
    "\n",
    "model = Model(inputs=input, outputs=output)\n",
    "\n",
    "model.compile(\n",
    "    loss=\"binary_crossentropy\", optimizer=\"Adam\", metrics=[\"accuracy\"])\n",
    "model.summary()"
   ]
  },
  {
   "cell_type": "code",
   "execution_count": null,
   "metadata": {},
   "outputs": [],
   "source": [
    "key, value = np.unique(y_train, return_counts=True)\n",
    "class_weight = dict(zip(key, max(value) / value))\n",
    "print(class_weight)"
   ]
  },
  {
   "cell_type": "code",
   "execution_count": null,
   "metadata": {},
   "outputs": [],
   "source": [
    "history = model.fit(\n",
    "    x_train,\n",
    "    y_train,\n",
    "    batch_size=512,\n",
    "    epochs=9999,\n",
    "    verbose=1,\n",
    "#     class_weight=class_weight,\n",
    "    validation_data=(x_val, y_val),\n",
    "    callbacks=[\n",
    "        callbacks.EarlyStopping(\n",
    "            monitor=\"val_acc\",\n",
    "            min_delta=0.001,\n",
    "            patience=10,\n",
    "            restore_best_weights=True)\n",
    "    ])"
   ]
  },
  {
   "cell_type": "code",
   "execution_count": null,
   "metadata": {
    "colab": {
     "base_uri": "https://localhost:8080/",
     "height": 52
    },
    "colab_type": "code",
    "executionInfo": {
     "elapsed": 121234,
     "status": "ok",
     "timestamp": 1551478218739,
     "user": {
      "displayName": "Quentin Fournier",
      "photoUrl": "https://lh3.googleusercontent.com/--7LcocvGIHw/AAAAAAAAAAI/AAAAAAAAAA0/3JKWMmHuo-I/s64/photo.jpg",
      "userId": "15777129185599330219"
     },
     "user_tz": 300
    },
    "id": "sEobzHqhKckC",
    "outputId": "8d181dd0-2e1f-4fad-8a88-72bb84cf6416"
   },
   "outputs": [],
   "source": [
    "score = model.evaluate(x_test, y_test, verbose=0)\n",
    "print(\"Test loss:\", score[0])\n",
    "print(\"Test accuracy:\", score[1])"
   ]
  },
  {
   "cell_type": "code",
   "execution_count": null,
   "metadata": {},
   "outputs": [],
   "source": [
    "cfm(y_test, model.predict(x_test), [\"Adoption\", \"Rejection\"],\n",
    "    \"one_hot_binaire\")"
   ]
  },
  {
   "cell_type": "code",
   "execution_count": null,
   "metadata": {
    "colab": {
     "base_uri": "https://localhost:8080/",
     "height": 293
    },
    "colab_type": "code",
    "executionInfo": {
     "elapsed": 121291,
     "status": "ok",
     "timestamp": 1551478219255,
     "user": {
      "displayName": "Quentin Fournier",
      "photoUrl": "https://lh3.googleusercontent.com/--7LcocvGIHw/AAAAAAAAAAI/AAAAAAAAAA0/3JKWMmHuo-I/s64/photo.jpg",
      "userId": "15777129185599330219"
     },
     "user_tz": 300
    },
    "id": "AGNLSKuY-f-o",
    "outputId": "b198c2ae-c0bc-425d-e5e9-fc7c11aaca87"
   },
   "outputs": [],
   "source": [
    "plot_history(history, \"one_hot_binaire\")"
   ]
  }
 ],
 "metadata": {
  "accelerator": "GPU",
  "colab": {
   "collapsed_sections": [],
   "name": "notebook.ipynb",
   "provenance": [],
   "version": "0.3.2"
  },
  "kernelspec": {
   "display_name": "Python 3",
   "language": "python",
   "name": "python3"
  },
  "language_info": {
   "codemirror_mode": {
    "name": "ipython",
    "version": 3
   },
   "file_extension": ".py",
   "mimetype": "text/x-python",
   "name": "python",
   "nbconvert_exporter": "python",
   "pygments_lexer": "ipython3",
   "version": "3.6.7"
  }
 },
 "nbformat": 4,
 "nbformat_minor": 1
}

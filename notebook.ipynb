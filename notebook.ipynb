{
 "cells": [
  {
   "cell_type": "markdown",
   "metadata": {
    "colab_type": "text",
    "id": "09foqF_rg4sX"
   },
   "source": [
    "# IND6212 Project\n",
    "---"
   ]
  },
  {
   "cell_type": "markdown",
   "metadata": {
    "colab_type": "text",
    "id": "EqaDy0-OkSoj"
   },
   "source": [
    "# Preprocessing"
   ]
  },
  {
   "cell_type": "code",
   "execution_count": 1,
   "metadata": {
    "colab": {},
    "colab_type": "code",
    "id": "hJEkOKsOmOe6"
   },
   "outputs": [
    {
     "name": "stderr",
     "output_type": "stream",
     "text": [
      "Using TensorFlow backend.\n"
     ]
    }
   ],
   "source": [
    "# import libraries\n",
    "import csv\n",
    "import numpy as np\n",
    "import seaborn as sns\n",
    "import matplotlib.pyplot as plt\n",
    "\n",
    "from sklearn.model_selection import train_test_split\n",
    "from sklearn.preprocessing import StandardScaler\n",
    "from sklearn.metrics import confusion_matrix\n",
    "\n",
    "from keras import metrics\n",
    "from keras import callbacks\n",
    "from keras.layers import BatchNormalization\n",
    "from keras.layers import Activation\n",
    "from keras.layers import Dropout\n",
    "from keras.layers import Input\n",
    "from keras.layers import Dense\n",
    "from keras.models import Model"
   ]
  },
  {
   "cell_type": "code",
   "execution_count": 2,
   "metadata": {
    "colab": {
     "base_uri": "https://localhost:8080/",
     "height": 34
    },
    "colab_type": "code",
    "executionInfo": {
     "elapsed": 827,
     "status": "ok",
     "timestamp": 1551477002852,
     "user": {
      "displayName": "Quentin Fournier",
      "photoUrl": "https://lh3.googleusercontent.com/--7LcocvGIHw/AAAAAAAAAAI/AAAAAAAAAA0/3JKWMmHuo-I/s64/photo.jpg",
      "userId": "15777129185599330219"
     },
     "user_tz": 300
    },
    "id": "zAI5juMCi9NW",
    "outputId": "f42d7049-e473-43ee-8bc1-27941d302069"
   },
   "outputs": [],
   "source": [
    "# if runned on colaboratory\n",
    "GOOGLE = False\n",
    "if GOOGLE:\n",
    "    # Load the Drive helper and mount\n",
    "    from google.colab import drive\n",
    "    drive.mount(\"/content/drive/\")\n",
    "    path = \"/content/drive/My Drive/EPM/PhD/IND6212/Projet/\"\n",
    "else:\n",
    "    path = \"\""
   ]
  },
  {
   "cell_type": "code",
   "execution_count": 3,
   "metadata": {
    "colab": {},
    "colab_type": "code",
    "id": "2U3Rv1zlnD4l"
   },
   "outputs": [],
   "source": [
    "# read intakes\n",
    "with open(\"{}data/aac_intakes.csv\".format(path), \"r\") as file:\n",
    "    reader = csv.reader(file)\n",
    "    header_intake = next(reader)\n",
    "    intakes = [[value for value in row] for row in reader]"
   ]
  },
  {
   "cell_type": "code",
   "execution_count": 4,
   "metadata": {
    "colab": {},
    "colab_type": "code",
    "id": "yiA6eZAn6y7H"
   },
   "outputs": [],
   "source": [
    "# read outcomes\n",
    "with open(\"{}data/aac_outcomes.csv\".format(path), \"r\") as file:\n",
    "    reader = csv.reader(file)\n",
    "    header_outcome = next(reader)\n",
    "    outcomes = [[value for value in row] for row in reader]"
   ]
  },
  {
   "cell_type": "code",
   "execution_count": 5,
   "metadata": {
    "colab": {},
    "colab_type": "code",
    "id": "QzKchubB-Aut"
   },
   "outputs": [],
   "source": [
    "# convert numpy array\n",
    "header_intake = np.asarray(header_intake)\n",
    "header_outcome = np.asarray(header_outcome)\n",
    "\n",
    "intakes = np.asarray(intakes)\n",
    "outcomes = np.asarray(outcomes)"
   ]
  },
  {
   "cell_type": "code",
   "execution_count": 6,
   "metadata": {
    "colab": {
     "base_uri": "https://localhost:8080/",
     "height": 247
    },
    "colab_type": "code",
    "executionInfo": {
     "elapsed": 2115,
     "status": "ok",
     "timestamp": 1551477004171,
     "user": {
      "displayName": "Quentin Fournier",
      "photoUrl": "https://lh3.googleusercontent.com/--7LcocvGIHw/AAAAAAAAAAI/AAAAAAAAAA0/3JKWMmHuo-I/s64/photo.jpg",
      "userId": "15777129185599330219"
     },
     "user_tz": 300
    },
    "id": "xNdn1KsaCQ8i",
    "outputId": "4837489c-c814-4366-8106-f8091ed16672"
   },
   "outputs": [
    {
     "name": "stdout",
     "output_type": "stream",
     "text": [
      "Intakes\n",
      "0 : age_upon_intake\n",
      "1 : animal_id\n",
      "2 : animal_type\n",
      "3 : breed\n",
      "4 : color\n",
      "5 : datetime\n",
      "6 : datetime2\n",
      "7 : found_location\n",
      "8 : intake_condition\n",
      "9 : intake_type\n",
      "10 : name\n",
      "11 : sex_upon_intake\n"
     ]
    }
   ],
   "source": [
    "print(\"Intakes\")\n",
    "for i, c in enumerate(header_intake):\n",
    "    print(\"{} : {}\".format(i, c))"
   ]
  },
  {
   "cell_type": "code",
   "execution_count": 7,
   "metadata": {
    "colab": {
     "base_uri": "https://localhost:8080/",
     "height": 247
    },
    "colab_type": "code",
    "executionInfo": {
     "elapsed": 2107,
     "status": "ok",
     "timestamp": 1551477004172,
     "user": {
      "displayName": "Quentin Fournier",
      "photoUrl": "https://lh3.googleusercontent.com/--7LcocvGIHw/AAAAAAAAAAI/AAAAAAAAAA0/3JKWMmHuo-I/s64/photo.jpg",
      "userId": "15777129185599330219"
     },
     "user_tz": 300
    },
    "id": "UM6iq1A7g4sx",
    "outputId": "023cb6b5-56db-4e15-b635-d63a6db48c89"
   },
   "outputs": [
    {
     "name": "stdout",
     "output_type": "stream",
     "text": [
      "Outcomes\n",
      "0 : age_upon_outcome\n",
      "1 : animal_id\n",
      "2 : animal_type\n",
      "3 : breed\n",
      "4 : color\n",
      "5 : date_of_birth\n",
      "6 : datetime\n",
      "7 : monthyear\n",
      "8 : name\n",
      "9 : outcome_subtype\n",
      "10 : outcome_type\n",
      "11 : sex_upon_outcome\n"
     ]
    }
   ],
   "source": [
    "print(\"Outcomes\")\n",
    "for i, c in enumerate(header_outcome):\n",
    "    print(\"{} : {}\".format(i, c))"
   ]
  },
  {
   "cell_type": "code",
   "execution_count": 8,
   "metadata": {
    "colab": {
     "base_uri": "https://localhost:8080/",
     "height": 34
    },
    "colab_type": "code",
    "executionInfo": {
     "elapsed": 288277,
     "status": "ok",
     "timestamp": 1551477290352,
     "user": {
      "displayName": "Quentin Fournier",
      "photoUrl": "https://lh3.googleusercontent.com/--7LcocvGIHw/AAAAAAAAAAI/AAAAAAAAAA0/3JKWMmHuo-I/s64/photo.jpg",
      "userId": "15777129185599330219"
     },
     "user_tz": 300
    },
    "id": "2-znohIVH8QD",
    "outputId": "9fbafda1-ac16-4f5f-99c5-60f0c020021f"
   },
   "outputs": [
    {
     "name": "stdout",
     "output_type": "stream",
     "text": [
      "79776 | 411                                                                                                                                                                                                                                                                                                                                                                                                                "
     ]
    }
   ],
   "source": [
    "# get the last outcome (it can be transfered multiple times, we want the last update)\n",
    "# if no outcome, then we remove the example (line)\n",
    "counter = 0\n",
    "data = []\n",
    "for i, x in enumerate(intakes, 1):\n",
    "    index = np.where(outcomes[:, 1] == x[1])\n",
    "    if len(index[0]) > 0 and outcomes[index[0][-1], 10]:\n",
    "        data.append(np.concatenate((x, [outcomes[index[0][-1], 10]])))\n",
    "    else:\n",
    "        counter += 1\n",
    "    print(\"\\r{} | {}\".format(i - counter, counter), end=\" \")"
   ]
  },
  {
   "cell_type": "code",
   "execution_count": 9,
   "metadata": {
    "colab": {},
    "colab_type": "code",
    "id": "pPVWHiH7MjGe"
   },
   "outputs": [],
   "source": [
    "# add the outcome to data\n",
    "data = np.asarray(data)\n",
    "header = np.concatenate((header_intake, [\"outcome\"]))"
   ]
  },
  {
   "cell_type": "markdown",
   "metadata": {
    "colab_type": "text",
    "id": "QzqER2neg4s5"
   },
   "source": [
    "The author of the dataset explained that Rto-Adopt = Return to Owner and Disposal = Died (see [link](https://www.kaggle.com/aaronschlegel/austin-animal-center-shelter-intakes-and-outcomes/discussion/56707#latest-329163))"
   ]
  },
  {
   "cell_type": "code",
   "execution_count": 10,
   "metadata": {
    "colab": {},
    "colab_type": "code",
    "id": "rvB9y_1og4s5",
    "scrolled": true
   },
   "outputs": [],
   "source": [
    "for row in data:\n",
    "    if row[-1] == \"Rto-Adopt\":\n",
    "        row[-1]=\"Return to Owner\"\n",
    "    if row[-1] == \"Disposal\":\n",
    "        row[-1]=\"Died\""
   ]
  },
  {
   "cell_type": "code",
   "execution_count": 11,
   "metadata": {},
   "outputs": [
    {
     "data": {
      "image/png": "[encoded data removed]",
      "text/plain": [
       "<Figure size 720x288 with 1 Axes>"
      ]
     },
     "metadata": {
      "needs_background": "light"
     },
     "output_type": "display_data"
    }
   ],
   "source": [
    "# plot class distribution with seaborn\n",
    "plt.figure(figsize=(10, 4))\n",
    "name, count = np.unique(data[:, -1], return_counts=True)\n",
    "graph = sns.countplot(data[:, -1], order=name)\n",
    "for i, c in enumerate(count):\n",
    "    graph.text(i, c + max(count) * 0.01, c, ha=\"center\")\n",
    "sns.despine()\n",
    "plt.tight_layout()\n",
    "plt.savefig(\"figures/class_distribution.png\", dpi=300, transparent=True)\n",
    "plt.show()\n",
    "plt.close()"
   ]
  },
  {
   "cell_type": "code",
   "execution_count": 12,
   "metadata": {
    "colab": {},
    "colab_type": "code",
    "id": "N00JRUjAM_vU"
   },
   "outputs": [],
   "source": [
    "# remove the animal id\n",
    "data = np.delete(data, 1, axis=1)\n",
    "header = np.delete(header, 1, axis=0)"
   ]
  },
  {
   "cell_type": "code",
   "execution_count": 13,
   "metadata": {
    "colab": {},
    "colab_type": "code",
    "id": "sCfUmh8QSIr9"
   },
   "outputs": [],
   "source": [
    "# convert intake date into a real value (year)\n",
    "for x in data:\n",
    "    s = x[0].split()\n",
    "    if \"year\" in s[1]:\n",
    "        x[0] = float(s[0])\n",
    "    if \"month\" in s[1]:\n",
    "        x[0] = float(s[0]) / 12.\n",
    "    if \"week\" in s[1]:\n",
    "        x[0] = float(s[0]) / 52.\n",
    "    if \"day\" in s[1]:\n",
    "        x[0] = float(s[0]) / 365."
   ]
  },
  {
   "cell_type": "code",
   "execution_count": 14,
   "metadata": {
    "colab": {},
    "colab_type": "code",
    "id": "24LjYC4JaCfB"
   },
   "outputs": [],
   "source": [
    "# convertir animal breed to integer\n",
    "mapping_breed, breed_int = np.unique(data[:, 2], return_inverse=True)\n",
    "data = np.delete(data, [1, 2], axis=1)\n",
    "header = np.delete(header, [1, 2], axis=0)\n",
    "data = np.concatenate((data, breed_int.reshape(-1, 1)), axis=1)\n",
    "header = np.concatenate((header, [\"animal_breed\"]))"
   ]
  },
  {
   "cell_type": "code",
   "execution_count": 15,
   "metadata": {
    "colab": {},
    "colab_type": "code",
    "id": "Apsu7ZCqg4tB"
   },
   "outputs": [],
   "source": [
    "# convert color to integer\n",
    "mapping_color, color_int = np.unique(data[:, 1], return_inverse=True)\n",
    "data = np.delete(data, 1, axis=1)\n",
    "header = np.delete(header, 1, axis=0)\n",
    "data = np.concatenate((data, color_int.reshape(-1, 1)), axis=1)\n",
    "header = np.concatenate((header, [\"color\"]))"
   ]
  },
  {
   "cell_type": "code",
   "execution_count": 16,
   "metadata": {
    "colab": {},
    "colab_type": "code",
    "id": "yy91Fa7Kg4tE"
   },
   "outputs": [],
   "source": [
    "# remove location\n",
    "data = np.delete(data, 3, axis=1)\n",
    "header = np.delete(header, 3, axis=0)"
   ]
  },
  {
   "cell_type": "code",
   "execution_count": 17,
   "metadata": {
    "colab": {
     "base_uri": "https://localhost:8080/",
     "height": 34
    },
    "colab_type": "code",
    "executionInfo": {
     "elapsed": 290617,
     "status": "ok",
     "timestamp": 1551477292742,
     "user": {
      "displayName": "Quentin Fournier",
      "photoUrl": "https://lh3.googleusercontent.com/--7LcocvGIHw/AAAAAAAAAAI/AAAAAAAAAA0/3JKWMmHuo-I/s64/photo.jpg",
      "userId": "15777129185599330219"
     },
     "user_tz": 300
    },
    "id": "PwCH89Ejg4tG",
    "outputId": "dcb4a61b-5bac-4d9b-ca5e-7f034bee3e2a"
   },
   "outputs": [
    {
     "name": "stdout",
     "output_type": "stream",
     "text": [
      "Datetime duplicated\n"
     ]
    }
   ],
   "source": [
    "# check if datetime and datetime2 are identical\n",
    "if np.array_equal(data[:, 1], data[:, 2]):\n",
    "    print(\"Datetime duplicated\")\n",
    "else:\n",
    "    print(\"Datetime not duplicated\")"
   ]
  },
  {
   "cell_type": "code",
   "execution_count": 18,
   "metadata": {
    "colab": {},
    "colab_type": "code",
    "id": "ECbYDh4ig4tL"
   },
   "outputs": [],
   "source": [
    "# remove datetime2\n",
    "data = np.delete(data, 2, axis=1)\n",
    "header = np.delete(header, 2, axis=0)"
   ]
  },
  {
   "cell_type": "code",
   "execution_count": 19,
   "metadata": {
    "colab": {},
    "colab_type": "code",
    "id": "BtwcAr11g4tP"
   },
   "outputs": [],
   "source": [
    "# convert condition to integer\n",
    "mapping_condition, condition_int = np.unique(data[:, 2], return_inverse=True)\n",
    "data = np.delete(data, 2, axis=1)\n",
    "header = np.delete(header, 2, axis=0)\n",
    "data = np.concatenate((data, condition_int.reshape(-1, 1)), axis=1)\n",
    "header = np.concatenate((header, [\"condition\"]))"
   ]
  },
  {
   "cell_type": "code",
   "execution_count": 20,
   "metadata": {
    "colab": {},
    "colab_type": "code",
    "id": "9Ed7Ljabg4tT"
   },
   "outputs": [],
   "source": [
    "# convert type to integer\n",
    "mapping_type, type_int = np.unique(data[:, 2], return_inverse=True)\n",
    "data = np.delete(data, 2, axis=1)\n",
    "header = np.delete(header, 2, axis=0)\n",
    "data = np.concatenate((data, type_int.reshape(-1, 1)), axis=1)\n",
    "header = np.concatenate((header, [\"type\"]))"
   ]
  },
  {
   "cell_type": "code",
   "execution_count": 21,
   "metadata": {
    "colab": {
     "base_uri": "https://localhost:8080/",
     "height": 176
    },
    "colab_type": "code",
    "executionInfo": {
     "elapsed": 291706,
     "status": "ok",
     "timestamp": 1551477293855,
     "user": {
      "displayName": "Quentin Fournier",
      "photoUrl": "https://lh3.googleusercontent.com/--7LcocvGIHw/AAAAAAAAAAI/AAAAAAAAAA0/3JKWMmHuo-I/s64/photo.jpg",
      "userId": "15777129185599330219"
     },
     "user_tz": 300
    },
    "id": "sWFziQ0ag4tV",
    "outputId": "b0c2f068-bb79-4e79-e5df-a09a12f1d63d"
   },
   "outputs": [
    {
     "name": "stdout",
     "output_type": "stream",
     "text": [
      "Outcome              |    with name    |  without name  \n",
      "--------------------------------------------------------\n",
      "Missing              |      0.06%      |      0.04%     \n",
      "Died                 |      0.45%      |      3.05%     \n",
      "Adoption             |     50.43%      |     23.37%     \n",
      "Relocate             |      0.00%      |      0.06%     \n",
      "Return to Owner      |     25.85%      |      1.91%     \n",
      "Transfer             |     20.55%      |     51.64%     \n",
      "Euthanasia           |      2.66%      |     19.92%     \n"
     ]
    }
   ],
   "source": [
    "# check if name as any impact\n",
    "out = list(set(data[:, 4]))\n",
    "out_name = [0 for _ in out]\n",
    "out_noname = [0 for _ in out]\n",
    "\n",
    "for d in data:\n",
    "    if d[2]:\n",
    "        out_name[out.index(d[4])] += 1\n",
    "    else:\n",
    "        out_noname[out.index(d[4])] += 1\n",
    "print(\"{:20s} | {:^15s} | {:^15s}\".format(\"Outcome\", \"with name\",\n",
    "                                          \"without name\"))\n",
    "print(\"-\" * 56)\n",
    "for a, b, c in zip(out, out_name, out_noname):\n",
    "    print(\"{:20s} | {:^15.2%} | {:^15.2%}\".format(a, b / np.sum(out_name),\n",
    "                                                  c / np.sum(out_noname)))"
   ]
  },
  {
   "cell_type": "code",
   "execution_count": 22,
   "metadata": {},
   "outputs": [
    {
     "data": {
      "image/png": "[encoded data removed]",
      "text/plain": [
       "<Figure size 720x288 with 1 Axes>"
      ]
     },
     "metadata": {
      "needs_background": "light"
     },
     "output_type": "display_data"
    }
   ],
   "source": [
    "# plot class distribution with seaborn\n",
    "plt.figure(figsize=(10, 4))\n",
    "plt.bar(\n",
    "    out,\n",
    "    out_name / np.sum(out_name),\n",
    "    width=0.4,\n",
    "    align=\"edge\",\n",
    "    label=\"With name\")\n",
    "plt.bar(\n",
    "    out,\n",
    "    out_noname / np.sum(out_noname),\n",
    "    width=-0.4,\n",
    "    align=\"edge\",\n",
    "    label=\"Without name\")\n",
    "plt.legend(frameon=False)\n",
    "plt.ylabel(\"Probability\")\n",
    "sns.despine()\n",
    "plt.tight_layout()\n",
    "plt.savefig(\"figures/sex_distribution.png\", dpi=300, transparent=True)\n",
    "plt.show()\n",
    "plt.close()"
   ]
  },
  {
   "cell_type": "code",
   "execution_count": 23,
   "metadata": {
    "colab": {},
    "colab_type": "code",
    "id": "PXZEYnVsg4tY"
   },
   "outputs": [],
   "source": [
    "# the presence of a name seems to have an impact on the outcome\n",
    "# its value should not have any effect (difficult to evaluate)\n",
    "# replace absence of a name by 0 and presence of a name by 1\n",
    "for row in data:\n",
    "    row[2] = 1 if row[2] else 0"
   ]
  },
  {
   "cell_type": "code",
   "execution_count": 24,
   "metadata": {
    "colab": {
     "base_uri": "https://localhost:8080/",
     "height": 123
    },
    "colab_type": "code",
    "executionInfo": {
     "elapsed": 292044,
     "status": "ok",
     "timestamp": 1551477294203,
     "user": {
      "displayName": "Quentin Fournier",
      "photoUrl": "https://lh3.googleusercontent.com/--7LcocvGIHw/AAAAAAAAAAI/AAAAAAAAAA0/3JKWMmHuo-I/s64/photo.jpg",
      "userId": "15777129185599330219"
     },
     "user_tz": 300
    },
    "id": "fBGop2vKg4ta",
    "outputId": "57c66273-2f63-497e-e47d-308827a6678b"
   },
   "outputs": [
    {
     "name": "stdout",
     "output_type": "stream",
     "text": [
      "Intact Female        :  23739 ( 29.8%)\n",
      "Intact Male          :  25355 ( 31.8%)\n",
      "NULL                 :      1 (  0.0%)\n",
      "Neutered Male        :  12728 ( 16.0%)\n",
      "Spayed Female        :  11168 ( 14.0%)\n",
      "Unknown              :   6785 (  8.5%)\n"
     ]
    },
    {
     "data": {
      "image/png": "[encoded data removed]",
      "text/plain": [
       "<Figure size 720x288 with 1 Axes>"
      ]
     },
     "metadata": {
      "needs_background": "light"
     },
     "output_type": "display_data"
    }
   ],
   "source": [
    "# sex analysis\n",
    "sex, count = np.unique(data[:, 3], return_counts=True)\n",
    "for s, c in zip(sex, count):\n",
    "    print(\"{:20s} : {:6d} ({:6.1%})\".format(s, c, c / data.shape[0]))\n",
    "    \n",
    "# plot class distribution with seaborn\n",
    "plt.figure(figsize=(10, 4))\n",
    "graph = sns.countplot(data[:, 3], order=sex)\n",
    "for i, c in enumerate(count):\n",
    "    graph.text(i, c + max(count) * 0.01, c, ha=\"center\")\n",
    "sns.despine()\n",
    "plt.tight_layout()\n",
    "plt.savefig(\"figures/sex_distribution.png\", dpi=300, transparent=True)\n",
    "plt.show()\n",
    "plt.close()"
   ]
  },
  {
   "cell_type": "code",
   "execution_count": 25,
   "metadata": {
    "colab": {
     "base_uri": "https://localhost:8080/",
     "height": 141
    },
    "colab_type": "code",
    "executionInfo": {
     "elapsed": 292272,
     "status": "ok",
     "timestamp": 1551477294437,
     "user": {
      "displayName": "Quentin Fournier",
      "photoUrl": "https://lh3.googleusercontent.com/--7LcocvGIHw/AAAAAAAAAAI/AAAAAAAAAA0/3JKWMmHuo-I/s64/photo.jpg",
      "userId": "15777129185599330219"
     },
     "user_tz": 300
    },
    "id": "3PUpAk9dg4td",
    "outputId": "f382e5da-8a0a-4ac9-e568-5782e1265bf2"
   },
   "outputs": [
    {
     "name": "stdout",
     "output_type": "stream",
     "text": [
      "                 Missing         Died        Adoption      Relocate   Return to Owner   Transfer     Euthanasia  \n",
      "   Unknown          2            476            70            14            84           2747          3392     \n",
      " Intact Male        18           255          12178           0            3523          8282          1099     \n",
      "Neutered Male       3             42           4699           0            4958          2429          597      \n",
      "Spayed Female       4             48           4690           0            3950          2099          377      \n",
      "Intact Female       19           172          11972           1            2246          8447          882      \n",
      "     NULL           0             0             0             0             1             0             0       \n"
     ]
    }
   ],
   "source": [
    "# check if name as any impact\n",
    "out = list(set(data[:, 4]))\n",
    "sex = list(set(data[:, 3]))\n",
    "table = [[0 for _ in out] for _ in sex]\n",
    "for d in data:\n",
    "    table[sex.index(d[3])][out.index(d[4])] += 1\n",
    "\n",
    "print(\" \" * 14, end=\"\")\n",
    "for o in out:\n",
    "    print(\"{:^14s}\".format(o), end=\"\")\n",
    "print(\"\")\n",
    "for i, s in zip(table, sex):\n",
    "    print(\"{:^14s}\".format(s), end=\"\")\n",
    "    for j in i:\n",
    "        print(\"{:^14d}\".format(j), end=\"\")\n",
    "    print(\"\")"
   ]
  },
  {
   "cell_type": "code",
   "execution_count": 26,
   "metadata": {
    "colab": {},
    "colab_type": "code",
    "id": "WY_wF-TKg4tf"
   },
   "outputs": [],
   "source": [
    "# we cannot remove unknown because it seems to have an impact on the outcome (extremly low adoption rate)\n",
    "# there is only one NULL, which is suspect, we\\\"ll remove this\n",
    "id = np.where(data[:, 3] == \"NULL\")[0][0]\n",
    "data = np.delete(data, id, axis=0)"
   ]
  },
  {
   "cell_type": "code",
   "execution_count": 27,
   "metadata": {
    "colab": {},
    "colab_type": "code",
    "id": "eGUIgO14g4th"
   },
   "outputs": [],
   "source": [
    "# convert sex to integer\n",
    "mapping_sex, sex_int = np.unique(data[:, 3], return_inverse=True)\n",
    "data = np.delete(data, 3, axis=1)\n",
    "header = np.delete(header, 3, axis=0)\n",
    "data = np.concatenate((data, sex_int.reshape(-1, 1)), axis=1)\n",
    "header = np.concatenate((header, [\"sex\"]))"
   ]
  },
  {
   "cell_type": "code",
   "execution_count": 28,
   "metadata": {
    "colab": {},
    "colab_type": "code",
    "id": "YfEKOAaJg4ti"
   },
   "outputs": [],
   "source": [
    "# keep only month for datetime\n",
    "mapping_sex, sex_int = np.unique(data[:, 3], return_inverse=True)\n",
    "for d in data:\n",
    "    d[1] = int(d[1].split(\"-\")[1])"
   ]
  },
  {
   "cell_type": "code",
   "execution_count": 29,
   "metadata": {
    "colab": {},
    "colab_type": "code",
    "id": "bUFU8EbShYB0"
   },
   "outputs": [],
   "source": [
    "# put labels (outcomes) in separate matrix\n",
    "mapping_outcome, labels = np.unique(data[:, 3], return_inverse=True)\n",
    "x = np.delete(data, 3, axis=1)\n",
    "header = np.delete(header, 3, axis=0)"
   ]
  },
  {
   "cell_type": "code",
   "execution_count": 30,
   "metadata": {
    "colab": {},
    "colab_type": "code",
    "id": "FbpHLX6jnKqx"
   },
   "outputs": [],
   "source": [
    "x = x.astype(\"float32\")\n",
    "labels = labels.astype(\"int\")"
   ]
  },
  {
   "cell_type": "code",
   "execution_count": 31,
   "metadata": {
    "colab": {
     "base_uri": "https://localhost:8080/",
     "height": 726
    },
    "colab_type": "code",
    "executionInfo": {
     "elapsed": 293905,
     "status": "ok",
     "timestamp": 1551477296109,
     "user": {
      "displayName": "Quentin Fournier",
      "photoUrl": "https://lh3.googleusercontent.com/--7LcocvGIHw/AAAAAAAAAAI/AAAAAAAAAA0/3JKWMmHuo-I/s64/photo.jpg",
      "userId": "15777129185599330219"
     },
     "user_tz": 300
    },
    "id": "JYkWv3OrC9_r",
    "outputId": "948c619b-9305-4f3d-ba6b-cf7c72a02e27"
   },
   "outputs": [
    {
     "name": "stdout",
     "output_type": "stream",
     "text": [
      "age_upon_intake      : 8.0\n",
      "datetime             : 7.0\n",
      "name                 : 1.0\n",
      "animal_breed         : 1007.0\n",
      "color                : 498.0\n",
      "condition            : 3.0\n",
      "type                 : 3.0\n",
      "sex                  : 3.0\n",
      "\tOutcome: 5\n",
      "-----------------------\n",
      "age_upon_intake      : 0.9166666865348816\n",
      "datetime             : 4.0\n",
      "name                 : 1.0\n",
      "animal_breed         : 231.0\n",
      "color                : 382.0\n",
      "condition            : 3.0\n",
      "type                 : 3.0\n",
      "sex                  : 1.0\n",
      "\tOutcome: 5\n",
      "-----------------------\n",
      "age_upon_intake      : 0.07692307978868484\n",
      "datetime             : 10.0\n",
      "name                 : 0.0\n",
      "animal_breed         : 952.0\n",
      "color                : 194.0\n",
      "condition            : 7.0\n",
      "type                 : 3.0\n",
      "sex                  : 0.0\n",
      "\tOutcome: 6\n",
      "-----------------------\n",
      "age_upon_intake      : 4.0\n",
      "datetime             : 6.0\n",
      "name                 : 1.0\n",
      "animal_breed         : 924.0\n",
      "color                : 415.0\n",
      "condition            : 3.0\n",
      "type                 : 3.0\n",
      "sex                  : 2.0\n",
      "\tOutcome: 5\n",
      "-----------------------\n"
     ]
    }
   ],
   "source": [
    "for i, (row, label) in enumerate(zip(x, labels)):\n",
    "    for h, value in zip(header, row):\n",
    "        print(\"{:20s} : {}\".format(h, value))\n",
    "    print(\"\\tOutcome: {}\".format(label))\n",
    "    print(\"-----------------------\")\n",
    "    if i > 2:\n",
    "        break"
   ]
  },
  {
   "cell_type": "code",
   "execution_count": 32,
   "metadata": {
    "colab": {},
    "colab_type": "code",
    "id": "R3nQLLm2oqqX"
   },
   "outputs": [],
   "source": [
    "# convert outcomes (y) to one_hot\n",
    "y = np.eye(len(set(labels)))[labels]"
   ]
  },
  {
   "cell_type": "code",
   "execution_count": 33,
   "metadata": {
    "colab": {
     "base_uri": "https://localhost:8080/",
     "height": 52
    },
    "colab_type": "code",
    "executionInfo": {
     "elapsed": 293895,
     "status": "ok",
     "timestamp": 1551477296111,
     "user": {
      "displayName": "Quentin Fournier",
      "photoUrl": "https://lh3.googleusercontent.com/--7LcocvGIHw/AAAAAAAAAAI/AAAAAAAAAA0/3JKWMmHuo-I/s64/photo.jpg",
      "userId": "15777129185599330219"
     },
     "user_tz": 300
    },
    "id": "_ElNPDB1tg3N",
    "outputId": "76d18229-e6e2-4ff1-d49c-461d32838fea"
   },
   "outputs": [
    {
     "name": "stdout",
     "output_type": "stream",
     "text": [
      "Nb attributes: 8\n",
      "Nb different outcomes: 7\n"
     ]
    }
   ],
   "source": [
    "print(\"Nb attributes: {}\".format(x.shape[1]))\n",
    "print(\"Nb different outcomes: {}\".format(len(set(labels))))"
   ]
  },
  {
   "cell_type": "markdown",
   "metadata": {},
   "source": [
    "# Models"
   ]
  },
  {
   "cell_type": "code",
   "execution_count": 34,
   "metadata": {},
   "outputs": [],
   "source": [
    "# function to compute and plot the confusion matrix\n",
    "def cfm(true, pred, mapping, name):\n",
    "    cond_true = (len(true.shape) == 1) or (true.shape[1] == 1)\n",
    "    true = true < 0.5 if cond_true else np.argmax(true, axis=1)\n",
    "\n",
    "    cond_pred = (len(pred.shape) == 1) or (pred.shape[1] == 1)\n",
    "    pred = pred < 0.5 if cond_pred else np.argmax(pred, axis=1)\n",
    "\n",
    "    plt.figure()\n",
    "    plt.gca().set_axis_off()\n",
    "    plt.table(\n",
    "        cellText=confusion_matrix(true, pred),\n",
    "        rowLabels=mapping,\n",
    "        colLabels=mapping,\n",
    "        loc=\"center\")\n",
    "\n",
    "    plt.tight_layout()\n",
    "    plt.savefig(\"figures/cfm_{}.png\".format(name), dpi=300, transparent=True)\n",
    "    plt.show()\n",
    "    plt.close()"
   ]
  },
  {
   "cell_type": "code",
   "execution_count": 35,
   "metadata": {
    "colab": {},
    "colab_type": "code",
    "id": "NnYchNfu-RYu"
   },
   "outputs": [],
   "source": [
    "# function to plot the learning graphs\n",
    "def plot_history(history, name):\n",
    "    fig, axes = plt.subplots(1, 2, figsize=(8, 4))\n",
    "\n",
    "    # summarize history for accuracy\n",
    "    axes[0].plot(history.history[\"acc\"])\n",
    "    axes[0].plot(history.history[\"val_acc\"])\n",
    "    axes[0].set_ylabel(\"Accuracy (%)\")\n",
    "    axes[0].set_xlabel(\"Epoch\")\n",
    "\n",
    "    axes[0].legend([\"Train\", \"Validation\"], title=\"Set\", frameon=False)\n",
    "    # summarize history for loss\n",
    "    axes[1].plot(history.history[\"loss\"])\n",
    "    axes[1].plot(history.history[\"val_loss\"])\n",
    "    axes[1].set_ylabel(\"Loss\")\n",
    "    axes[1].set_xlabel(\"Epoch\")\n",
    "    axes[1].legend([\"Train\", \"Validation\"], title=\"Set\", frameon=False)\n",
    "\n",
    "    sns.despine()\n",
    "    plt.tight_layout()\n",
    "    plt.savefig(\"figures/history_{}.png\".format(name), dpi=300, transparent=True)\n",
    "    plt.show()\n",
    "    plt.close()"
   ]
  },
  {
   "cell_type": "code",
   "execution_count": 36,
   "metadata": {
    "colab": {},
    "colab_type": "code",
    "id": "VqNz_HSy1NA-"
   },
   "outputs": [],
   "source": [
    "#normalize x\n",
    "scaler = StandardScaler()\n",
    "x_scaled = scaler.fit_transform(x)"
   ]
  },
  {
   "cell_type": "code",
   "execution_count": 37,
   "metadata": {
    "colab": {},
    "colab_type": "code",
    "id": "owpSFih7p8Wi"
   },
   "outputs": [],
   "source": [
    "# split dataset into a training, validation and test set\n",
    "x_train, x_test, y_train, y_test = train_test_split(\n",
    "    x_scaled, y, test_size=0.2, stratify=y)\n",
    "# we split first (train/test) then (train/valid) 12.5% of 80% is the same as 10% of 100%\n",
    "x_train, x_val, y_train, y_val = train_test_split(\n",
    "    x_train, y_train, test_size=0.125, stratify=y_train)"
   ]
  },
  {
   "cell_type": "code",
   "execution_count": 38,
   "metadata": {
    "colab": {
     "base_uri": "https://localhost:8080/",
     "height": 70
    },
    "colab_type": "code",
    "executionInfo": {
     "elapsed": 295024,
     "status": "ok",
     "timestamp": 1551477297265,
     "user": {
      "displayName": "Quentin Fournier",
      "photoUrl": "https://lh3.googleusercontent.com/--7LcocvGIHw/AAAAAAAAAAI/AAAAAAAAAA0/3JKWMmHuo-I/s64/photo.jpg",
      "userId": "15777129185599330219"
     },
     "user_tz": 300
    },
    "id": "aDcgkbijqOkN",
    "outputId": "3bc6e762-4ae2-4b2f-ad0c-1e1659facfda"
   },
   "outputs": [
    {
     "name": "stdout",
     "output_type": "stream",
     "text": [
      "(55842, 8)\n",
      "(7978, 8)\n",
      "(15955, 8)\n"
     ]
    }
   ],
   "source": [
    "print(x_train.shape)\n",
    "print(x_val.shape)\n",
    "print(x_test.shape)"
   ]
  },
  {
   "cell_type": "code",
   "execution_count": 39,
   "metadata": {
    "colab": {
     "base_uri": "https://localhost:8080/",
     "height": 4005
    },
    "colab_type": "code",
    "executionInfo": {
     "elapsed": 503260,
     "status": "ok",
     "timestamp": 1551477505512,
     "user": {
      "displayName": "Quentin Fournier",
      "photoUrl": "https://lh3.googleusercontent.com/--7LcocvGIHw/AAAAAAAAAAI/AAAAAAAAAA0/3JKWMmHuo-I/s64/photo.jpg",
      "userId": "15777129185599330219"
     },
     "user_tz": 300
    },
    "id": "TsLsibkDr2oS",
    "outputId": "ec3c5bec-fcdd-4623-c4bc-b497d7a28769"
   },
   "outputs": [
    {
     "name": "stdout",
     "output_type": "stream",
     "text": [
      "WARNING:tensorflow:From /home/quentin/venv/lib/python3.6/site-packages/tensorflow/python/framework/op_def_library.py:263: colocate_with (from tensorflow.python.framework.ops) is deprecated and will be removed in a future version.\n",
      "Instructions for updating:\n",
      "Colocations handled automatically by placer.\n",
      "WARNING:tensorflow:From /home/quentin/venv/lib/python3.6/site-packages/keras/backend/tensorflow_backend.py:3445: calling dropout (from tensorflow.python.ops.nn_ops) with keep_prob is deprecated and will be removed in a future version.\n",
      "Instructions for updating:\n",
      "Please use `rate` instead of `keep_prob`. Rate should be set to `rate = 1 - keep_prob`.\n",
      "_________________________________________________________________\n",
      "Layer (type)                 Output Shape              Param #   \n",
      "=================================================================\n",
      "input_1 (InputLayer)         (None, 8)                 0         \n",
      "_________________________________________________________________\n",
      "batch_normalization_1 (Batch (None, 8)                 32        \n",
      "_________________________________________________________________\n",
      "dense_1 (Dense)              (None, 256)               2304      \n",
      "_________________________________________________________________\n",
      "batch_normalization_2 (Batch (None, 256)               1024      \n",
      "_________________________________________________________________\n",
      "dropout_1 (Dropout)          (None, 256)               0         \n",
      "_________________________________________________________________\n",
      "activation_1 (Activation)    (None, 256)               0         \n",
      "_________________________________________________________________\n",
      "dense_2 (Dense)              (None, 128)               32896     \n",
      "_________________________________________________________________\n",
      "batch_normalization_3 (Batch (None, 128)               512       \n",
      "_________________________________________________________________\n",
      "dropout_2 (Dropout)          (None, 128)               0         \n",
      "_________________________________________________________________\n",
      "activation_2 (Activation)    (None, 128)               0         \n",
      "_________________________________________________________________\n",
      "dense_3 (Dense)              (None, 64)                8256      \n",
      "_________________________________________________________________\n",
      "batch_normalization_4 (Batch (None, 64)                256       \n",
      "_________________________________________________________________\n",
      "dropout_3 (Dropout)          (None, 64)                0         \n",
      "_________________________________________________________________\n",
      "activation_3 (Activation)    (None, 64)                0         \n",
      "_________________________________________________________________\n",
      "dense_4 (Dense)              (None, 7)                 455       \n",
      "_________________________________________________________________\n",
      "activation_4 (Activation)    (None, 7)                 0         \n",
      "=================================================================\n",
      "Total params: 45,735\n",
      "Trainable params: 44,823\n",
      "Non-trainable params: 912\n",
      "_________________________________________________________________\n"
     ]
    }
   ],
   "source": [
    "input = Input(shape=(8, ))\n",
    "dense = BatchNormalization()(input)\n",
    "dense = Dense(256)(dense)\n",
    "dense = BatchNormalization()(dense)\n",
    "dense = Dropout(0.5)(dense)\n",
    "dense = Activation(\"relu\")(dense)\n",
    "dense = Dense(128)(dense)\n",
    "dense = BatchNormalization()(dense)\n",
    "dense = Dropout(0.5)(dense)\n",
    "dense = Activation(\"relu\")(dense)\n",
    "dense = Dense(64)(dense)\n",
    "dense = BatchNormalization()(dense)\n",
    "dense = Dropout(0.5)(dense)\n",
    "dense = Activation(\"relu\")(dense)\n",
    "dense = Dense(7)(dense)\n",
    "output = Activation(\"softmax\")(dense)\n",
    "\n",
    "model = Model(inputs=input, outputs=output)\n",
    "\n",
    "model.compile(\n",
    "    loss=\"categorical_crossentropy\", optimizer=\"Adam\", metrics=[\"accuracy\"])\n",
    "\n",
    "model.summary()"
   ]
  },
  {
   "cell_type": "code",
   "execution_count": 40,
   "metadata": {},
   "outputs": [
    {
     "name": "stdout",
     "output_type": "stream",
     "text": [
      "WARNING:tensorflow:From /home/quentin/venv/lib/python3.6/site-packages/tensorflow/python/ops/math_ops.py:3066: to_int32 (from tensorflow.python.ops.math_ops) is deprecated and will be removed in a future version.\n",
      "Instructions for updating:\n",
      "Use tf.cast instead.\n",
      "Train on 55842 samples, validate on 7978 samples\n",
      "Epoch 1/9999\n",
      "55842/55842 [==============================] - 6s 114us/step - loss: 1.4408 - acc: 0.4553 - val_loss: 1.0785 - val_acc: 0.5648\n",
      "Epoch 2/9999\n",
      "55842/55842 [==============================] - 2s 39us/step - loss: 1.1345 - acc: 0.5382 - val_loss: 0.9990 - val_acc: 0.5920\n",
      "Epoch 3/9999\n",
      "55842/55842 [==============================] - 2s 39us/step - loss: 1.0676 - acc: 0.5609 - val_loss: 0.9723 - val_acc: 0.6020\n",
      "Epoch 4/9999\n",
      "55842/55842 [==============================] - 2s 39us/step - loss: 1.0385 - acc: 0.5748 - val_loss: 0.9592 - val_acc: 0.6062\n",
      "Epoch 5/9999\n",
      "55842/55842 [==============================] - 2s 39us/step - loss: 1.0183 - acc: 0.5861 - val_loss: 0.9514 - val_acc: 0.6122\n",
      "Epoch 6/9999\n",
      "55842/55842 [==============================] - 2s 39us/step - loss: 1.0052 - acc: 0.5917 - val_loss: 0.9476 - val_acc: 0.6137\n",
      "Epoch 7/9999\n",
      "55842/55842 [==============================] - 2s 39us/step - loss: 0.9963 - acc: 0.5976 - val_loss: 0.9414 - val_acc: 0.6173\n",
      "Epoch 8/9999\n",
      "55842/55842 [==============================] - 2s 40us/step - loss: 0.9892 - acc: 0.5986 - val_loss: 0.9376 - val_acc: 0.6197\n",
      "Epoch 9/9999\n",
      "55842/55842 [==============================] - 2s 40us/step - loss: 0.9846 - acc: 0.6048 - val_loss: 0.9352 - val_acc: 0.6203\n",
      "Epoch 10/9999\n",
      "55842/55842 [==============================] - 2s 39us/step - loss: 0.9784 - acc: 0.6064 - val_loss: 0.9335 - val_acc: 0.6188\n",
      "Epoch 11/9999\n",
      "55842/55842 [==============================] - 2s 40us/step - loss: 0.9752 - acc: 0.6059 - val_loss: 0.9305 - val_acc: 0.6210\n",
      "Epoch 12/9999\n",
      "55842/55842 [==============================] - 2s 38us/step - loss: 0.9705 - acc: 0.6095 - val_loss: 0.9278 - val_acc: 0.6198\n",
      "Epoch 13/9999\n",
      "55842/55842 [==============================] - 2s 39us/step - loss: 0.9688 - acc: 0.6085 - val_loss: 0.9256 - val_acc: 0.6187\n",
      "Epoch 14/9999\n",
      "55842/55842 [==============================] - 2s 40us/step - loss: 0.9647 - acc: 0.6095 - val_loss: 0.9249 - val_acc: 0.6203\n",
      "Epoch 15/9999\n",
      "55842/55842 [==============================] - 2s 39us/step - loss: 0.9622 - acc: 0.6117 - val_loss: 0.9222 - val_acc: 0.6197\n",
      "Epoch 16/9999\n",
      "55842/55842 [==============================] - 2s 39us/step - loss: 0.9604 - acc: 0.6105 - val_loss: 0.9209 - val_acc: 0.6212\n",
      "Epoch 17/9999\n",
      "55842/55842 [==============================] - 2s 39us/step - loss: 0.9575 - acc: 0.6135 - val_loss: 0.9178 - val_acc: 0.6211\n",
      "Epoch 18/9999\n",
      "55842/55842 [==============================] - 2s 40us/step - loss: 0.9558 - acc: 0.6147 - val_loss: 0.9182 - val_acc: 0.6213\n",
      "Epoch 19/9999\n",
      "55842/55842 [==============================] - 2s 39us/step - loss: 0.9537 - acc: 0.6140 - val_loss: 0.9180 - val_acc: 0.6222\n",
      "Epoch 20/9999\n",
      "55842/55842 [==============================] - 2s 40us/step - loss: 0.9528 - acc: 0.6150 - val_loss: 0.9143 - val_acc: 0.6223\n",
      "Epoch 21/9999\n",
      "55842/55842 [==============================] - 2s 39us/step - loss: 0.9517 - acc: 0.6144 - val_loss: 0.9176 - val_acc: 0.6228\n",
      "Epoch 22/9999\n",
      "55842/55842 [==============================] - 2s 39us/step - loss: 0.9506 - acc: 0.6173 - val_loss: 0.9126 - val_acc: 0.6218\n",
      "Epoch 23/9999\n",
      "55842/55842 [==============================] - 2s 40us/step - loss: 0.9476 - acc: 0.6153 - val_loss: 0.9120 - val_acc: 0.6215\n",
      "Epoch 24/9999\n",
      "55842/55842 [==============================] - 2s 40us/step - loss: 0.9447 - acc: 0.6177 - val_loss: 0.9110 - val_acc: 0.6246\n",
      "Epoch 25/9999\n",
      "55842/55842 [==============================] - 2s 40us/step - loss: 0.9446 - acc: 0.6182 - val_loss: 0.9085 - val_acc: 0.6233\n",
      "Epoch 26/9999\n",
      "55842/55842 [==============================] - 2s 40us/step - loss: 0.9447 - acc: 0.6187 - val_loss: 0.9085 - val_acc: 0.6230\n",
      "Epoch 27/9999\n",
      "55842/55842 [==============================] - 2s 38us/step - loss: 0.9418 - acc: 0.6195 - val_loss: 0.9077 - val_acc: 0.6246\n",
      "Epoch 28/9999\n",
      "55842/55842 [==============================] - 2s 39us/step - loss: 0.9442 - acc: 0.6195 - val_loss: 0.9066 - val_acc: 0.6246\n",
      "Epoch 29/9999\n",
      "55842/55842 [==============================] - 2s 38us/step - loss: 0.9430 - acc: 0.6176 - val_loss: 0.9060 - val_acc: 0.6246\n",
      "Epoch 30/9999\n",
      "55842/55842 [==============================] - 2s 39us/step - loss: 0.9384 - acc: 0.6209 - val_loss: 0.9066 - val_acc: 0.6251\n",
      "Epoch 31/9999\n",
      "55842/55842 [==============================] - 2s 40us/step - loss: 0.9393 - acc: 0.6194 - val_loss: 0.9051 - val_acc: 0.6253\n",
      "Epoch 32/9999\n",
      "55842/55842 [==============================] - 2s 40us/step - loss: 0.9387 - acc: 0.6198 - val_loss: 0.9045 - val_acc: 0.6260\n",
      "Epoch 33/9999\n",
      "55842/55842 [==============================] - 2s 40us/step - loss: 0.9389 - acc: 0.6219 - val_loss: 0.9028 - val_acc: 0.6267\n",
      "Epoch 34/9999\n",
      "55842/55842 [==============================] - 2s 40us/step - loss: 0.9365 - acc: 0.6201 - val_loss: 0.9017 - val_acc: 0.6253\n",
      "Epoch 35/9999\n",
      "55842/55842 [==============================] - 2s 40us/step - loss: 0.9364 - acc: 0.6204 - val_loss: 0.9027 - val_acc: 0.6256\n",
      "Epoch 36/9999\n",
      "55842/55842 [==============================] - 2s 40us/step - loss: 0.9370 - acc: 0.6205 - val_loss: 0.9028 - val_acc: 0.6263\n",
      "Epoch 37/9999\n",
      "55842/55842 [==============================] - 2s 40us/step - loss: 0.9353 - acc: 0.6226 - val_loss: 0.9013 - val_acc: 0.6267\n",
      "Epoch 38/9999\n",
      "55842/55842 [==============================] - 2s 40us/step - loss: 0.9342 - acc: 0.6211 - val_loss: 0.9006 - val_acc: 0.6265\n",
      "Epoch 39/9999\n",
      "55842/55842 [==============================] - 2s 39us/step - loss: 0.9328 - acc: 0.6239 - val_loss: 0.9007 - val_acc: 0.6247\n",
      "Epoch 40/9999\n",
      "55842/55842 [==============================] - 2s 39us/step - loss: 0.9289 - acc: 0.6225 - val_loss: 0.8998 - val_acc: 0.6268\n",
      "Epoch 41/9999\n",
      "55842/55842 [==============================] - 2s 40us/step - loss: 0.9306 - acc: 0.6226 - val_loss: 0.8988 - val_acc: 0.6267\n",
      "Epoch 42/9999\n",
      "55842/55842 [==============================] - 2s 40us/step - loss: 0.9298 - acc: 0.6247 - val_loss: 0.8983 - val_acc: 0.6256\n",
      "Epoch 43/9999\n",
      "55842/55842 [==============================] - 2s 39us/step - loss: 0.9310 - acc: 0.6238 - val_loss: 0.8995 - val_acc: 0.6265\n",
      "Epoch 44/9999\n",
      "55842/55842 [==============================] - 2s 39us/step - loss: 0.9300 - acc: 0.6231 - val_loss: 0.9003 - val_acc: 0.6265\n",
      "Epoch 45/9999\n",
      "55842/55842 [==============================] - 2s 39us/step - loss: 0.9293 - acc: 0.6247 - val_loss: 0.8979 - val_acc: 0.6272\n",
      "Epoch 46/9999\n",
      "55842/55842 [==============================] - 2s 39us/step - loss: 0.9299 - acc: 0.6225 - val_loss: 0.8967 - val_acc: 0.6270\n",
      "Epoch 47/9999\n",
      "55842/55842 [==============================] - 2s 40us/step - loss: 0.9273 - acc: 0.6245 - val_loss: 0.8961 - val_acc: 0.6268\n",
      "Epoch 48/9999\n",
      "55842/55842 [==============================] - 2s 40us/step - loss: 0.9286 - acc: 0.6237 - val_loss: 0.8952 - val_acc: 0.6274\n",
      "Epoch 49/9999\n",
      "55842/55842 [==============================] - 2s 39us/step - loss: 0.9285 - acc: 0.6231 - val_loss: 0.8964 - val_acc: 0.6270\n",
      "Epoch 50/9999\n",
      "55842/55842 [==============================] - 2s 40us/step - loss: 0.9252 - acc: 0.6275 - val_loss: 0.8947 - val_acc: 0.6271\n",
      "Epoch 51/9999\n",
      "55842/55842 [==============================] - 2s 40us/step - loss: 0.9250 - acc: 0.6257 - val_loss: 0.8960 - val_acc: 0.6272\n",
      "Epoch 52/9999\n",
      "55842/55842 [==============================] - 2s 40us/step - loss: 0.9267 - acc: 0.6248 - val_loss: 0.8967 - val_acc: 0.6277\n",
      "Epoch 53/9999\n",
      "55842/55842 [==============================] - 2s 39us/step - loss: 0.9246 - acc: 0.6257 - val_loss: 0.8946 - val_acc: 0.6279\n",
      "Epoch 54/9999\n",
      "55842/55842 [==============================] - 2s 39us/step - loss: 0.9249 - acc: 0.6253 - val_loss: 0.8940 - val_acc: 0.6267\n",
      "Epoch 55/9999\n",
      "55842/55842 [==============================] - 2s 38us/step - loss: 0.9242 - acc: 0.6252 - val_loss: 0.8934 - val_acc: 0.6272\n",
      "Epoch 56/9999\n",
      "55842/55842 [==============================] - 2s 39us/step - loss: 0.9247 - acc: 0.6244 - val_loss: 0.8933 - val_acc: 0.6277\n",
      "Epoch 57/9999\n"
     ]
    },
    {
     "name": "stdout",
     "output_type": "stream",
     "text": [
      "55842/55842 [==============================] - 2s 39us/step - loss: 0.9247 - acc: 0.6261 - val_loss: 0.8936 - val_acc: 0.6270\n",
      "Epoch 58/9999\n",
      "55842/55842 [==============================] - 2s 40us/step - loss: 0.9231 - acc: 0.6259 - val_loss: 0.8933 - val_acc: 0.6280\n",
      "Epoch 59/9999\n",
      "55842/55842 [==============================] - 2s 40us/step - loss: 0.9215 - acc: 0.6270 - val_loss: 0.8931 - val_acc: 0.6289\n",
      "Epoch 60/9999\n",
      "55842/55842 [==============================] - 2s 40us/step - loss: 0.9222 - acc: 0.6263 - val_loss: 0.8921 - val_acc: 0.6274\n",
      "Epoch 61/9999\n",
      "55842/55842 [==============================] - 2s 40us/step - loss: 0.9223 - acc: 0.6256 - val_loss: 0.8926 - val_acc: 0.6287\n",
      "Epoch 62/9999\n",
      "55842/55842 [==============================] - 2s 39us/step - loss: 0.9226 - acc: 0.6250 - val_loss: 0.8918 - val_acc: 0.6280\n",
      "Epoch 63/9999\n",
      "55842/55842 [==============================] - 2s 40us/step - loss: 0.9205 - acc: 0.6262 - val_loss: 0.8923 - val_acc: 0.6285\n",
      "Epoch 64/9999\n",
      "55842/55842 [==============================] - 2s 39us/step - loss: 0.9214 - acc: 0.6255 - val_loss: 0.8908 - val_acc: 0.6286\n",
      "Epoch 65/9999\n",
      "55842/55842 [==============================] - 2s 40us/step - loss: 0.9208 - acc: 0.6253 - val_loss: 0.8917 - val_acc: 0.6280\n",
      "Epoch 66/9999\n",
      "55842/55842 [==============================] - 2s 39us/step - loss: 0.9200 - acc: 0.6274 - val_loss: 0.8889 - val_acc: 0.6290\n",
      "Epoch 67/9999\n",
      "55842/55842 [==============================] - 2s 39us/step - loss: 0.9218 - acc: 0.6265 - val_loss: 0.8926 - val_acc: 0.6281\n",
      "Epoch 68/9999\n",
      "55842/55842 [==============================] - 2s 40us/step - loss: 0.9210 - acc: 0.6266 - val_loss: 0.8913 - val_acc: 0.6281\n",
      "Epoch 69/9999\n",
      "55842/55842 [==============================] - 2s 40us/step - loss: 0.9209 - acc: 0.6256 - val_loss: 0.8906 - val_acc: 0.6280\n",
      "Epoch 70/9999\n",
      "55842/55842 [==============================] - 2s 39us/step - loss: 0.9183 - acc: 0.6281 - val_loss: 0.8904 - val_acc: 0.6282\n",
      "Epoch 71/9999\n",
      "55842/55842 [==============================] - 2s 39us/step - loss: 0.9183 - acc: 0.6278 - val_loss: 0.8890 - val_acc: 0.6286\n",
      "Epoch 72/9999\n",
      "55842/55842 [==============================] - 2s 40us/step - loss: 0.9183 - acc: 0.6272 - val_loss: 0.8899 - val_acc: 0.6289\n",
      "Epoch 73/9999\n",
      "55842/55842 [==============================] - 2s 40us/step - loss: 0.9183 - acc: 0.6290 - val_loss: 0.8893 - val_acc: 0.6287\n",
      "Epoch 74/9999\n",
      "55842/55842 [==============================] - 2s 40us/step - loss: 0.9181 - acc: 0.6276 - val_loss: 0.8890 - val_acc: 0.6299\n",
      "Epoch 75/9999\n",
      "55842/55842 [==============================] - 2s 40us/step - loss: 0.9187 - acc: 0.6276 - val_loss: 0.8883 - val_acc: 0.6295\n",
      "Epoch 76/9999\n",
      "55842/55842 [==============================] - 2s 39us/step - loss: 0.9162 - acc: 0.6288 - val_loss: 0.8871 - val_acc: 0.6290\n",
      "Epoch 77/9999\n",
      "55842/55842 [==============================] - 2s 39us/step - loss: 0.9167 - acc: 0.6275 - val_loss: 0.8877 - val_acc: 0.6295\n",
      "Epoch 78/9999\n",
      "55842/55842 [==============================] - 2s 39us/step - loss: 0.9170 - acc: 0.6278 - val_loss: 0.8879 - val_acc: 0.6297\n",
      "Epoch 79/9999\n",
      "55842/55842 [==============================] - 2s 40us/step - loss: 0.9150 - acc: 0.6275 - val_loss: 0.8869 - val_acc: 0.6294\n",
      "Epoch 80/9999\n",
      "55842/55842 [==============================] - 2s 40us/step - loss: 0.9170 - acc: 0.6285 - val_loss: 0.8863 - val_acc: 0.6301\n",
      "Epoch 81/9999\n",
      "55842/55842 [==============================] - 2s 38us/step - loss: 0.9180 - acc: 0.6284 - val_loss: 0.8874 - val_acc: 0.6299\n",
      "Epoch 82/9999\n",
      "55842/55842 [==============================] - 2s 39us/step - loss: 0.9168 - acc: 0.6280 - val_loss: 0.8879 - val_acc: 0.6285\n",
      "Epoch 83/9999\n",
      "55842/55842 [==============================] - 2s 39us/step - loss: 0.9164 - acc: 0.6286 - val_loss: 0.8858 - val_acc: 0.6290\n",
      "Epoch 84/9999\n",
      "55842/55842 [==============================] - 2s 39us/step - loss: 0.9153 - acc: 0.6285 - val_loss: 0.8867 - val_acc: 0.6295\n",
      "Epoch 85/9999\n",
      "55842/55842 [==============================] - 2s 39us/step - loss: 0.9168 - acc: 0.6279 - val_loss: 0.8869 - val_acc: 0.6307\n",
      "Epoch 86/9999\n",
      "55842/55842 [==============================] - 2s 39us/step - loss: 0.9159 - acc: 0.6281 - val_loss: 0.8870 - val_acc: 0.6302\n",
      "Epoch 87/9999\n",
      "55842/55842 [==============================] - 2s 39us/step - loss: 0.9157 - acc: 0.6292 - val_loss: 0.8867 - val_acc: 0.6295\n",
      "Epoch 88/9999\n",
      "55842/55842 [==============================] - 2s 39us/step - loss: 0.9143 - acc: 0.6307 - val_loss: 0.8870 - val_acc: 0.6309\n",
      "Epoch 89/9999\n",
      "55842/55842 [==============================] - 2s 39us/step - loss: 0.9136 - acc: 0.6303 - val_loss: 0.8863 - val_acc: 0.6305\n",
      "Epoch 90/9999\n",
      "55842/55842 [==============================] - 2s 39us/step - loss: 0.9157 - acc: 0.6282 - val_loss: 0.8857 - val_acc: 0.6305\n",
      "Epoch 91/9999\n",
      "55842/55842 [==============================] - 2s 39us/step - loss: 0.9126 - acc: 0.6305 - val_loss: 0.8860 - val_acc: 0.6304\n",
      "Epoch 92/9999\n",
      "55842/55842 [==============================] - 2s 39us/step - loss: 0.9131 - acc: 0.6304 - val_loss: 0.8861 - val_acc: 0.6302\n",
      "Epoch 93/9999\n",
      "55842/55842 [==============================] - 2s 39us/step - loss: 0.9160 - acc: 0.6280 - val_loss: 0.8857 - val_acc: 0.6302\n",
      "Epoch 94/9999\n",
      "55842/55842 [==============================] - 2s 40us/step - loss: 0.9157 - acc: 0.6297 - val_loss: 0.8850 - val_acc: 0.6294\n",
      "Epoch 95/9999\n",
      "55842/55842 [==============================] - 2s 40us/step - loss: 0.9149 - acc: 0.6286 - val_loss: 0.8854 - val_acc: 0.6286\n",
      "Epoch 96/9999\n",
      "55842/55842 [==============================] - 2s 39us/step - loss: 0.9147 - acc: 0.6303 - val_loss: 0.8860 - val_acc: 0.6309\n",
      "Epoch 97/9999\n",
      "55842/55842 [==============================] - 2s 39us/step - loss: 0.9125 - acc: 0.6289 - val_loss: 0.8849 - val_acc: 0.6306\n",
      "Epoch 98/9999\n",
      "55842/55842 [==============================] - 2s 39us/step - loss: 0.9123 - acc: 0.6281 - val_loss: 0.8852 - val_acc: 0.6307\n",
      "Epoch 99/9999\n",
      "55842/55842 [==============================] - 2s 39us/step - loss: 0.9133 - acc: 0.6298 - val_loss: 0.8858 - val_acc: 0.6320\n",
      "Epoch 100/9999\n",
      "55842/55842 [==============================] - 2s 39us/step - loss: 0.9120 - acc: 0.6284 - val_loss: 0.8856 - val_acc: 0.6306\n",
      "Epoch 101/9999\n",
      "55842/55842 [==============================] - 2s 39us/step - loss: 0.9146 - acc: 0.6286 - val_loss: 0.8853 - val_acc: 0.6296\n",
      "Epoch 102/9999\n",
      "55842/55842 [==============================] - 2s 40us/step - loss: 0.9136 - acc: 0.6298 - val_loss: 0.8839 - val_acc: 0.6307\n",
      "Epoch 103/9999\n",
      "55842/55842 [==============================] - 2s 39us/step - loss: 0.9114 - acc: 0.6290 - val_loss: 0.8853 - val_acc: 0.6304\n",
      "Epoch 104/9999\n",
      "55842/55842 [==============================] - 2s 39us/step - loss: 0.9112 - acc: 0.6281 - val_loss: 0.8840 - val_acc: 0.6316\n",
      "Epoch 105/9999\n",
      "55842/55842 [==============================] - 2s 39us/step - loss: 0.9138 - acc: 0.6284 - val_loss: 0.8859 - val_acc: 0.6291\n",
      "Epoch 106/9999\n",
      "55842/55842 [==============================] - 2s 39us/step - loss: 0.9103 - acc: 0.6287 - val_loss: 0.8847 - val_acc: 0.6312\n",
      "Epoch 107/9999\n",
      "55842/55842 [==============================] - 2s 40us/step - loss: 0.9113 - acc: 0.6298 - val_loss: 0.8839 - val_acc: 0.6312\n",
      "Epoch 108/9999\n",
      "55842/55842 [==============================] - 2s 39us/step - loss: 0.9130 - acc: 0.6307 - val_loss: 0.8845 - val_acc: 0.6312\n",
      "Epoch 109/9999\n",
      "55842/55842 [==============================] - 2s 38us/step - loss: 0.9125 - acc: 0.6285 - val_loss: 0.8825 - val_acc: 0.6310\n",
      "Epoch 110/9999\n",
      "55842/55842 [==============================] - 2s 38us/step - loss: 0.9114 - acc: 0.6308 - val_loss: 0.8827 - val_acc: 0.6310\n",
      "Epoch 111/9999\n",
      "55842/55842 [==============================] - 2s 39us/step - loss: 0.9117 - acc: 0.6293 - val_loss: 0.8830 - val_acc: 0.6307\n",
      "Epoch 112/9999\n",
      "55842/55842 [==============================] - 2s 39us/step - loss: 0.9109 - acc: 0.6296 - val_loss: 0.8835 - val_acc: 0.6300\n",
      "Epoch 113/9999\n",
      "55842/55842 [==============================] - 2s 39us/step - loss: 0.9103 - acc: 0.6296 - val_loss: 0.8855 - val_acc: 0.6304\n",
      "Epoch 114/9999\n",
      "55842/55842 [==============================] - 2s 39us/step - loss: 0.9098 - acc: 0.6302 - val_loss: 0.8837 - val_acc: 0.6312\n",
      "Epoch 115/9999\n"
     ]
    },
    {
     "name": "stdout",
     "output_type": "stream",
     "text": [
      "55842/55842 [==============================] - 2s 39us/step - loss: 0.9109 - acc: 0.6301 - val_loss: 0.8830 - val_acc: 0.6307\n",
      "Epoch 116/9999\n",
      "55842/55842 [==============================] - 2s 40us/step - loss: 0.9113 - acc: 0.6293 - val_loss: 0.8841 - val_acc: 0.6311\n",
      "Epoch 117/9999\n",
      "55842/55842 [==============================] - 2s 40us/step - loss: 0.9096 - acc: 0.6301 - val_loss: 0.8839 - val_acc: 0.6310\n",
      "Epoch 118/9999\n",
      "55842/55842 [==============================] - 2s 39us/step - loss: 0.9096 - acc: 0.6297 - val_loss: 0.8836 - val_acc: 0.6314\n",
      "Epoch 119/9999\n",
      "55842/55842 [==============================] - 2s 40us/step - loss: 0.9105 - acc: 0.6299 - val_loss: 0.8850 - val_acc: 0.6307\n",
      "Epoch 120/9999\n",
      "55842/55842 [==============================] - 2s 40us/step - loss: 0.9112 - acc: 0.6300 - val_loss: 0.8832 - val_acc: 0.6289\n",
      "Epoch 121/9999\n",
      "55842/55842 [==============================] - 2s 39us/step - loss: 0.9108 - acc: 0.6317 - val_loss: 0.8824 - val_acc: 0.6296\n",
      "Epoch 122/9999\n",
      "55842/55842 [==============================] - 2s 39us/step - loss: 0.9099 - acc: 0.6297 - val_loss: 0.8824 - val_acc: 0.6305\n",
      "Epoch 123/9999\n",
      "55842/55842 [==============================] - 2s 39us/step - loss: 0.9104 - acc: 0.6298 - val_loss: 0.8827 - val_acc: 0.6320\n",
      "Epoch 124/9999\n",
      "55842/55842 [==============================] - 2s 39us/step - loss: 0.9073 - acc: 0.6304 - val_loss: 0.8820 - val_acc: 0.6309\n"
     ]
    }
   ],
   "source": [
    "history = model.fit(\n",
    "    x_train,\n",
    "    y_train,\n",
    "    batch_size=512,\n",
    "    epochs=9999,\n",
    "    verbose=1,\n",
    "    validation_data=(x_val, y_val),\n",
    "    callbacks=[\n",
    "        callbacks.EarlyStopping(\n",
    "            monitor=\"val_acc\",\n",
    "            min_delta=0.0001,\n",
    "            patience=25,\n",
    "            restore_best_weights=True)\n",
    "    ])"
   ]
  },
  {
   "cell_type": "code",
   "execution_count": 41,
   "metadata": {},
   "outputs": [
    {
     "name": "stdout",
     "output_type": "stream",
     "text": [
      "Test loss: 0.8761320245038077\n",
      "Test accuracy: 0.6412409902739696\n"
     ]
    }
   ],
   "source": [
    "score = model.evaluate(x_test, y_test, verbose=0)\n",
    "print(\"Test loss:\", score[0])\n",
    "print(\"Test accuracy:\", score[1])"
   ]
  },
  {
   "cell_type": "code",
   "execution_count": 42,
   "metadata": {},
   "outputs": [
    {
     "data": {
      "image/png": "[encoded data removed]",
      "text/plain": [
       "<Figure size 432x288 with 1 Axes>"
      ]
     },
     "metadata": {
      "needs_background": "light"
     },
     "output_type": "display_data"
    }
   ],
   "source": [
    "cfm(y_test, model.predict(x_test), mapping_outcome, \"discret_multiclasse\")"
   ]
  },
  {
   "cell_type": "code",
   "execution_count": 43,
   "metadata": {
    "colab": {
     "base_uri": "https://localhost:8080/",
     "height": 293
    },
    "colab_type": "code",
    "executionInfo": {
     "elapsed": 505492,
     "status": "ok",
     "timestamp": 1551477507758,
     "user": {
      "displayName": "Quentin Fournier",
      "photoUrl": "https://lh3.googleusercontent.com/--7LcocvGIHw/AAAAAAAAAAI/AAAAAAAAAA0/3JKWMmHuo-I/s64/photo.jpg",
      "userId": "15777129185599330219"
     },
     "user_tz": 300
    },
    "id": "W5u4LBIXCLpV",
    "outputId": "18df40d5-10d4-43a9-ca06-531a10df6cd5"
   },
   "outputs": [
    {
     "data": {
      "image/png": "[encoded data removed]",
      "text/plain": [
       "<Figure size 576x288 with 2 Axes>"
      ]
     },
     "metadata": {
      "needs_background": "light"
     },
     "output_type": "display_data"
    }
   ],
   "source": [
    "plot_history(history, \"discret_multiclasse\")"
   ]
  },
  {
   "cell_type": "code",
   "execution_count": 44,
   "metadata": {
    "colab": {},
    "colab_type": "code",
    "id": "sWGujDnfyXKx"
   },
   "outputs": [],
   "source": [
    "# not accurate enough, let\"s only check if the animal is adopted\n",
    "binary_y = np.asarray([int(label[0] == 1) for label in y])\n",
    "# split dataset into a training, validation and test set\n",
    "x_train, x_test, y_train, y_test = train_test_split(\n",
    "    x_scaled, binary_y, test_size=0.2, stratify=binary_y)\n",
    "# we split first (train/test) then (train/valid) 12.5% of 80% is the same as 10% of 100%\n",
    "x_train, x_val, y_train, y_val = train_test_split(\n",
    "    x_train, y_train, test_size=0.125, stratify=y_train)"
   ]
  },
  {
   "cell_type": "code",
   "execution_count": 45,
   "metadata": {
    "colab": {
     "base_uri": "https://localhost:8080/",
     "height": 2410
    },
    "colab_type": "code",
    "executionInfo": {
     "elapsed": 634085,
     "status": "ok",
     "timestamp": 1551477636363,
     "user": {
      "displayName": "Quentin Fournier",
      "photoUrl": "https://lh3.googleusercontent.com/--7LcocvGIHw/AAAAAAAAAAI/AAAAAAAAAA0/3JKWMmHuo-I/s64/photo.jpg",
      "userId": "15777129185599330219"
     },
     "user_tz": 300
    },
    "id": "gD9LV0r_z0yL",
    "outputId": "984bfe7d-bdb5-4a84-d158-d7d0249755c6"
   },
   "outputs": [
    {
     "name": "stdout",
     "output_type": "stream",
     "text": [
      "_________________________________________________________________\n",
      "Layer (type)                 Output Shape              Param #   \n",
      "=================================================================\n",
      "input_2 (InputLayer)         (None, 8)                 0         \n",
      "_________________________________________________________________\n",
      "batch_normalization_5 (Batch (None, 8)                 32        \n",
      "_________________________________________________________________\n",
      "dense_5 (Dense)              (None, 256)               2304      \n",
      "_________________________________________________________________\n",
      "batch_normalization_6 (Batch (None, 256)               1024      \n",
      "_________________________________________________________________\n",
      "dropout_4 (Dropout)          (None, 256)               0         \n",
      "_________________________________________________________________\n",
      "activation_5 (Activation)    (None, 256)               0         \n",
      "_________________________________________________________________\n",
      "dense_6 (Dense)              (None, 128)               32896     \n",
      "_________________________________________________________________\n",
      "batch_normalization_7 (Batch (None, 128)               512       \n",
      "_________________________________________________________________\n",
      "dropout_5 (Dropout)          (None, 128)               0         \n",
      "_________________________________________________________________\n",
      "activation_6 (Activation)    (None, 128)               0         \n",
      "_________________________________________________________________\n",
      "dense_7 (Dense)              (None, 64)                8256      \n",
      "_________________________________________________________________\n",
      "batch_normalization_8 (Batch (None, 64)                256       \n",
      "_________________________________________________________________\n",
      "dropout_6 (Dropout)          (None, 64)                0         \n",
      "_________________________________________________________________\n",
      "activation_7 (Activation)    (None, 64)                0         \n",
      "_________________________________________________________________\n",
      "dense_8 (Dense)              (None, 32)                2080      \n",
      "_________________________________________________________________\n",
      "batch_normalization_9 (Batch (None, 32)                128       \n",
      "_________________________________________________________________\n",
      "dropout_7 (Dropout)          (None, 32)                0         \n",
      "_________________________________________________________________\n",
      "activation_8 (Activation)    (None, 32)                0         \n",
      "_________________________________________________________________\n",
      "dense_9 (Dense)              (None, 1)                 33        \n",
      "_________________________________________________________________\n",
      "activation_9 (Activation)    (None, 1)                 0         \n",
      "=================================================================\n",
      "Total params: 47,521\n",
      "Trainable params: 46,545\n",
      "Non-trainable params: 976\n",
      "_________________________________________________________________\n"
     ]
    }
   ],
   "source": [
    "input = Input(shape=(8, ))\n",
    "dense = BatchNormalization()(input)\n",
    "dense = Dense(256)(dense)\n",
    "dense = BatchNormalization()(dense)\n",
    "dense = Dropout(0.5)(dense)\n",
    "dense = Activation(\"relu\")(dense)\n",
    "dense = Dense(128)(dense)\n",
    "dense = BatchNormalization()(dense)\n",
    "dense = Dropout(0.5)(dense)\n",
    "dense = Activation(\"relu\")(dense)\n",
    "dense = Dense(64)(dense)\n",
    "dense = BatchNormalization()(dense)\n",
    "dense = Dropout(0.5)(dense)\n",
    "dense = Activation(\"relu\")(dense)\n",
    "dense = Dense(32)(dense)\n",
    "dense = BatchNormalization()(dense)\n",
    "dense = Dropout(0.5)(dense)\n",
    "dense = Activation(\"relu\")(dense)\n",
    "dense = Dense(1)(dense)\n",
    "output = Activation(\"sigmoid\")(dense)\n",
    "\n",
    "model = Model(inputs=input, outputs=output)\n",
    "\n",
    "model.compile(\n",
    "    loss=\"binary_crossentropy\", optimizer=\"Adam\", metrics=[\"accuracy\"])\n",
    "\n",
    "model.summary()"
   ]
  },
  {
   "cell_type": "code",
   "execution_count": 46,
   "metadata": {},
   "outputs": [
    {
     "name": "stdout",
     "output_type": "stream",
     "text": [
      "{0: 1.0, 1: 1.3736291762305535}\n"
     ]
    }
   ],
   "source": [
    "key, value = np.unique(y_train, return_counts=True)\n",
    "class_weight = dict(zip(key, max(value) / value))\n",
    "print(class_weight)"
   ]
  },
  {
   "cell_type": "code",
   "execution_count": 47,
   "metadata": {},
   "outputs": [
    {
     "name": "stdout",
     "output_type": "stream",
     "text": [
      "Train on 55842 samples, validate on 7978 samples\n",
      "Epoch 1/9999\n",
      "55842/55842 [==============================] - 5s 86us/step - loss: 0.6865 - acc: 0.5854 - val_loss: 0.5985 - val_acc: 0.6504\n",
      "Epoch 2/9999\n",
      "55842/55842 [==============================] - 3s 47us/step - loss: 0.6227 - acc: 0.6299 - val_loss: 0.5889 - val_acc: 0.6718\n",
      "Epoch 3/9999\n",
      "55842/55842 [==============================] - 3s 47us/step - loss: 0.6089 - acc: 0.6503 - val_loss: 0.5832 - val_acc: 0.6800\n",
      "Epoch 4/9999\n",
      "55842/55842 [==============================] - 3s 47us/step - loss: 0.6016 - acc: 0.6656 - val_loss: 0.5795 - val_acc: 0.6821\n",
      "Epoch 5/9999\n",
      "55842/55842 [==============================] - 3s 47us/step - loss: 0.5945 - acc: 0.6726 - val_loss: 0.5758 - val_acc: 0.6886\n",
      "Epoch 6/9999\n",
      "55842/55842 [==============================] - 3s 46us/step - loss: 0.5909 - acc: 0.6794 - val_loss: 0.5722 - val_acc: 0.6928\n",
      "Epoch 7/9999\n",
      "55842/55842 [==============================] - 3s 45us/step - loss: 0.5890 - acc: 0.6829 - val_loss: 0.5705 - val_acc: 0.6943\n",
      "Epoch 8/9999\n",
      "55842/55842 [==============================] - 3s 47us/step - loss: 0.5864 - acc: 0.6870 - val_loss: 0.5687 - val_acc: 0.6973\n",
      "Epoch 9/9999\n",
      "55842/55842 [==============================] - 3s 46us/step - loss: 0.5828 - acc: 0.6915 - val_loss: 0.5681 - val_acc: 0.6987\n",
      "Epoch 10/9999\n",
      "55842/55842 [==============================] - 3s 47us/step - loss: 0.5818 - acc: 0.6917 - val_loss: 0.5664 - val_acc: 0.7006\n",
      "Epoch 11/9999\n",
      "55842/55842 [==============================] - 3s 47us/step - loss: 0.5804 - acc: 0.6925 - val_loss: 0.5660 - val_acc: 0.6998\n",
      "Epoch 12/9999\n",
      "55842/55842 [==============================] - 3s 46us/step - loss: 0.5794 - acc: 0.6974 - val_loss: 0.5656 - val_acc: 0.6997\n",
      "Epoch 13/9999\n",
      "55842/55842 [==============================] - 3s 46us/step - loss: 0.5762 - acc: 0.6970 - val_loss: 0.5632 - val_acc: 0.6993\n",
      "Epoch 14/9999\n",
      "55842/55842 [==============================] - 3s 46us/step - loss: 0.5761 - acc: 0.6976 - val_loss: 0.5625 - val_acc: 0.6999\n",
      "Epoch 15/9999\n",
      "55842/55842 [==============================] - 3s 46us/step - loss: 0.5748 - acc: 0.6978 - val_loss: 0.5606 - val_acc: 0.7016\n",
      "Epoch 16/9999\n",
      "55842/55842 [==============================] - 3s 47us/step - loss: 0.5719 - acc: 0.6984 - val_loss: 0.5593 - val_acc: 0.7006\n",
      "Epoch 17/9999\n",
      "55842/55842 [==============================] - 3s 47us/step - loss: 0.5716 - acc: 0.6988 - val_loss: 0.5583 - val_acc: 0.7004\n",
      "Epoch 18/9999\n",
      "55842/55842 [==============================] - 3s 46us/step - loss: 0.5697 - acc: 0.7011 - val_loss: 0.5582 - val_acc: 0.6993\n",
      "Epoch 19/9999\n",
      "55842/55842 [==============================] - 3s 46us/step - loss: 0.5687 - acc: 0.7023 - val_loss: 0.5566 - val_acc: 0.7009\n",
      "Epoch 20/9999\n",
      "55842/55842 [==============================] - 3s 46us/step - loss: 0.5685 - acc: 0.7008 - val_loss: 0.5550 - val_acc: 0.7018\n",
      "Epoch 21/9999\n",
      "55842/55842 [==============================] - 3s 47us/step - loss: 0.5669 - acc: 0.7013 - val_loss: 0.5532 - val_acc: 0.7052\n",
      "Epoch 22/9999\n",
      "55842/55842 [==============================] - 3s 47us/step - loss: 0.5672 - acc: 0.7022 - val_loss: 0.5539 - val_acc: 0.7036\n",
      "Epoch 23/9999\n",
      "55842/55842 [==============================] - 3s 47us/step - loss: 0.5643 - acc: 0.7018 - val_loss: 0.5522 - val_acc: 0.7037\n",
      "Epoch 24/9999\n",
      "55842/55842 [==============================] - 3s 47us/step - loss: 0.5652 - acc: 0.7014 - val_loss: 0.5509 - val_acc: 0.7047\n",
      "Epoch 25/9999\n",
      "55842/55842 [==============================] - 3s 47us/step - loss: 0.5643 - acc: 0.7014 - val_loss: 0.5516 - val_acc: 0.7053\n",
      "Epoch 26/9999\n",
      "55842/55842 [==============================] - 3s 47us/step - loss: 0.5638 - acc: 0.7016 - val_loss: 0.5510 - val_acc: 0.7034\n",
      "Epoch 27/9999\n",
      "55842/55842 [==============================] - 3s 48us/step - loss: 0.5621 - acc: 0.7015 - val_loss: 0.5492 - val_acc: 0.7034\n",
      "Epoch 28/9999\n",
      "55842/55842 [==============================] - 3s 47us/step - loss: 0.5621 - acc: 0.7019 - val_loss: 0.5495 - val_acc: 0.7058\n",
      "Epoch 29/9999\n",
      "55842/55842 [==============================] - 3s 46us/step - loss: 0.5618 - acc: 0.7025 - val_loss: 0.5496 - val_acc: 0.7053\n",
      "Epoch 30/9999\n",
      "55842/55842 [==============================] - 3s 46us/step - loss: 0.5608 - acc: 0.7026 - val_loss: 0.5489 - val_acc: 0.7047\n",
      "Epoch 31/9999\n",
      "55842/55842 [==============================] - 3s 47us/step - loss: 0.5608 - acc: 0.7029 - val_loss: 0.5482 - val_acc: 0.7081\n",
      "Epoch 32/9999\n",
      "55842/55842 [==============================] - 3s 47us/step - loss: 0.5601 - acc: 0.7048 - val_loss: 0.5479 - val_acc: 0.7061\n",
      "Epoch 33/9999\n",
      "55842/55842 [==============================] - 3s 47us/step - loss: 0.5605 - acc: 0.7025 - val_loss: 0.5465 - val_acc: 0.7088\n",
      "Epoch 34/9999\n",
      "55842/55842 [==============================] - 3s 47us/step - loss: 0.5590 - acc: 0.7042 - val_loss: 0.5466 - val_acc: 0.7064\n",
      "Epoch 35/9999\n",
      "55842/55842 [==============================] - 3s 46us/step - loss: 0.5578 - acc: 0.7049 - val_loss: 0.5467 - val_acc: 0.7078\n",
      "Epoch 36/9999\n",
      "55842/55842 [==============================] - 3s 47us/step - loss: 0.5581 - acc: 0.7045 - val_loss: 0.5463 - val_acc: 0.7082\n",
      "Epoch 37/9999\n",
      "55842/55842 [==============================] - 3s 47us/step - loss: 0.5581 - acc: 0.7056 - val_loss: 0.5461 - val_acc: 0.7071\n",
      "Epoch 38/9999\n",
      "55842/55842 [==============================] - 3s 47us/step - loss: 0.5576 - acc: 0.7064 - val_loss: 0.5459 - val_acc: 0.7077\n",
      "Epoch 39/9999\n",
      "55842/55842 [==============================] - 3s 47us/step - loss: 0.5578 - acc: 0.7046 - val_loss: 0.5464 - val_acc: 0.7061\n",
      "Epoch 40/9999\n",
      "55842/55842 [==============================] - 3s 47us/step - loss: 0.5570 - acc: 0.7055 - val_loss: 0.5467 - val_acc: 0.7057\n",
      "Epoch 41/9999\n",
      "55842/55842 [==============================] - 3s 47us/step - loss: 0.5571 - acc: 0.7071 - val_loss: 0.5462 - val_acc: 0.7067\n"
     ]
    }
   ],
   "source": [
    "history = model.fit(\n",
    "    x_train,\n",
    "    y_train,\n",
    "    batch_size=512,\n",
    "    epochs=9999,\n",
    "    verbose=1,\n",
    "#     class_weight=class_weight,\n",
    "    validation_data=(x_val, y_val),\n",
    "    callbacks=[\n",
    "        callbacks.EarlyStopping(\n",
    "            monitor=\"val_acc\",\n",
    "            min_delta=0.001,\n",
    "            patience=10,\n",
    "            restore_best_weights=True)\n",
    "    ])"
   ]
  },
  {
   "cell_type": "code",
   "execution_count": 48,
   "metadata": {
    "colab": {
     "base_uri": "https://localhost:8080/",
     "height": 52
    },
    "colab_type": "code",
    "executionInfo": {
     "elapsed": 635747,
     "status": "ok",
     "timestamp": 1551477638032,
     "user": {
      "displayName": "Quentin Fournier",
      "photoUrl": "https://lh3.googleusercontent.com/--7LcocvGIHw/AAAAAAAAAAI/AAAAAAAAAA0/3JKWMmHuo-I/s64/photo.jpg",
      "userId": "15777129185599330219"
     },
     "user_tz": 300
    },
    "id": "c4RUEzjCKgz-",
    "outputId": "f0e498cd-34f6-406b-8a3c-a4653a4c58dc"
   },
   "outputs": [
    {
     "name": "stdout",
     "output_type": "stream",
     "text": [
      "Test loss: 0.549864679324668\n",
      "Test accuracy: 0.7024757129762734\n"
     ]
    }
   ],
   "source": [
    "score = model.evaluate(x_test, y_test, verbose=0)\n",
    "print(\"Test loss:\", score[0])\n",
    "print(\"Test accuracy:\", score[1])"
   ]
  },
  {
   "cell_type": "code",
   "execution_count": 49,
   "metadata": {},
   "outputs": [
    {
     "data": {
      "image/png": "[encoded data removed]",
      "text/plain": [
       "<Figure size 432x288 with 1 Axes>"
      ]
     },
     "metadata": {
      "needs_background": "light"
     },
     "output_type": "display_data"
    }
   ],
   "source": [
    "cfm(y_test, model.predict(x_test), [\"Adoption\", \"Rejection\"], \"discret_binaire\")"
   ]
  },
  {
   "cell_type": "code",
   "execution_count": 50,
   "metadata": {
    "colab": {
     "base_uri": "https://localhost:8080/",
     "height": 293
    },
    "colab_type": "code",
    "executionInfo": {
     "elapsed": 636314,
     "status": "ok",
     "timestamp": 1551477638609,
     "user": {
      "displayName": "Quentin Fournier",
      "photoUrl": "https://lh3.googleusercontent.com/--7LcocvGIHw/AAAAAAAAAAI/AAAAAAAAAA0/3JKWMmHuo-I/s64/photo.jpg",
      "userId": "15777129185599330219"
     },
     "user_tz": 300
    },
    "id": "UPehLVB3CM8P",
    "outputId": "f5d7e480-a9fc-45a4-fae0-57c3d20e863d"
   },
   "outputs": [
    {
     "data": {
      "image/png": "[encoded data removed]",
      "text/plain": [
       "<Figure size 576x288 with 2 Axes>"
      ]
     },
     "metadata": {
      "needs_background": "light"
     },
     "output_type": "display_data"
    }
   ],
   "source": [
    "plot_history(history, \"discret_binaire\")"
   ]
  },
  {
   "cell_type": "code",
   "execution_count": 51,
   "metadata": {
    "colab": {},
    "colab_type": "code",
    "id": "TXEZ15hI5r0H"
   },
   "outputs": [],
   "source": [
    "# Let\"s try with one hot vector input (except age, data which are real valued -> scaled version, and name that is arleady binary)\n",
    "one_hot_animal_breed = np.eye(len(set(x[:, 3])))[x[:, 3].astype(\"int\")]\n",
    "one_hot_color = np.eye(len(set(x[:, 4])))[x[:, 4].astype(\"int\")]\n",
    "one_hot_condition = np.eye(len(set(x[:, 5])))[x[:, 5].astype(\"int\")]\n",
    "one_hot_type = np.eye(len(set(x[:, 6])))[x[:, 6].astype(\"int\")]\n",
    "one_hot_sex = np.eye(len(set(x[:, 7])))[x[:, 7].astype(\"int\")]\n",
    "\n",
    "x_one_hot = np.concatenate(\n",
    "    (x_scaled[:, :2], x[:, 2].reshape(-1, 1), one_hot_animal_breed,\n",
    "     one_hot_color, one_hot_condition, one_hot_type, one_hot_sex),\n",
    "    axis=1)"
   ]
  },
  {
   "cell_type": "code",
   "execution_count": 52,
   "metadata": {
    "colab": {},
    "colab_type": "code",
    "id": "OYlMZ7SG8tVu"
   },
   "outputs": [],
   "source": [
    "# split dataset into a training, validation and test set\n",
    "x_train, x_test, y_train, y_test = train_test_split(\n",
    "    x_one_hot, binary_y, test_size=0.2, stratify=binary_y)\n",
    "# we split first (train/test) then (train/valid) 12.5% of 80% is the same as 10% of 100%\n",
    "x_train, x_val, y_train, y_val = train_test_split(\n",
    "    x_train, y_train, test_size=0.125, stratify=y_train)"
   ]
  },
  {
   "cell_type": "code",
   "execution_count": 53,
   "metadata": {
    "colab": {
     "base_uri": "https://localhost:8080/",
     "height": 70
    },
    "colab_type": "code",
    "executionInfo": {
     "elapsed": 186,
     "status": "ok",
     "timestamp": 1551477774199,
     "user": {
      "displayName": "Quentin Fournier",
      "photoUrl": "https://lh3.googleusercontent.com/--7LcocvGIHw/AAAAAAAAAAI/AAAAAAAAAA0/3JKWMmHuo-I/s64/photo.jpg",
      "userId": "15777129185599330219"
     },
     "user_tz": 300
    },
    "id": "w_qUjSBL9NFS",
    "outputId": "4fbd09c9-1336-4bf5-8371-e127372b3844"
   },
   "outputs": [
    {
     "name": "stdout",
     "output_type": "stream",
     "text": [
      "(55842, 2709)\n",
      "(7978, 2709)\n",
      "(15955, 2709)\n"
     ]
    }
   ],
   "source": [
    "print(x_train.shape)\n",
    "print(x_val.shape)\n",
    "print(x_test.shape)"
   ]
  },
  {
   "cell_type": "code",
   "execution_count": 54,
   "metadata": {
    "colab": {
     "base_uri": "https://localhost:8080/",
     "height": 1240
    },
    "colab_type": "code",
    "executionInfo": {
     "elapsed": 121112,
     "status": "ok",
     "timestamp": 1551478216714,
     "user": {
      "displayName": "Quentin Fournier",
      "photoUrl": "https://lh3.googleusercontent.com/--7LcocvGIHw/AAAAAAAAAAI/AAAAAAAAAA0/3JKWMmHuo-I/s64/photo.jpg",
      "userId": "15777129185599330219"
     },
     "user_tz": 300
    },
    "id": "fDSP6_vD9Uut",
    "outputId": "6787e699-49e1-458e-cd77-006964333ecc"
   },
   "outputs": [
    {
     "name": "stdout",
     "output_type": "stream",
     "text": [
      "_________________________________________________________________\n",
      "Layer (type)                 Output Shape              Param #   \n",
      "=================================================================\n",
      "input_3 (InputLayer)         (None, 2709)              0         \n",
      "_________________________________________________________________\n",
      "batch_normalization_10 (Batc (None, 2709)              10836     \n",
      "_________________________________________________________________\n",
      "dense_10 (Dense)             (None, 128)               346880    \n",
      "_________________________________________________________________\n",
      "batch_normalization_11 (Batc (None, 128)               512       \n",
      "_________________________________________________________________\n",
      "dropout_8 (Dropout)          (None, 128)               0         \n",
      "_________________________________________________________________\n",
      "activation_10 (Activation)   (None, 128)               0         \n",
      "_________________________________________________________________\n",
      "dense_11 (Dense)             (None, 64)                8256      \n",
      "_________________________________________________________________\n",
      "batch_normalization_12 (Batc (None, 64)                256       \n",
      "_________________________________________________________________\n",
      "dropout_9 (Dropout)          (None, 64)                0         \n",
      "_________________________________________________________________\n",
      "activation_11 (Activation)   (None, 64)                0         \n",
      "_________________________________________________________________\n",
      "dense_12 (Dense)             (None, 32)                2080      \n",
      "_________________________________________________________________\n",
      "batch_normalization_13 (Batc (None, 32)                128       \n",
      "_________________________________________________________________\n",
      "dropout_10 (Dropout)         (None, 32)                0         \n",
      "_________________________________________________________________\n",
      "activation_12 (Activation)   (None, 32)                0         \n",
      "_________________________________________________________________\n",
      "dense_13 (Dense)             (None, 1)                 33        \n",
      "_________________________________________________________________\n",
      "activation_13 (Activation)   (None, 1)                 0         \n",
      "=================================================================\n",
      "Total params: 368,981\n",
      "Trainable params: 363,115\n",
      "Non-trainable params: 5,866\n",
      "_________________________________________________________________\n"
     ]
    }
   ],
   "source": [
    "input = Input(shape=(2709, ))\n",
    "dense = BatchNormalization()(input)\n",
    "dense = Dense(128)(dense)\n",
    "dense = BatchNormalization()(dense)\n",
    "dense = Dropout(0.75)(dense)\n",
    "dense = Activation(\"relu\")(dense)\n",
    "dense = Dense(64)(dense)\n",
    "dense = BatchNormalization()(dense)\n",
    "dense = Dropout(0.75)(dense)\n",
    "dense = Activation(\"relu\")(dense)\n",
    "dense = Dense(32)(dense)\n",
    "dense = BatchNormalization()(dense)\n",
    "dense = Dropout(0.75)(dense)\n",
    "dense = Activation(\"relu\")(dense)\n",
    "dense = Dense(1)(dense)\n",
    "output = Activation(\"sigmoid\")(dense)\n",
    "\n",
    "model = Model(inputs=input, outputs=output)\n",
    "\n",
    "model.compile(\n",
    "    loss=\"binary_crossentropy\", optimizer=\"Adam\", metrics=[\"accuracy\"])\n",
    "model.summary()"
   ]
  },
  {
   "cell_type": "code",
   "execution_count": 55,
   "metadata": {},
   "outputs": [
    {
     "name": "stdout",
     "output_type": "stream",
     "text": [
      "{0: 1.0, 1: 1.3736291762305535}\n"
     ]
    }
   ],
   "source": [
    "key, value = np.unique(y_train, return_counts=True)\n",
    "class_weight = dict(zip(key, max(value) / value))\n",
    "print(class_weight)"
   ]
  },
  {
   "cell_type": "code",
   "execution_count": 56,
   "metadata": {},
   "outputs": [
    {
     "name": "stdout",
     "output_type": "stream",
     "text": [
      "Train on 55842 samples, validate on 7978 samples\n",
      "Epoch 1/9999\n",
      "55842/55842 [==============================] - 6s 109us/step - loss: 0.8609 - acc: 0.5198 - val_loss: 0.6726 - val_acc: 0.5800\n",
      "Epoch 2/9999\n",
      "55842/55842 [==============================] - 4s 72us/step - loss: 0.7315 - acc: 0.5459 - val_loss: 0.6609 - val_acc: 0.5819\n",
      "Epoch 3/9999\n",
      "55842/55842 [==============================] - 4s 64us/step - loss: 0.6801 - acc: 0.5687 - val_loss: 0.6407 - val_acc: 0.5926\n",
      "Epoch 4/9999\n",
      "55842/55842 [==============================] - 4s 66us/step - loss: 0.6542 - acc: 0.5895 - val_loss: 0.6172 - val_acc: 0.6465\n",
      "Epoch 5/9999\n",
      "55842/55842 [==============================] - 5s 83us/step - loss: 0.6305 - acc: 0.6105 - val_loss: 0.5964 - val_acc: 0.6477\n",
      "Epoch 6/9999\n",
      "55842/55842 [==============================] - 4s 80us/step - loss: 0.6163 - acc: 0.6257 - val_loss: 0.5847 - val_acc: 0.6613\n",
      "Epoch 7/9999\n",
      "55842/55842 [==============================] - 4s 78us/step - loss: 0.6049 - acc: 0.6424 - val_loss: 0.5772 - val_acc: 0.6729\n",
      "Epoch 8/9999\n",
      "55842/55842 [==============================] - 4s 80us/step - loss: 0.5959 - acc: 0.6546 - val_loss: 0.5722 - val_acc: 0.6836\n",
      "Epoch 9/9999\n",
      "55842/55842 [==============================] - 5s 81us/step - loss: 0.5906 - acc: 0.6633 - val_loss: 0.5689 - val_acc: 0.6939\n",
      "Epoch 10/9999\n",
      "55842/55842 [==============================] - 5s 82us/step - loss: 0.5821 - acc: 0.6768 - val_loss: 0.5643 - val_acc: 0.6970\n",
      "Epoch 11/9999\n",
      "55842/55842 [==============================] - 5s 83us/step - loss: 0.5776 - acc: 0.6815 - val_loss: 0.5624 - val_acc: 0.6979\n",
      "Epoch 12/9999\n",
      "55842/55842 [==============================] - 4s 79us/step - loss: 0.5728 - acc: 0.6837 - val_loss: 0.5617 - val_acc: 0.6980\n",
      "Epoch 13/9999\n",
      "55842/55842 [==============================] - 4s 79us/step - loss: 0.5695 - acc: 0.6901 - val_loss: 0.5609 - val_acc: 0.6993\n",
      "Epoch 14/9999\n",
      "55842/55842 [==============================] - 4s 74us/step - loss: 0.5665 - acc: 0.6949 - val_loss: 0.5602 - val_acc: 0.7018\n",
      "Epoch 15/9999\n",
      "55842/55842 [==============================] - 5s 82us/step - loss: 0.5623 - acc: 0.7004 - val_loss: 0.5593 - val_acc: 0.7031\n",
      "Epoch 16/9999\n",
      "55842/55842 [==============================] - 4s 80us/step - loss: 0.5590 - acc: 0.7026 - val_loss: 0.5582 - val_acc: 0.7059\n",
      "Epoch 17/9999\n",
      "55842/55842 [==============================] - 4s 79us/step - loss: 0.5549 - acc: 0.7094 - val_loss: 0.5583 - val_acc: 0.7093\n",
      "Epoch 18/9999\n",
      "55842/55842 [==============================] - 4s 81us/step - loss: 0.5539 - acc: 0.7099 - val_loss: 0.5586 - val_acc: 0.7091\n",
      "Epoch 19/9999\n",
      "55842/55842 [==============================] - 5s 81us/step - loss: 0.5515 - acc: 0.7141 - val_loss: 0.5580 - val_acc: 0.7120\n",
      "Epoch 20/9999\n",
      "55842/55842 [==============================] - 5s 81us/step - loss: 0.5485 - acc: 0.7151 - val_loss: 0.5583 - val_acc: 0.7122\n",
      "Epoch 21/9999\n",
      "55842/55842 [==============================] - 5s 83us/step - loss: 0.5474 - acc: 0.7157 - val_loss: 0.5589 - val_acc: 0.7133\n",
      "Epoch 22/9999\n",
      "55842/55842 [==============================] - 4s 78us/step - loss: 0.5438 - acc: 0.7175 - val_loss: 0.5599 - val_acc: 0.7122\n",
      "Epoch 23/9999\n",
      "55842/55842 [==============================] - 4s 77us/step - loss: 0.5421 - acc: 0.7208 - val_loss: 0.5614 - val_acc: 0.7143\n",
      "Epoch 24/9999\n",
      "55842/55842 [==============================] - 4s 80us/step - loss: 0.5428 - acc: 0.7203 - val_loss: 0.5621 - val_acc: 0.7108\n",
      "Epoch 25/9999\n",
      "55842/55842 [==============================] - 4s 80us/step - loss: 0.5407 - acc: 0.7242 - val_loss: 0.5632 - val_acc: 0.7135\n",
      "Epoch 26/9999\n",
      "55842/55842 [==============================] - 4s 78us/step - loss: 0.5372 - acc: 0.7271 - val_loss: 0.5634 - val_acc: 0.7143\n",
      "Epoch 27/9999\n",
      "55842/55842 [==============================] - 4s 76us/step - loss: 0.5379 - acc: 0.7276 - val_loss: 0.5641 - val_acc: 0.7146\n",
      "Epoch 28/9999\n",
      "55842/55842 [==============================] - 4s 80us/step - loss: 0.5362 - acc: 0.7282 - val_loss: 0.5659 - val_acc: 0.7145\n",
      "Epoch 29/9999\n",
      "55842/55842 [==============================] - 5s 84us/step - loss: 0.5344 - acc: 0.7286 - val_loss: 0.5664 - val_acc: 0.7112\n",
      "Epoch 30/9999\n",
      "55842/55842 [==============================] - 4s 80us/step - loss: 0.5324 - acc: 0.7314 - val_loss: 0.5685 - val_acc: 0.7125\n",
      "Epoch 31/9999\n",
      "55842/55842 [==============================] - 4s 74us/step - loss: 0.5312 - acc: 0.7307 - val_loss: 0.5699 - val_acc: 0.7153\n",
      "Epoch 32/9999\n",
      "55842/55842 [==============================] - 4s 76us/step - loss: 0.5310 - acc: 0.7323 - val_loss: 0.5711 - val_acc: 0.7140\n",
      "Epoch 33/9999\n",
      "55842/55842 [==============================] - 4s 81us/step - loss: 0.5276 - acc: 0.7351 - val_loss: 0.5721 - val_acc: 0.7142\n",
      "Epoch 34/9999\n",
      "55842/55842 [==============================] - 4s 80us/step - loss: 0.5292 - acc: 0.7332 - val_loss: 0.5726 - val_acc: 0.7155\n",
      "Epoch 35/9999\n",
      "55842/55842 [==============================] - 4s 71us/step - loss: 0.5270 - acc: 0.7335 - val_loss: 0.5740 - val_acc: 0.7166\n",
      "Epoch 36/9999\n",
      "55842/55842 [==============================] - 5s 83us/step - loss: 0.5271 - acc: 0.7339 - val_loss: 0.5734 - val_acc: 0.7187\n",
      "Epoch 37/9999\n",
      "55842/55842 [==============================] - 5s 81us/step - loss: 0.5245 - acc: 0.7359 - val_loss: 0.5738 - val_acc: 0.7172\n",
      "Epoch 38/9999\n",
      "55842/55842 [==============================] - 4s 76us/step - loss: 0.5239 - acc: 0.7374 - val_loss: 0.5764 - val_acc: 0.7170\n",
      "Epoch 39/9999\n",
      "55842/55842 [==============================] - 4s 79us/step - loss: 0.5227 - acc: 0.7375 - val_loss: 0.5794 - val_acc: 0.7150\n",
      "Epoch 40/9999\n",
      "55842/55842 [==============================] - 5s 81us/step - loss: 0.5245 - acc: 0.7371 - val_loss: 0.5801 - val_acc: 0.7160\n",
      "Epoch 41/9999\n",
      "55842/55842 [==============================] - 5s 82us/step - loss: 0.5224 - acc: 0.7372 - val_loss: 0.5810 - val_acc: 0.7184\n",
      "Epoch 42/9999\n",
      "55842/55842 [==============================] - 5s 83us/step - loss: 0.5199 - acc: 0.7406 - val_loss: 0.5823 - val_acc: 0.7187\n",
      "Epoch 43/9999\n",
      "55842/55842 [==============================] - 4s 80us/step - loss: 0.5196 - acc: 0.7387 - val_loss: 0.5846 - val_acc: 0.7173\n",
      "Epoch 44/9999\n",
      "55842/55842 [==============================] - 4s 79us/step - loss: 0.5190 - acc: 0.7396 - val_loss: 0.5860 - val_acc: 0.7178\n",
      "Epoch 45/9999\n",
      "55842/55842 [==============================] - 4s 80us/step - loss: 0.5199 - acc: 0.7373 - val_loss: 0.5852 - val_acc: 0.7165\n",
      "Epoch 46/9999\n",
      "55842/55842 [==============================] - 4s 78us/step - loss: 0.5189 - acc: 0.7412 - val_loss: 0.5852 - val_acc: 0.7182\n"
     ]
    }
   ],
   "source": [
    "history = model.fit(\n",
    "    x_train,\n",
    "    y_train,\n",
    "    batch_size=512,\n",
    "    epochs=9999,\n",
    "    verbose=1,\n",
    "#     class_weight=class_weight,\n",
    "    validation_data=(x_val, y_val),\n",
    "    callbacks=[\n",
    "        callbacks.EarlyStopping(\n",
    "            monitor=\"val_acc\",\n",
    "            min_delta=0.001,\n",
    "            patience=10,\n",
    "            restore_best_weights=True)\n",
    "    ])"
   ]
  },
  {
   "cell_type": "code",
   "execution_count": 57,
   "metadata": {
    "colab": {
     "base_uri": "https://localhost:8080/",
     "height": 52
    },
    "colab_type": "code",
    "executionInfo": {
     "elapsed": 121234,
     "status": "ok",
     "timestamp": 1551478218739,
     "user": {
      "displayName": "Quentin Fournier",
      "photoUrl": "https://lh3.googleusercontent.com/--7LcocvGIHw/AAAAAAAAAAI/AAAAAAAAAA0/3JKWMmHuo-I/s64/photo.jpg",
      "userId": "15777129185599330219"
     },
     "user_tz": 300
    },
    "id": "sEobzHqhKckC",
    "outputId": "8d181dd0-2e1f-4fad-8a88-72bb84cf6416"
   },
   "outputs": [
    {
     "name": "stdout",
     "output_type": "stream",
     "text": [
      "Test loss: 0.568720673474351\n",
      "Test accuracy: 0.7220933876340945\n"
     ]
    }
   ],
   "source": [
    "score = model.evaluate(x_test, y_test, verbose=0)\n",
    "print(\"Test loss:\", score[0])\n",
    "print(\"Test accuracy:\", score[1])"
   ]
  },
  {
   "cell_type": "code",
   "execution_count": 58,
   "metadata": {},
   "outputs": [
    {
     "data": {
      "image/png": "[encoded data removed]",
      "text/plain": [
       "<Figure size 432x288 with 1 Axes>"
      ]
     },
     "metadata": {
      "needs_background": "light"
     },
     "output_type": "display_data"
    }
   ],
   "source": [
    "cfm(y_test, model.predict(x_test), [\"Adoption\", \"Rejection\"],\n",
    "    \"one_hot_binaire\")"
   ]
  },
  {
   "cell_type": "code",
   "execution_count": 59,
   "metadata": {
    "colab": {
     "base_uri": "https://localhost:8080/",
     "height": 293
    },
    "colab_type": "code",
    "executionInfo": {
     "elapsed": 121291,
     "status": "ok",
     "timestamp": 1551478219255,
     "user": {
      "displayName": "Quentin Fournier",
      "photoUrl": "https://lh3.googleusercontent.com/--7LcocvGIHw/AAAAAAAAAAI/AAAAAAAAAA0/3JKWMmHuo-I/s64/photo.jpg",
      "userId": "15777129185599330219"
     },
     "user_tz": 300
    },
    "id": "AGNLSKuY-f-o",
    "outputId": "b198c2ae-c0bc-425d-e5e9-fc7c11aaca87"
   },
   "outputs": [
    {
     "data": {
      "image/png": "[encoded data removed]",
      "text/plain": [
       "<Figure size 576x288 with 2 Axes>"
      ]
     },
     "metadata": {
      "needs_background": "light"
     },
     "output_type": "display_data"
    }
   ],
   "source": [
    "plot_history(history, \"one_hot_binaire\")"
   ]
  }
 ],
 "metadata": {
  "accelerator": "GPU",
  "colab": {
   "collapsed_sections": [],
   "name": "notebook.ipynb",
   "provenance": [],
   "version": "0.3.2"
  },
  "kernelspec": {
   "display_name": "Python 3",
   "language": "python",
   "name": "python3"
  },
  "language_info": {
   "codemirror_mode": {
    "name": "ipython",
    "version": 3
   },
   "file_extension": ".py",
   "mimetype": "text/x-python",
   "name": "python",
   "nbconvert_exporter": "python",
   "pygments_lexer": "ipython3",
   "version": "3.6.7"
  }
 },
 "nbformat": 4,
 "nbformat_minor": 1
}

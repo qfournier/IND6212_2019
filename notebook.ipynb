{
 "cells": [
  {
   "cell_type": "markdown",
   "metadata": {},
   "source": [
    "# IND6212 Project\n",
    "---"
   ]
  },
  {
   "cell_type": "code",
   "execution_count": 1,
   "metadata": {
    "colab": {},
    "colab_type": "code",
    "id": "hJEkOKsOmOe6"
   },
   "outputs": [],
   "source": [
    "# import libraries\n",
    "import csv\n",
    "import numpy as np"
   ]
  },
  {
   "cell_type": "code",
   "execution_count": 2,
   "metadata": {
    "colab": {},
    "colab_type": "code",
    "id": "zAI5juMCi9NW"
   },
   "outputs": [],
   "source": [
    "# if runned on colaboratory\n",
    "GOOGLE = False\n",
    "if GOOGLE:\n",
    "    # Load the Drive helper and mount\n",
    "    from google.colab import drive\n",
    "    drive.mount('/content/drive/')\n",
    "    path = \"/content/drive/My Drive/EPM/PhD/IND6212/Projet/\"\n",
    "else:\n",
    "    path = \"\""
   ]
  },
  {
   "cell_type": "code",
   "execution_count": 3,
   "metadata": {
    "colab": {},
    "colab_type": "code",
    "id": "2U3Rv1zlnD4l"
   },
   "outputs": [],
   "source": [
    "# read intakes\n",
    "with open('{}data/aac_intakes.csv'.format(path), 'r') as file:\n",
    "    reader = csv.reader(file)\n",
    "    header_intake = next(reader)\n",
    "    intakes = [[value for value in row] for row in reader]"
   ]
  },
  {
   "cell_type": "code",
   "execution_count": 4,
   "metadata": {
    "colab": {},
    "colab_type": "code",
    "id": "yiA6eZAn6y7H"
   },
   "outputs": [],
   "source": [
    "# read outcomes\n",
    "with open('{}data/aac_outcomes.csv'.format(path), 'r') as file:\n",
    "    reader = csv.reader(file)\n",
    "    header_outcome = next(reader)\n",
    "    outcomes = [[value for value in row] for row in reader]"
   ]
  },
  {
   "cell_type": "code",
   "execution_count": 5,
   "metadata": {
    "colab": {},
    "colab_type": "code",
    "id": "QzKchubB-Aut"
   },
   "outputs": [],
   "source": [
    "# convert numpy array\n",
    "header_intake = np.asarray(header_intake)\n",
    "header_outcome = np.asarray(header_outcome)\n",
    "\n",
    "intakes = np.asarray(intakes)\n",
    "outcomes = np.asarray(outcomes)"
   ]
  },
  {
   "cell_type": "code",
   "execution_count": 6,
   "metadata": {
    "colab": {
     "base_uri": "https://localhost:8080/",
     "height": 224
    },
    "colab_type": "code",
    "id": "xNdn1KsaCQ8i",
    "outputId": "90c83032-603c-4481-9fe9-b24933dd54f4"
   },
   "outputs": [
    {
     "name": "stdout",
     "output_type": "stream",
     "text": [
      "Intakes\n",
      "0 : age_upon_intake\n",
      "1 : animal_id\n",
      "2 : animal_type\n",
      "3 : breed\n",
      "4 : color\n",
      "5 : datetime\n",
      "6 : datetime2\n",
      "7 : found_location\n",
      "8 : intake_condition\n",
      "9 : intake_type\n",
      "10 : name\n",
      "11 : sex_upon_intake\n"
     ]
    }
   ],
   "source": [
    "print(\"Intakes\")\n",
    "for i, c in enumerate(header_intake):\n",
    "    print(\"{} : {}\".format(i, c))"
   ]
  },
  {
   "cell_type": "code",
   "execution_count": 7,
   "metadata": {},
   "outputs": [
    {
     "name": "stdout",
     "output_type": "stream",
     "text": [
      "Outcomes\n",
      "0 : age_upon_outcome\n",
      "1 : animal_id\n",
      "2 : animal_type\n",
      "3 : breed\n",
      "4 : color\n",
      "5 : date_of_birth\n",
      "6 : datetime\n",
      "7 : monthyear\n",
      "8 : name\n",
      "9 : outcome_subtype\n",
      "10 : outcome_type\n",
      "11 : sex_upon_outcome\n"
     ]
    }
   ],
   "source": [
    "print(\"Outcomes\")\n",
    "for i, c in enumerate(header_outcome):\n",
    "    print(\"{} : {}\".format(i, c))"
   ]
  },
  {
   "cell_type": "code",
   "execution_count": 8,
   "metadata": {
    "colab": {
     "base_uri": "https://localhost:8080/",
     "height": 34
    },
    "colab_type": "code",
    "id": "2-znohIVH8QD",
    "outputId": "a06bd522-e7e6-4315-84e2-37fa289ec477"
   },
   "outputs": [
    {
     "name": "stdout",
     "output_type": "stream",
     "text": [
      "79776 | 411                                                                                                                "
     ]
    }
   ],
   "source": [
    "# get the last outcome (it can be transfered multiple times, we want the last update)\n",
    "# if no outcome, then we remove the example (line)\n",
    "counter = 0\n",
    "data = []\n",
    "for i, x in enumerate(intakes, 1):\n",
    "    index = np.where(outcomes[:, 1] == x[1])\n",
    "    if len(index[0]) > 0 and outcomes[index[0][-1], 10]:\n",
    "        data.append(np.concatenate((x, [outcomes[index[0][-1], 10]])))\n",
    "    else:\n",
    "        counter += 1\n",
    "    print(\"\\r{} | {}\".format(i - counter, counter), end=\" \")"
   ]
  },
  {
   "cell_type": "code",
   "execution_count": 9,
   "metadata": {
    "colab": {},
    "colab_type": "code",
    "id": "pPVWHiH7MjGe"
   },
   "outputs": [],
   "source": [
    "# add the outcome to data\n",
    "data = np.asarray(data)\n",
    "header = np.concatenate((header_intake, [\"outcome\"]))"
   ]
  },
  {
   "cell_type": "markdown",
   "metadata": {},
   "source": [
    "The author of the dataset explained that Rto-Adopt = Return to Owner and Disposal = Died (see [link](https://www.kaggle.com/aaronschlegel/austin-animal-center-shelter-intakes-and-outcomes/discussion/56707#latest-329163))"
   ]
  },
  {
   "cell_type": "code",
   "execution_count": 10,
   "metadata": {
    "scrolled": true
   },
   "outputs": [],
   "source": [
    "for row in data:\n",
    "    if row[-1] == \"Rto-Adopt\":\n",
    "        row[-1]=\"Return to Owner\"\n",
    "    if row[-1] == \"Disposal\":\n",
    "        row[-1]=\"Died\""
   ]
  },
  {
   "cell_type": "code",
   "execution_count": 11,
   "metadata": {
    "colab": {},
    "colab_type": "code",
    "id": "N00JRUjAM_vU"
   },
   "outputs": [],
   "source": [
    "# remove the animal id\n",
    "data = np.delete(data, 1, axis=1)\n",
    "header = np.delete(header, 1, axis=0)"
   ]
  },
  {
   "cell_type": "code",
   "execution_count": 12,
   "metadata": {
    "colab": {},
    "colab_type": "code",
    "id": "sCfUmh8QSIr9"
   },
   "outputs": [],
   "source": [
    "# convert intake date into a real value (year)\n",
    "for x in data:\n",
    "    s = x[0].split()\n",
    "    if \"year\" in s[1]:\n",
    "        x[0] = float(s[0])\n",
    "    if \"month\" in s[1]:\n",
    "        x[0] = float(s[0]) / 12.\n",
    "    if \"week\" in s[1]:\n",
    "        x[0] = float(s[0]) / 52."
   ]
  },
  {
   "cell_type": "code",
   "execution_count": 13,
   "metadata": {
    "colab": {},
    "colab_type": "code",
    "id": "24LjYC4JaCfB"
   },
   "outputs": [],
   "source": [
    "# convertir animal breed to integer\n",
    "mapping_breed, breed_int = np.unique(data[:, 2], return_inverse=True)\n",
    "data = np.delete(data, [1, 2], axis=1)\n",
    "header = np.delete(header, [1, 2], axis=0)\n",
    "data = np.concatenate((data, breed_int.reshape(-1, 1)), axis=1)\n",
    "header = np.concatenate((header, [\"animal_breed\"]))"
   ]
  },
  {
   "cell_type": "code",
   "execution_count": 14,
   "metadata": {},
   "outputs": [],
   "source": [
    "# convert color to integer\n",
    "mapping_color, color_int = np.unique(data[:, 1], return_inverse=True)\n",
    "data = np.delete(data, 1, axis=1)\n",
    "header = np.delete(header, 1, axis=0)\n",
    "data = np.concatenate((data, color_int.reshape(-1, 1)), axis=1)\n",
    "header = np.concatenate((header, [\"color\"]))"
   ]
  },
  {
   "cell_type": "code",
   "execution_count": 15,
   "metadata": {},
   "outputs": [],
   "source": [
    "# remove location\n",
    "data = np.delete(data, 3, axis=1)\n",
    "header = np.delete(header, 3, axis=0)"
   ]
  },
  {
   "cell_type": "code",
   "execution_count": 16,
   "metadata": {},
   "outputs": [
    {
     "name": "stdout",
     "output_type": "stream",
     "text": [
      "Datetime duplicated\n"
     ]
    }
   ],
   "source": [
    "# check if datetime and datetime2 are identical\n",
    "if np.array_equal(data[:, 1], data[:, 2]):\n",
    "    print(\"Datetime duplicated\")\n",
    "else:\n",
    "    print(\"Datetime not duplicated\")"
   ]
  },
  {
   "cell_type": "code",
   "execution_count": 17,
   "metadata": {},
   "outputs": [],
   "source": [
    "# remove datetime2\n",
    "data = np.delete(data, 2, axis=1)\n",
    "header = np.delete(header, 2, axis=0)"
   ]
  },
  {
   "cell_type": "code",
   "execution_count": 18,
   "metadata": {},
   "outputs": [],
   "source": [
    "# convert condition to integer\n",
    "mapping_condition, condition_int = np.unique(data[:, 2], return_inverse=True)\n",
    "data = np.delete(data, 2, axis=1)\n",
    "header = np.delete(header, 2, axis=0)\n",
    "data = np.concatenate((data, condition_int.reshape(-1,1)), axis=1)\n",
    "header = np.concatenate((header, [\"condition\"]))"
   ]
  },
  {
   "cell_type": "code",
   "execution_count": 19,
   "metadata": {},
   "outputs": [],
   "source": [
    "# convert type to integer\n",
    "mapping_type, type_int = np.unique(data[:, 2], return_inverse=True)\n",
    "data = np.delete(data, 2, axis=1)\n",
    "header = np.delete(header, 2, axis=0)\n",
    "data = np.concatenate((data, type_int.reshape(-1,1)), axis=1)\n",
    "header = np.concatenate((header, [\"type\"]))"
   ]
  },
  {
   "cell_type": "code",
   "execution_count": 20,
   "metadata": {},
   "outputs": [
    {
     "name": "stdout",
     "output_type": "stream",
     "text": [
      "Outcome              |    with name    |  without name  \n",
      "--------------------------------------------------------\n",
      "Return to Owner      |     25.85%      |      1.91%     \n",
      "Adoption             |     50.43%      |     23.37%     \n",
      "Transfer             |     20.55%      |     51.64%     \n",
      "Euthanasia           |      2.66%      |     19.92%     \n",
      "Died                 |      0.45%      |      3.05%     \n",
      "Missing              |      0.06%      |      0.04%     \n",
      "Relocate             |      0.00%      |      0.06%     \n"
     ]
    }
   ],
   "source": [
    "# check if name as any impact\n",
    "out = list(set(data[:,4]))\n",
    "out_name = [0 for _ in out]\n",
    "out_noname = [0 for _ in out]\n",
    "name, noname = 0, 0\n",
    "\n",
    "for d in data:\n",
    "    if d[2]:\n",
    "        name += 1\n",
    "        out_name[out.index(d[4])] += 1\n",
    "    else:\n",
    "        noname += 1\n",
    "        out_noname[out.index(d[4])] += 1\n",
    "out_noname = [o/noname for o in out_noname]\n",
    "out_name = [o/name for o in out_name]\n",
    "\n",
    "print(\"{:20s} | {:^15s} | {:^15s}\".format(\"Outcome\", \"with name\", \"without name\"))\n",
    "print(\"-\"*56)\n",
    "for a, b, c in zip(out, out_name, out_noname):\n",
    "    print(\"{:20s} | {:^15.2%} | {:^15.2%}\".format(a, b, c))"
   ]
  },
  {
   "cell_type": "code",
   "execution_count": 21,
   "metadata": {},
   "outputs": [],
   "source": [
    "# the presence of a name seems to have an impact on the outcome\n",
    "# its value should not have any effect (difficult to evaluate)\n",
    "# replace absence of a name by 0 and presence of a name by 1\n",
    "for row in data:\n",
    "    row[2] = 1 if row[2] else 0"
   ]
  },
  {
   "cell_type": "code",
   "execution_count": 22,
   "metadata": {},
   "outputs": [
    {
     "name": "stdout",
     "output_type": "stream",
     "text": [
      "Intact Female        :  23739 ( 29.8%)\n",
      "Intact Male          :  25355 ( 31.8%)\n",
      "NULL                 :      1 (  0.0%)\n",
      "Neutered Male        :  12728 ( 16.0%)\n",
      "Spayed Female        :  11168 ( 14.0%)\n",
      "Unknown              :   6785 (  8.5%)\n"
     ]
    }
   ],
   "source": [
    "# sex analysis\n",
    "sex, count = np.unique(data[:, 3], return_counts=True)\n",
    "for s, c in zip(sex, count):\n",
    "    print(\"{:20s} : {:6d} ({:6.1%})\".format(s, c, c / data.shape[0]))"
   ]
  },
  {
   "cell_type": "code",
   "execution_count": 23,
   "metadata": {},
   "outputs": [
    {
     "name": "stdout",
     "output_type": "stream",
     "text": [
      "              Return to Owner   Adoption      Transfer     Euthanasia       Died        Missing       Relocate   \n",
      "Neutered Male      4958          4699          2429          597            42            3             0       \n",
      "Spayed Female      3950          4690          2099          377            48            4             0       \n",
      "   Unknown          84            70           2747          3392          476            2             14      \n",
      " Intact Male       3523         12178          8282          1099          255            18            0       \n",
      "Intact Female      2246         11972          8447          882           172            19            1       \n",
      "     NULL           1             0             0             0             0             0             0       \n"
     ]
    }
   ],
   "source": [
    "# check if name as any impact\n",
    "out = list(set(data[:, 4]))\n",
    "sex = list(set(data[:, 3]))\n",
    "table = [[0 for _ in out] for _ in sex]\n",
    "for d in data:\n",
    "    table[sex.index(d[3])][out.index(d[4])] += 1\n",
    "\n",
    "print(\" \" * 14, end=\"\")\n",
    "for o in out:\n",
    "    print(\"{:^14s}\".format(o), end=\"\")\n",
    "print(\"\")\n",
    "for i, s in zip(table, sex):\n",
    "    print(\"{:^14s}\".format(s), end=\"\")\n",
    "    for j in i:\n",
    "        print(\"{:^14d}\".format(j), end=\"\")\n",
    "    print(\"\")"
   ]
  },
  {
   "cell_type": "code",
   "execution_count": 24,
   "metadata": {},
   "outputs": [],
   "source": [
    "# we cannot remove unknown because it seems to have an impact on the outcome (extremly low adoption rate)\n",
    "# there is only one NULL, which is suspect, we'll remove this\n",
    "id = np.where(data[:,3] == \"NULL\")[0][0]\n",
    "data = np.delete(data, id, axis=0)"
   ]
  },
  {
   "cell_type": "code",
   "execution_count": 25,
   "metadata": {},
   "outputs": [],
   "source": [
    "# convert sex to integer\n",
    "mapping_sex, sex_int = np.unique(data[:, 3], return_inverse=True)\n",
    "data = np.delete(data, 3, axis=1)\n",
    "header = np.delete(header, 3, axis=0)\n",
    "data = np.concatenate((data, sex_int.reshape(-1,1)), axis=1)\n",
    "header = np.concatenate((header, [\"sex\"]))"
   ]
  },
  {
   "cell_type": "code",
   "execution_count": 26,
   "metadata": {
    "colab": {},
    "colab_type": "code",
    "id": "JYkWv3OrC9_r"
   },
   "outputs": [
    {
     "name": "stdout",
     "output_type": "stream",
     "text": [
      "age_upon_intake      : 8.0\n",
      "datetime             : 2015-07-05T12:59:00.000\n",
      "name                 : 1\n",
      "outcome              : Return to Owner\n",
      "animal_breed         : 1007\n",
      "color                : 498\n",
      "condition            : 3\n",
      "type                 : 3\n",
      "sex                  : 3\n",
      "-----------------------\n",
      "age_upon_intake      : 0.9166666666666666\n",
      "datetime             : 2016-04-14T18:43:00.000\n",
      "name                 : 1\n",
      "outcome              : Return to Owner\n",
      "animal_breed         : 231\n",
      "color                : 382\n",
      "condition            : 3\n",
      "type                 : 3\n",
      "sex                  : 1\n",
      "-----------------------\n",
      "age_upon_intake      : 0.07692307692307693\n",
      "datetime             : 2013-10-21T07:59:00.000\n",
      "name                 : 0\n",
      "outcome              : Transfer\n",
      "animal_breed         : 952\n",
      "color                : 194\n",
      "condition            : 7\n",
      "type                 : 3\n",
      "sex                  : 0\n",
      "-----------------------\n",
      "age_upon_intake      : 4.0\n",
      "datetime             : 2014-06-29T10:38:00.000\n",
      "name                 : 1\n",
      "outcome              : Return to Owner\n",
      "animal_breed         : 924\n",
      "color                : 415\n",
      "condition            : 3\n",
      "type                 : 3\n",
      "sex                  : 2\n",
      "-----------------------\n"
     ]
    }
   ],
   "source": [
    "for i, row in enumerate(data):\n",
    "    for h, value in zip(header, row):\n",
    "        print(\"{:20s} : {}\".format(h, value))\n",
    "    print(\"-----------------------\")\n",
    "    if i > 2:\n",
    "        break"
   ]
  },
  {
   "cell_type": "code",
   "execution_count": null,
   "metadata": {},
   "outputs": [],
   "source": []
  }
 ],
 "metadata": {
  "accelerator": "GPU",
  "colab": {
   "collapsed_sections": [],
   "name": "notebook.ipynb",
   "provenance": [],
   "version": "0.3.2"
  },
  "kernelspec": {
   "display_name": "Python 3",
   "language": "python",
   "name": "python3"
  },
  "language_info": {
   "codemirror_mode": {
    "name": "ipython",
    "version": 3
   },
   "file_extension": ".py",
   "mimetype": "text/x-python",
   "name": "python",
   "nbconvert_exporter": "python",
   "pygments_lexer": "ipython3",
   "version": "3.6.7"
  }
 },
 "nbformat": 4,
 "nbformat_minor": 1
}
